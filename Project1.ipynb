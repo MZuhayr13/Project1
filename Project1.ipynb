{
 "cells": [
  {
   "cell_type": "markdown",
   "metadata": {},
   "source": [
    "<h3 align=\"center\">Machine Learning</h3>\n",
    "<h4 align=\"center\">DSECLZ G565</h4>\n",
    "<h4 align=\"center\">Assignment 2 – PS3</h4>"
   ]
  },
  {
   "cell_type": "markdown",
   "metadata": {},
   "source": [
    "## Group 108\n",
    "\n",
    "- REDDYVARI SASI KUMAR REDDY - 2021FC04030  \n",
    "- DHRUBA ADHIKARY - 2021FC04034\n",
    "- MOHD SAIF ALI - 2021fC04026\n",
    "\n",
    "## Dataset : \n",
    "Order Master Dataset\n",
    "\n",
    "## Problem Statement:\n",
    "Order Master Dataset to predict if order cancellation will happen or not"
   ]
  },
  {
   "cell_type": "markdown",
   "metadata": {},
   "source": [
    "<a class=\"anchor\" id=\"0.1\"></a>\n",
    "# **Table of Contents**\n",
    "\n",
    "1.\t[Introduction to Random Forest algorithm](#1)\n",
    "2.\t[Random Forest algorithm intuition](#2)\n",
    "3.\t[Types of Ensembling Techniques](#3)\n",
    "4.\t[Applications of Random Forest algorithm](#4)\n",
    "5.\t[Import libraries](#5)\n",
    "6.\t[Import dataset](#6)\n",
    "7.\t[Exploratory data analysis](#7)\n",
    "8.\t[Declare feature vector and target variable](#8)\n",
    "9.\t[Split data into separate training and test set](#9)\n",
    "10.\t[Feature engineering](#10)\n",
    "11.\t[Feature scaling](#11)\n",
    "12.\t[Model training](#12)\n",
    "13.\t[Predict the results](#13)\n",
    "14.\t[Check accuracy score](#14)\n",
    "15.\t[Confusion matrix](#15)\n",
    "16.\t[Classification metrices](#16)\n",
    "17.\t[Calculate class probabilities](#17)\n",
    "18.\t[ROC - AUC](#18)\n",
    "19.\t[k-Fold Cross Validation](#19)\n",
    "\n"
   ]
  },
  {
   "cell_type": "markdown",
   "metadata": {},
   "source": [
    "# **1. Introduction to Random Forest algorithm** <a class=\"anchor\" id=\"1\"></a>\n",
    "\n",
    "\n",
    "In machine learning, Random Forest classification is a straightforward and powerful algorithm for the classification task.It is a supervised Machine learning algorithm.Random Forest classification is an Ensembling Technique. In Layman Terms, it is a technique similar to consider if planning to buy a phone, the highest rating is considered as the best. In similar terms, a collection of decision trees is trained and the mean or highest count is considered as the prediction.\n",
    "\n",
    "Random Forest is a meta estimator that fits a number of decision tree classifiers on various sub-samples of the dataset and uses averaging to improve the predictive accuracy and control over-fitting"
   ]
  },
  {
   "cell_type": "markdown",
   "metadata": {},
   "source": [
    "# **2. Random Forest algorithm intuition** <a class=\"anchor\" id=\"2\"></a>\n",
    "\n",
    "Random Forest Classifier tries to find the Gini index of all the splits possible and will choose that feature for the root node which will give the lowest Gini index. The lowest Gini index means low impurity.\n",
    "\n",
    "When trained using one decision trees with a sample of the dataset, it performs good with the trained dataset. Thus shows low bias but high Variance. To encounter this, random forest uses various decision trees and it is trained as a hyper parameter. Thus acheiving Low bias and Low Variance."
   ]
  },
  {
   "cell_type": "markdown",
   "metadata": {},
   "source": [
    "# **3. Types of Ensembling Techniques** <a class=\"anchor\" id=\"3\"></a>\n",
    "\n",
    "\n",
    "There are 2 types of Ensembling Techniques. The 2 types are listed below:-\n",
    "\n",
    "  1. Bagging  : Parallel Way of training\n",
    "\n",
    "  2. Boosting : Serial Way of training\n"
   ]
  },
  {
   "cell_type": "markdown",
   "metadata": {},
   "source": [
    "# **4. Applications of Random Forest algorithm** <a class=\"anchor\" id=\"4\"></a>\n",
    "\n",
    "\n",
    "Random Forest is suitable to use in both Regression and Classification.\n",
    "\n",
    "1. Fraud Detection\n",
    "2. Customer Segmentation\n",
    "3. Disease Prediction\n",
    "4. Recommender systems"
   ]
  },
  {
   "cell_type": "markdown",
   "metadata": {
    "id": "M-chWMbwM_Et"
   },
   "source": [
    "# **5. Import libraries** <a class=\"anchor\" id=\"5\"></a>"
   ]
  },
  {
   "cell_type": "code",
   "execution_count": 6,
   "metadata": {
    "id": "JU5lVF64M_Eu"
   },
   "outputs": [],
   "source": [
    "import numpy as np # linear algebra\n",
    "import pandas as pd # data processing, CSV file I/O (e.g. pd.read_csv)\n",
    "import matplotlib.pyplot as plt # for data visualization purposes\n",
    "import seaborn as sns # for statistical data visualization\n",
    "%matplotlib inline\n",
    "import missingno"
   ]
  },
  {
   "cell_type": "code",
   "execution_count": 7,
   "metadata": {
    "id": "rmdOIjAuM_Ew"
   },
   "outputs": [],
   "source": [
    "import warnings\n",
    "\n",
    "warnings.filterwarnings('ignore')"
   ]
  },
  {
   "cell_type": "markdown",
   "metadata": {
    "id": "5T5bqe-mM_Ex"
   },
   "source": [
    "# **6. Import dataset** <a class=\"anchor\" id=\"6\"></a>\n"
   ]
  },
  {
   "cell_type": "code",
   "execution_count": 4,
   "metadata": {
    "colab": {
     "base_uri": "https://localhost:8080/"
    },
    "id": "FWT4gojq6XTK",
    "outputId": "a33e634b-87ca-4d6a-8395-4baf1f053a46"
   },
   "outputs": [],
   "source": [
    "# Mounting the Google Drive\n",
    "from google.colab import drive"
   ]
  },
  {
   "cell_type": "code",
   "execution_count": 88,
   "metadata": {
    "colab": {
     "base_uri": "https://localhost:8080/"
    },
    "id": "w0DRiuM_6W0A",
    "outputId": "2dff0373-6e67-4780-d08f-eb3bc6354775"
   },
   "outputs": [
    {
     "name": "stdout",
     "output_type": "stream",
     "text": [
      "drive  sample_data\n"
     ]
    }
   ],
   "source": [
    "!ls"
   ]
  },
  {
   "cell_type": "code",
   "execution_count": 89,
   "metadata": {
    "id": "5x3GkCA06tQH"
   },
   "outputs": [],
   "source": [
    "dataset_path=\"/content/drive/MyDrive/ORDER_MASTER.csv\""
   ]
  },
  {
   "cell_type": "code",
   "execution_count": 8,
   "metadata": {
    "id": "StfAPG3PM_Ey"
   },
   "outputs": [],
   "source": [
    "# Load the dataset\n",
    "data = dataset_path\n",
    "df = pd.read_csv(data, header=0, sep=',')"
   ]
  },
  {
   "cell_type": "markdown",
   "metadata": {
    "id": "j7wvbdCDM_Ey"
   },
   "source": [
    "# **7. Exploratory data analysis** <a class=\"anchor\" id=\"7\"></a>\n",
    "\n",
    "\n"
   ]
  },
  {
   "cell_type": "code",
   "execution_count": 9,
   "metadata": {
    "colab": {
     "base_uri": "https://localhost:8080/"
    },
    "id": "69U-6ZUqM_Ez",
    "outputId": "ac787697-746e-4b3d-fa2d-b09d97a5f06f"
   },
   "outputs": [
    {
     "data": {
      "text/plain": [
       "(9962620, 26)"
      ]
     },
     "execution_count": 9,
     "metadata": {},
     "output_type": "execute_result"
    }
   ],
   "source": [
    "df.shape"
   ]
  },
  {
   "cell_type": "code",
   "execution_count": 11,
   "metadata": {},
   "outputs": [
    {
     "data": {
      "text/plain": [
       "(1048575, 26)"
      ]
     },
     "execution_count": 11,
     "metadata": {},
     "output_type": "execute_result"
    }
   ],
   "source": [
    "# A sample of data\n",
    "df = df.iloc[:1048575,:]\n",
    "df.shape"
   ]
  },
  {
   "cell_type": "markdown",
   "metadata": {
    "id": "K4cJZI6hM_E0"
   },
   "source": [
    "Observation: We can see that there are 1048575 instances and 26 attributes in the data set."
   ]
  },
  {
   "cell_type": "code",
   "execution_count": 92,
   "metadata": {
    "colab": {
     "base_uri": "https://localhost:8080/",
     "height": 275
    },
    "id": "eTDPUxqyM_E0",
    "outputId": "54c7d1c5-f83a-4106-fbe5-3303c81e0fcd"
   },
   "outputs": [
    {
     "data": {
      "text/html": [
       "\n",
       "  <div id=\"df-369779b3-f79e-4ac1-8fa7-6430bc9e93b1\">\n",
       "    <div class=\"colab-df-container\">\n",
       "      <div>\n",
       "<style scoped>\n",
       "    .dataframe tbody tr th:only-of-type {\n",
       "        vertical-align: middle;\n",
       "    }\n",
       "\n",
       "    .dataframe tbody tr th {\n",
       "        vertical-align: top;\n",
       "    }\n",
       "\n",
       "    .dataframe thead th {\n",
       "        text-align: right;\n",
       "    }\n",
       "</style>\n",
       "<table border=\"1\" class=\"dataframe\">\n",
       "  <thead>\n",
       "    <tr style=\"text-align: right;\">\n",
       "      <th></th>\n",
       "      <th>ord_num</th>\n",
       "      <th>ord_lin_no</th>\n",
       "      <th>ord_dt</th>\n",
       "      <th>ord_line_status</th>\n",
       "      <th>ord_hdr_status</th>\n",
       "      <th>ord_type</th>\n",
       "      <th>cncl_dol</th>\n",
       "      <th>rtn_dol</th>\n",
       "      <th>cncl_dt</th>\n",
       "      <th>dmd_dol</th>\n",
       "      <th>...</th>\n",
       "      <th>skn_nbr</th>\n",
       "      <th>Subcat_ID</th>\n",
       "      <th>Cat_ID</th>\n",
       "      <th>Dept_id</th>\n",
       "      <th>RTN_UNITS</th>\n",
       "      <th>cncl_units</th>\n",
       "      <th>international_order_ind</th>\n",
       "      <th>City_shipped</th>\n",
       "      <th>State_Shipped</th>\n",
       "      <th>Cntry_Shipped</th>\n",
       "    </tr>\n",
       "  </thead>\n",
       "  <tbody>\n",
       "    <tr>\n",
       "      <th>0</th>\n",
       "      <td>7513817.0</td>\n",
       "      <td>19147551.0</td>\n",
       "      <td>11-04-2019 17:22</td>\n",
       "      <td>D</td>\n",
       "      <td>S</td>\n",
       "      <td>WEB</td>\n",
       "      <td>0.0</td>\n",
       "      <td>0.0</td>\n",
       "      <td>NaN</td>\n",
       "      <td>489.58</td>\n",
       "      <td>...</td>\n",
       "      <td>9558428</td>\n",
       "      <td>969</td>\n",
       "      <td>76</td>\n",
       "      <td>4</td>\n",
       "      <td>0.0</td>\n",
       "      <td>0.0</td>\n",
       "      <td>F</td>\n",
       "      <td>PORTLAND</td>\n",
       "      <td>OR</td>\n",
       "      <td>US</td>\n",
       "    </tr>\n",
       "    <tr>\n",
       "      <th>1</th>\n",
       "      <td>9009772.0</td>\n",
       "      <td>22402482.0</td>\n",
       "      <td>01-12-2019 14:42</td>\n",
       "      <td>D</td>\n",
       "      <td>S</td>\n",
       "      <td>MOB</td>\n",
       "      <td>0.0</td>\n",
       "      <td>0.0</td>\n",
       "      <td>NaN</td>\n",
       "      <td>559.86</td>\n",
       "      <td>...</td>\n",
       "      <td>1121512</td>\n",
       "      <td>903</td>\n",
       "      <td>47</td>\n",
       "      <td>4</td>\n",
       "      <td>0.0</td>\n",
       "      <td>0.0</td>\n",
       "      <td>F</td>\n",
       "      <td>Boise</td>\n",
       "      <td>ID</td>\n",
       "      <td>US</td>\n",
       "    </tr>\n",
       "  </tbody>\n",
       "</table>\n",
       "<p>2 rows × 26 columns</p>\n",
       "</div>\n",
       "      <button class=\"colab-df-convert\" onclick=\"convertToInteractive('df-369779b3-f79e-4ac1-8fa7-6430bc9e93b1')\"\n",
       "              title=\"Convert this dataframe to an interactive table.\"\n",
       "              style=\"display:none;\">\n",
       "        \n",
       "  <svg xmlns=\"http://www.w3.org/2000/svg\" height=\"24px\"viewBox=\"0 0 24 24\"\n",
       "       width=\"24px\">\n",
       "    <path d=\"M0 0h24v24H0V0z\" fill=\"none\"/>\n",
       "    <path d=\"M18.56 5.44l.94 2.06.94-2.06 2.06-.94-2.06-.94-.94-2.06-.94 2.06-2.06.94zm-11 1L8.5 8.5l.94-2.06 2.06-.94-2.06-.94L8.5 2.5l-.94 2.06-2.06.94zm10 10l.94 2.06.94-2.06 2.06-.94-2.06-.94-.94-2.06-.94 2.06-2.06.94z\"/><path d=\"M17.41 7.96l-1.37-1.37c-.4-.4-.92-.59-1.43-.59-.52 0-1.04.2-1.43.59L10.3 9.45l-7.72 7.72c-.78.78-.78 2.05 0 2.83L4 21.41c.39.39.9.59 1.41.59.51 0 1.02-.2 1.41-.59l7.78-7.78 2.81-2.81c.8-.78.8-2.07 0-2.86zM5.41 20L4 18.59l7.72-7.72 1.47 1.35L5.41 20z\"/>\n",
       "  </svg>\n",
       "      </button>\n",
       "      \n",
       "  <style>\n",
       "    .colab-df-container {\n",
       "      display:flex;\n",
       "      flex-wrap:wrap;\n",
       "      gap: 12px;\n",
       "    }\n",
       "\n",
       "    .colab-df-convert {\n",
       "      background-color: #E8F0FE;\n",
       "      border: none;\n",
       "      border-radius: 50%;\n",
       "      cursor: pointer;\n",
       "      display: none;\n",
       "      fill: #1967D2;\n",
       "      height: 32px;\n",
       "      padding: 0 0 0 0;\n",
       "      width: 32px;\n",
       "    }\n",
       "\n",
       "    .colab-df-convert:hover {\n",
       "      background-color: #E2EBFA;\n",
       "      box-shadow: 0px 1px 2px rgba(60, 64, 67, 0.3), 0px 1px 3px 1px rgba(60, 64, 67, 0.15);\n",
       "      fill: #174EA6;\n",
       "    }\n",
       "\n",
       "    [theme=dark] .colab-df-convert {\n",
       "      background-color: #3B4455;\n",
       "      fill: #D2E3FC;\n",
       "    }\n",
       "\n",
       "    [theme=dark] .colab-df-convert:hover {\n",
       "      background-color: #434B5C;\n",
       "      box-shadow: 0px 1px 3px 1px rgba(0, 0, 0, 0.15);\n",
       "      filter: drop-shadow(0px 1px 2px rgba(0, 0, 0, 0.3));\n",
       "      fill: #FFFFFF;\n",
       "    }\n",
       "  </style>\n",
       "\n",
       "      <script>\n",
       "        const buttonEl =\n",
       "          document.querySelector('#df-369779b3-f79e-4ac1-8fa7-6430bc9e93b1 button.colab-df-convert');\n",
       "        buttonEl.style.display =\n",
       "          google.colab.kernel.accessAllowed ? 'block' : 'none';\n",
       "\n",
       "        async function convertToInteractive(key) {\n",
       "          const element = document.querySelector('#df-369779b3-f79e-4ac1-8fa7-6430bc9e93b1');\n",
       "          const dataTable =\n",
       "            await google.colab.kernel.invokeFunction('convertToInteractive',\n",
       "                                                     [key], {});\n",
       "          if (!dataTable) return;\n",
       "\n",
       "          const docLinkHtml = 'Like what you see? Visit the ' +\n",
       "            '<a target=\"_blank\" href=https://colab.research.google.com/notebooks/data_table.ipynb>data table notebook</a>'\n",
       "            + ' to learn more about interactive tables.';\n",
       "          element.innerHTML = '';\n",
       "          dataTable['output_type'] = 'display_data';\n",
       "          await google.colab.output.renderOutput(dataTable, element);\n",
       "          const docLink = document.createElement('div');\n",
       "          docLink.innerHTML = docLinkHtml;\n",
       "          element.appendChild(docLink);\n",
       "        }\n",
       "      </script>\n",
       "    </div>\n",
       "  </div>\n",
       "  "
      ],
      "text/plain": [
       "     ord_num  ord_lin_no            ord_dt ord_line_status ord_hdr_status  \\\n",
       "0  7513817.0  19147551.0  11-04-2019 17:22               D              S   \n",
       "1  9009772.0  22402482.0  01-12-2019 14:42               D              S   \n",
       "\n",
       "  ord_type  cncl_dol  rtn_dol cncl_dt  dmd_dol  ...  skn_nbr  Subcat_ID  \\\n",
       "0      WEB       0.0      0.0     NaN   489.58  ...  9558428        969   \n",
       "1      MOB       0.0      0.0     NaN   559.86  ...  1121512        903   \n",
       "\n",
       "   Cat_ID  Dept_id RTN_UNITS cncl_units  international_order_ind  \\\n",
       "0      76        4       0.0        0.0                        F   \n",
       "1      47        4       0.0        0.0                        F   \n",
       "\n",
       "   City_shipped  State_Shipped  Cntry_Shipped  \n",
       "0      PORTLAND             OR             US  \n",
       "1         Boise             ID             US  \n",
       "\n",
       "[2 rows x 26 columns]"
      ]
     },
     "execution_count": 92,
     "metadata": {},
     "output_type": "execute_result"
    }
   ],
   "source": [
    "df.head(2)"
   ]
  },
  {
   "cell_type": "code",
   "execution_count": 14,
   "metadata": {
    "colab": {
     "base_uri": "https://localhost:8080/",
     "height": 364
    },
    "id": "FA80_0B9M_E1",
    "outputId": "7c7fab13-7e45-4bc5-bc1e-b47743fd3949"
   },
   "outputs": [
    {
     "data": {
      "text/html": [
       "<div>\n",
       "<style scoped>\n",
       "    .dataframe tbody tr th:only-of-type {\n",
       "        vertical-align: middle;\n",
       "    }\n",
       "\n",
       "    .dataframe tbody tr th {\n",
       "        vertical-align: top;\n",
       "    }\n",
       "\n",
       "    .dataframe thead th {\n",
       "        text-align: right;\n",
       "    }\n",
       "</style>\n",
       "<table border=\"1\" class=\"dataframe\">\n",
       "  <thead>\n",
       "    <tr style=\"text-align: right;\">\n",
       "      <th></th>\n",
       "      <th>count</th>\n",
       "      <th>unique</th>\n",
       "      <th>top</th>\n",
       "      <th>freq</th>\n",
       "      <th>mean</th>\n",
       "      <th>std</th>\n",
       "      <th>min</th>\n",
       "      <th>25%</th>\n",
       "      <th>50%</th>\n",
       "      <th>75%</th>\n",
       "      <th>max</th>\n",
       "    </tr>\n",
       "  </thead>\n",
       "  <tbody>\n",
       "    <tr>\n",
       "      <th>ord_num</th>\n",
       "      <td>1048575.0</td>\n",
       "      <td>NaN</td>\n",
       "      <td>NaN</td>\n",
       "      <td>NaN</td>\n",
       "      <td>9643747.367425</td>\n",
       "      <td>13005031.974024</td>\n",
       "      <td>5147399.0</td>\n",
       "      <td>6542261.5</td>\n",
       "      <td>7856865.0</td>\n",
       "      <td>9161640.5</td>\n",
       "      <td>100060681.0</td>\n",
       "    </tr>\n",
       "    <tr>\n",
       "      <th>ord_lin_no</th>\n",
       "      <td>1048575.0</td>\n",
       "      <td>NaN</td>\n",
       "      <td>NaN</td>\n",
       "      <td>NaN</td>\n",
       "      <td>19394614.608157</td>\n",
       "      <td>4229960.137069</td>\n",
       "      <td>1.0</td>\n",
       "      <td>16837933.5</td>\n",
       "      <td>19671338.0</td>\n",
       "      <td>22524841.0</td>\n",
       "      <td>25400900.0</td>\n",
       "    </tr>\n",
       "    <tr>\n",
       "      <th>ord_dt</th>\n",
       "      <td>1048575</td>\n",
       "      <td>490152</td>\n",
       "      <td>2020-06-28 11:03:46</td>\n",
       "      <td>52</td>\n",
       "      <td>NaN</td>\n",
       "      <td>NaN</td>\n",
       "      <td>NaN</td>\n",
       "      <td>NaN</td>\n",
       "      <td>NaN</td>\n",
       "      <td>NaN</td>\n",
       "      <td>NaN</td>\n",
       "    </tr>\n",
       "    <tr>\n",
       "      <th>ord_line_status</th>\n",
       "      <td>1048575</td>\n",
       "      <td>12</td>\n",
       "      <td>D</td>\n",
       "      <td>798577</td>\n",
       "      <td>NaN</td>\n",
       "      <td>NaN</td>\n",
       "      <td>NaN</td>\n",
       "      <td>NaN</td>\n",
       "      <td>NaN</td>\n",
       "      <td>NaN</td>\n",
       "      <td>NaN</td>\n",
       "    </tr>\n",
       "    <tr>\n",
       "      <th>ord_hdr_status</th>\n",
       "      <td>1027553</td>\n",
       "      <td>2</td>\n",
       "      <td>S</td>\n",
       "      <td>997488</td>\n",
       "      <td>NaN</td>\n",
       "      <td>NaN</td>\n",
       "      <td>NaN</td>\n",
       "      <td>NaN</td>\n",
       "      <td>NaN</td>\n",
       "      <td>NaN</td>\n",
       "      <td>NaN</td>\n",
       "    </tr>\n",
       "    <tr>\n",
       "      <th>ord_type</th>\n",
       "      <td>1048575</td>\n",
       "      <td>3</td>\n",
       "      <td>WEB</td>\n",
       "      <td>723200</td>\n",
       "      <td>NaN</td>\n",
       "      <td>NaN</td>\n",
       "      <td>NaN</td>\n",
       "      <td>NaN</td>\n",
       "      <td>NaN</td>\n",
       "      <td>NaN</td>\n",
       "      <td>NaN</td>\n",
       "    </tr>\n",
       "    <tr>\n",
       "      <th>cncl_dol</th>\n",
       "      <td>1048574.0</td>\n",
       "      <td>NaN</td>\n",
       "      <td>NaN</td>\n",
       "      <td>NaN</td>\n",
       "      <td>6.592378</td>\n",
       "      <td>63.750596</td>\n",
       "      <td>0.0</td>\n",
       "      <td>0.0</td>\n",
       "      <td>0.0</td>\n",
       "      <td>0.0</td>\n",
       "      <td>28680.0</td>\n",
       "    </tr>\n",
       "    <tr>\n",
       "      <th>rtn_dol</th>\n",
       "      <td>1048324.0</td>\n",
       "      <td>NaN</td>\n",
       "      <td>NaN</td>\n",
       "      <td>NaN</td>\n",
       "      <td>22.744797</td>\n",
       "      <td>83.466135</td>\n",
       "      <td>0.0</td>\n",
       "      <td>0.0</td>\n",
       "      <td>0.0</td>\n",
       "      <td>0.0</td>\n",
       "      <td>13600.0</td>\n",
       "    </tr>\n",
       "    <tr>\n",
       "      <th>cncl_dt</th>\n",
       "      <td>55349</td>\n",
       "      <td>887</td>\n",
       "      <td>2018-11-29 00:00:00</td>\n",
       "      <td>400</td>\n",
       "      <td>NaN</td>\n",
       "      <td>NaN</td>\n",
       "      <td>NaN</td>\n",
       "      <td>NaN</td>\n",
       "      <td>NaN</td>\n",
       "      <td>NaN</td>\n",
       "      <td>NaN</td>\n",
       "    </tr>\n",
       "    <tr>\n",
       "      <th>dmd_dol</th>\n",
       "      <td>1048574.0</td>\n",
       "      <td>NaN</td>\n",
       "      <td>NaN</td>\n",
       "      <td>NaN</td>\n",
       "      <td>1335.774641</td>\n",
       "      <td>1985.806539</td>\n",
       "      <td>0.0</td>\n",
       "      <td>448.0</td>\n",
       "      <td>839.86</td>\n",
       "      <td>1511.86</td>\n",
       "      <td>401520.0</td>\n",
       "    </tr>\n",
       "    <tr>\n",
       "      <th>dmd_units</th>\n",
       "      <td>1048149.0</td>\n",
       "      <td>NaN</td>\n",
       "      <td>NaN</td>\n",
       "      <td>NaN</td>\n",
       "      <td>10.522769</td>\n",
       "      <td>4.852782</td>\n",
       "      <td>10.0</td>\n",
       "      <td>10.0</td>\n",
       "      <td>10.0</td>\n",
       "      <td>10.0</td>\n",
       "      <td>700.0</td>\n",
       "    </tr>\n",
       "    <tr>\n",
       "      <th>Loyalty_Ind</th>\n",
       "      <td>1048575.0</td>\n",
       "      <td>NaN</td>\n",
       "      <td>NaN</td>\n",
       "      <td>NaN</td>\n",
       "      <td>0.104225</td>\n",
       "      <td>0.305553</td>\n",
       "      <td>0.0</td>\n",
       "      <td>0.0</td>\n",
       "      <td>0.0</td>\n",
       "      <td>0.0</td>\n",
       "      <td>1.0</td>\n",
       "    </tr>\n",
       "    <tr>\n",
       "      <th>Emp_Ind</th>\n",
       "      <td>1048575.0</td>\n",
       "      <td>NaN</td>\n",
       "      <td>NaN</td>\n",
       "      <td>NaN</td>\n",
       "      <td>0.008816</td>\n",
       "      <td>0.093478</td>\n",
       "      <td>0.0</td>\n",
       "      <td>0.0</td>\n",
       "      <td>0.0</td>\n",
       "      <td>0.0</td>\n",
       "      <td>1.0</td>\n",
       "    </tr>\n",
       "    <tr>\n",
       "      <th>Fship_Ind</th>\n",
       "      <td>1048575.0</td>\n",
       "      <td>NaN</td>\n",
       "      <td>NaN</td>\n",
       "      <td>NaN</td>\n",
       "      <td>0.0</td>\n",
       "      <td>0.0</td>\n",
       "      <td>0.0</td>\n",
       "      <td>0.0</td>\n",
       "      <td>0.0</td>\n",
       "      <td>0.0</td>\n",
       "      <td>0.0</td>\n",
       "    </tr>\n",
       "    <tr>\n",
       "      <th>Shp_Date</th>\n",
       "      <td>989217</td>\n",
       "      <td>896</td>\n",
       "      <td>2019-11-29 00:00:00</td>\n",
       "      <td>5166</td>\n",
       "      <td>NaN</td>\n",
       "      <td>NaN</td>\n",
       "      <td>NaN</td>\n",
       "      <td>NaN</td>\n",
       "      <td>NaN</td>\n",
       "      <td>NaN</td>\n",
       "      <td>NaN</td>\n",
       "    </tr>\n",
       "    <tr>\n",
       "      <th>rtn_dt</th>\n",
       "      <td>191853</td>\n",
       "      <td>875</td>\n",
       "      <td>2020-06-16 00:00:00</td>\n",
       "      <td>2877</td>\n",
       "      <td>NaN</td>\n",
       "      <td>NaN</td>\n",
       "      <td>NaN</td>\n",
       "      <td>NaN</td>\n",
       "      <td>NaN</td>\n",
       "      <td>NaN</td>\n",
       "      <td>NaN</td>\n",
       "    </tr>\n",
       "    <tr>\n",
       "      <th>skn_nbr</th>\n",
       "      <td>1048575.0</td>\n",
       "      <td>NaN</td>\n",
       "      <td>NaN</td>\n",
       "      <td>NaN</td>\n",
       "      <td>5758240.555551</td>\n",
       "      <td>4298996.947653</td>\n",
       "      <td>-49335.0</td>\n",
       "      <td>1089429.0</td>\n",
       "      <td>9391683.0</td>\n",
       "      <td>9783459.0</td>\n",
       "      <td>9944980.0</td>\n",
       "    </tr>\n",
       "    <tr>\n",
       "      <th>Subcat_ID</th>\n",
       "      <td>1048575.0</td>\n",
       "      <td>NaN</td>\n",
       "      <td>NaN</td>\n",
       "      <td>NaN</td>\n",
       "      <td>922.394357</td>\n",
       "      <td>45.464154</td>\n",
       "      <td>818.0</td>\n",
       "      <td>906.0</td>\n",
       "      <td>928.0</td>\n",
       "      <td>956.0</td>\n",
       "      <td>995.0</td>\n",
       "    </tr>\n",
       "    <tr>\n",
       "      <th>Cat_ID</th>\n",
       "      <td>1048575.0</td>\n",
       "      <td>NaN</td>\n",
       "      <td>NaN</td>\n",
       "      <td>NaN</td>\n",
       "      <td>49.458539</td>\n",
       "      <td>8.35796</td>\n",
       "      <td>44.0</td>\n",
       "      <td>46.0</td>\n",
       "      <td>47.0</td>\n",
       "      <td>48.0</td>\n",
       "      <td>94.0</td>\n",
       "    </tr>\n",
       "    <tr>\n",
       "      <th>Dept_id</th>\n",
       "      <td>1048575.0</td>\n",
       "      <td>NaN</td>\n",
       "      <td>NaN</td>\n",
       "      <td>NaN</td>\n",
       "      <td>4.001531</td>\n",
       "      <td>0.087469</td>\n",
       "      <td>4.0</td>\n",
       "      <td>4.0</td>\n",
       "      <td>4.0</td>\n",
       "      <td>4.0</td>\n",
       "      <td>9.0</td>\n",
       "    </tr>\n",
       "    <tr>\n",
       "      <th>RTN_UNITS</th>\n",
       "      <td>1048324.0</td>\n",
       "      <td>NaN</td>\n",
       "      <td>NaN</td>\n",
       "      <td>NaN</td>\n",
       "      <td>0.186803</td>\n",
       "      <td>0.407245</td>\n",
       "      <td>0.0</td>\n",
       "      <td>0.0</td>\n",
       "      <td>0.0</td>\n",
       "      <td>0.0</td>\n",
       "      <td>20.0</td>\n",
       "    </tr>\n",
       "    <tr>\n",
       "      <th>cncl_units</th>\n",
       "      <td>1048574.0</td>\n",
       "      <td>NaN</td>\n",
       "      <td>NaN</td>\n",
       "      <td>NaN</td>\n",
       "      <td>0.056423</td>\n",
       "      <td>0.282522</td>\n",
       "      <td>0.0</td>\n",
       "      <td>0.0</td>\n",
       "      <td>0.0</td>\n",
       "      <td>0.0</td>\n",
       "      <td>63.0</td>\n",
       "    </tr>\n",
       "    <tr>\n",
       "      <th>international_order_ind</th>\n",
       "      <td>1048575</td>\n",
       "      <td>2</td>\n",
       "      <td>F</td>\n",
       "      <td>1028070</td>\n",
       "      <td>NaN</td>\n",
       "      <td>NaN</td>\n",
       "      <td>NaN</td>\n",
       "      <td>NaN</td>\n",
       "      <td>NaN</td>\n",
       "      <td>NaN</td>\n",
       "      <td>NaN</td>\n",
       "    </tr>\n",
       "    <tr>\n",
       "      <th>City_shipped</th>\n",
       "      <td>1045890</td>\n",
       "      <td>23793</td>\n",
       "      <td>New York</td>\n",
       "      <td>37572</td>\n",
       "      <td>NaN</td>\n",
       "      <td>NaN</td>\n",
       "      <td>NaN</td>\n",
       "      <td>NaN</td>\n",
       "      <td>NaN</td>\n",
       "      <td>NaN</td>\n",
       "      <td>NaN</td>\n",
       "    </tr>\n",
       "    <tr>\n",
       "      <th>State_Shipped</th>\n",
       "      <td>1034240</td>\n",
       "      <td>109</td>\n",
       "      <td>NY</td>\n",
       "      <td>181960</td>\n",
       "      <td>NaN</td>\n",
       "      <td>NaN</td>\n",
       "      <td>NaN</td>\n",
       "      <td>NaN</td>\n",
       "      <td>NaN</td>\n",
       "      <td>NaN</td>\n",
       "      <td>NaN</td>\n",
       "    </tr>\n",
       "    <tr>\n",
       "      <th>Cntry_Shipped</th>\n",
       "      <td>1045890</td>\n",
       "      <td>103</td>\n",
       "      <td>US</td>\n",
       "      <td>1025984</td>\n",
       "      <td>NaN</td>\n",
       "      <td>NaN</td>\n",
       "      <td>NaN</td>\n",
       "      <td>NaN</td>\n",
       "      <td>NaN</td>\n",
       "      <td>NaN</td>\n",
       "      <td>NaN</td>\n",
       "    </tr>\n",
       "  </tbody>\n",
       "</table>\n",
       "</div>"
      ],
      "text/plain": [
       "                             count  unique                  top     freq  \\\n",
       "ord_num                  1048575.0     NaN                  NaN      NaN   \n",
       "ord_lin_no               1048575.0     NaN                  NaN      NaN   \n",
       "ord_dt                     1048575  490152  2020-06-28 11:03:46       52   \n",
       "ord_line_status            1048575      12                    D   798577   \n",
       "ord_hdr_status             1027553       2                    S   997488   \n",
       "ord_type                   1048575       3                  WEB   723200   \n",
       "cncl_dol                 1048574.0     NaN                  NaN      NaN   \n",
       "rtn_dol                  1048324.0     NaN                  NaN      NaN   \n",
       "cncl_dt                      55349     887  2018-11-29 00:00:00      400   \n",
       "dmd_dol                  1048574.0     NaN                  NaN      NaN   \n",
       "dmd_units                1048149.0     NaN                  NaN      NaN   \n",
       "Loyalty_Ind              1048575.0     NaN                  NaN      NaN   \n",
       "Emp_Ind                  1048575.0     NaN                  NaN      NaN   \n",
       "Fship_Ind                1048575.0     NaN                  NaN      NaN   \n",
       "Shp_Date                    989217     896  2019-11-29 00:00:00     5166   \n",
       "rtn_dt                      191853     875  2020-06-16 00:00:00     2877   \n",
       "skn_nbr                  1048575.0     NaN                  NaN      NaN   \n",
       "Subcat_ID                1048575.0     NaN                  NaN      NaN   \n",
       "Cat_ID                   1048575.0     NaN                  NaN      NaN   \n",
       "Dept_id                  1048575.0     NaN                  NaN      NaN   \n",
       "RTN_UNITS                1048324.0     NaN                  NaN      NaN   \n",
       "cncl_units               1048574.0     NaN                  NaN      NaN   \n",
       "international_order_ind    1048575       2                    F  1028070   \n",
       "City_shipped               1045890   23793             New York    37572   \n",
       "State_Shipped              1034240     109                   NY   181960   \n",
       "Cntry_Shipped              1045890     103                   US  1025984   \n",
       "\n",
       "                                    mean              std        min  \\\n",
       "ord_num                   9643747.367425  13005031.974024  5147399.0   \n",
       "ord_lin_no               19394614.608157   4229960.137069        1.0   \n",
       "ord_dt                               NaN              NaN        NaN   \n",
       "ord_line_status                      NaN              NaN        NaN   \n",
       "ord_hdr_status                       NaN              NaN        NaN   \n",
       "ord_type                             NaN              NaN        NaN   \n",
       "cncl_dol                        6.592378        63.750596        0.0   \n",
       "rtn_dol                        22.744797        83.466135        0.0   \n",
       "cncl_dt                              NaN              NaN        NaN   \n",
       "dmd_dol                      1335.774641      1985.806539        0.0   \n",
       "dmd_units                      10.522769         4.852782       10.0   \n",
       "Loyalty_Ind                     0.104225         0.305553        0.0   \n",
       "Emp_Ind                         0.008816         0.093478        0.0   \n",
       "Fship_Ind                            0.0              0.0        0.0   \n",
       "Shp_Date                             NaN              NaN        NaN   \n",
       "rtn_dt                               NaN              NaN        NaN   \n",
       "skn_nbr                   5758240.555551   4298996.947653   -49335.0   \n",
       "Subcat_ID                     922.394357        45.464154      818.0   \n",
       "Cat_ID                         49.458539          8.35796       44.0   \n",
       "Dept_id                         4.001531         0.087469        4.0   \n",
       "RTN_UNITS                       0.186803         0.407245        0.0   \n",
       "cncl_units                      0.056423         0.282522        0.0   \n",
       "international_order_ind              NaN              NaN        NaN   \n",
       "City_shipped                         NaN              NaN        NaN   \n",
       "State_Shipped                        NaN              NaN        NaN   \n",
       "Cntry_Shipped                        NaN              NaN        NaN   \n",
       "\n",
       "                                25%         50%         75%          max  \n",
       "ord_num                   6542261.5   7856865.0   9161640.5  100060681.0  \n",
       "ord_lin_no               16837933.5  19671338.0  22524841.0   25400900.0  \n",
       "ord_dt                          NaN         NaN         NaN          NaN  \n",
       "ord_line_status                 NaN         NaN         NaN          NaN  \n",
       "ord_hdr_status                  NaN         NaN         NaN          NaN  \n",
       "ord_type                        NaN         NaN         NaN          NaN  \n",
       "cncl_dol                        0.0         0.0         0.0      28680.0  \n",
       "rtn_dol                         0.0         0.0         0.0      13600.0  \n",
       "cncl_dt                         NaN         NaN         NaN          NaN  \n",
       "dmd_dol                       448.0      839.86     1511.86     401520.0  \n",
       "dmd_units                      10.0        10.0        10.0        700.0  \n",
       "Loyalty_Ind                     0.0         0.0         0.0          1.0  \n",
       "Emp_Ind                         0.0         0.0         0.0          1.0  \n",
       "Fship_Ind                       0.0         0.0         0.0          0.0  \n",
       "Shp_Date                        NaN         NaN         NaN          NaN  \n",
       "rtn_dt                          NaN         NaN         NaN          NaN  \n",
       "skn_nbr                   1089429.0   9391683.0   9783459.0    9944980.0  \n",
       "Subcat_ID                     906.0       928.0       956.0        995.0  \n",
       "Cat_ID                         46.0        47.0        48.0         94.0  \n",
       "Dept_id                         4.0         4.0         4.0          9.0  \n",
       "RTN_UNITS                       0.0         0.0         0.0         20.0  \n",
       "cncl_units                      0.0         0.0         0.0         63.0  \n",
       "international_order_ind         NaN         NaN         NaN          NaN  \n",
       "City_shipped                    NaN         NaN         NaN          NaN  \n",
       "State_Shipped                   NaN         NaN         NaN          NaN  \n",
       "Cntry_Shipped                   NaN         NaN         NaN          NaN  "
      ]
     },
     "execution_count": 14,
     "metadata": {},
     "output_type": "execute_result"
    }
   ],
   "source": [
    "df.describe(include='all').T"
   ]
  },
  {
   "cell_type": "code",
   "execution_count": 94,
   "metadata": {
    "colab": {
     "base_uri": "https://localhost:8080/"
    },
    "id": "sAcPHILz-Mwt",
    "outputId": "5af2975c-fb8d-49c6-a5a2-09f5c2f7a4a8"
   },
   "outputs": [
    {
     "data": {
      "text/plain": [
       "Index(['ord_num', 'ord_lin_no', 'ord_dt', 'ord_line_status', 'ord_hdr_status',\n",
       "       'ord_type', 'cncl_dol', 'rtn_dol', 'cncl_dt', 'dmd_dol', 'dmd_units',\n",
       "       'Loyalty_Ind', 'Emp_Ind', 'Fship_Ind', 'Shp_Date', 'rtn_dt', 'skn_nbr',\n",
       "       'Subcat_ID', 'Cat_ID', 'Dept_id', 'RTN_UNITS', 'cncl_units',\n",
       "       'international_order_ind', 'City_shipped', 'State_Shipped',\n",
       "       'Cntry_Shipped'],\n",
       "      dtype='object')"
      ]
     },
     "execution_count": 94,
     "metadata": {},
     "output_type": "execute_result"
    }
   ],
   "source": [
    "df.columns"
   ]
  },
  {
   "cell_type": "code",
   "execution_count": 95,
   "metadata": {
    "colab": {
     "base_uri": "https://localhost:8080/"
    },
    "id": "Ul3EUMPuM_E1",
    "outputId": "40f5286e-6794-45a3-eb75-b2601a9ad929"
   },
   "outputs": [
    {
     "name": "stdout",
     "output_type": "stream",
     "text": [
      "<class 'pandas.core.frame.DataFrame'>\n",
      "RangeIndex: 1048575 entries, 0 to 1048574\n",
      "Data columns (total 26 columns):\n",
      " #   Column                   Non-Null Count    Dtype  \n",
      "---  ------                   --------------    -----  \n",
      " 0   ord_num                  1048575 non-null  float64\n",
      " 1   ord_lin_no               1048575 non-null  float64\n",
      " 2   ord_dt                   1048575 non-null  object \n",
      " 3   ord_line_status          1048575 non-null  object \n",
      " 4   ord_hdr_status           1027553 non-null  object \n",
      " 5   ord_type                 1048575 non-null  object \n",
      " 6   cncl_dol                 1048574 non-null  float64\n",
      " 7   rtn_dol                  1048324 non-null  float64\n",
      " 8   cncl_dt                  55349 non-null    object \n",
      " 9   dmd_dol                  1048574 non-null  float64\n",
      " 10  dmd_units                1048149 non-null  float64\n",
      " 11  Loyalty_Ind              1048575 non-null  int64  \n",
      " 12  Emp_Ind                  1048575 non-null  int64  \n",
      " 13  Fship_Ind                1048575 non-null  int64  \n",
      " 14  Shp_Date                 989217 non-null   object \n",
      " 15  rtn_dt                   191853 non-null   object \n",
      " 16  skn_nbr                  1048575 non-null  int64  \n",
      " 17  Subcat_ID                1048575 non-null  int64  \n",
      " 18  Cat_ID                   1048575 non-null  int64  \n",
      " 19  Dept_id                  1048575 non-null  int64  \n",
      " 20  RTN_UNITS                1048324 non-null  float64\n",
      " 21  cncl_units               1048574 non-null  float64\n",
      " 22  international_order_ind  1048575 non-null  object \n",
      " 23  City_shipped             1045890 non-null  object \n",
      " 24  State_Shipped            1034240 non-null  object \n",
      " 25  Cntry_Shipped            1045890 non-null  object \n",
      "dtypes: float64(8), int64(7), object(11)\n",
      "memory usage: 208.0+ MB\n"
     ]
    }
   ],
   "source": [
    "df.info()"
   ]
  },
  {
   "cell_type": "markdown",
   "metadata": {
    "id": "tOmqVaBTM_E2"
   },
   "source": [
    "### Data Cleaning"
   ]
  },
  {
   "cell_type": "code",
   "execution_count": 224,
   "metadata": {
    "id": "n0jg3fJtLZ9B"
   },
   "outputs": [],
   "source": [
    "#Convert Datetime based columns into Tangible Data columns of Numeric type \n",
    "# Take Time Delta to find No of days elapsed between Order placed to Shippment \n",
    "#And Return within certain window"
   ]
  },
  {
   "cell_type": "code",
   "execution_count": 96,
   "metadata": {
    "id": "iYcLUwz7-IOX"
   },
   "outputs": [],
   "source": [
    "df[['ord_dt','Shp_Date','rtn_dt','cncl_dt']]=df[['ord_dt','Shp_Date','rtn_dt','cncl_dt']].apply(pd.to_datetime)\n",
    "df['ord_shp']=(df['Shp_Date']-df['ord_dt']).dt.days.abs()\n",
    "\n",
    "df['ord_cncl']=(df['cncl_dt']-df['ord_dt']).dt.days.abs()\n",
    "df['shp_ret']=(df['rtn_dt']-df['Shp_Date']).dt.days.abs()"
   ]
  },
  {
   "cell_type": "code",
   "execution_count": 97,
   "metadata": {
    "id": "AxsdJqiREwqF"
   },
   "outputs": [],
   "source": [
    "#now drop all date columns as we have the info captured as Order to Shipped time in days \n",
    "#Ordered to cancellation Info in days \n",
    "#Shipped to returned in days \n",
    "df.drop(['ord_dt','Shp_Date','rtn_dt','cncl_dt'],axis=1,inplace=True)"
   ]
  },
  {
   "cell_type": "code",
   "execution_count": 98,
   "metadata": {
    "colab": {
     "base_uri": "https://localhost:8080/"
    },
    "id": "iZnK26uMAVTx",
    "outputId": "0cb72164-4452-4620-e50b-14eb36a1cb42"
   },
   "outputs": [
    {
     "data": {
      "text/plain": [
       "['ord_num',\n",
       " 'ord_line_status',\n",
       " 'ord_hdr_status',\n",
       " 'ord_type',\n",
       " 'cncl_dol',\n",
       " 'rtn_dol',\n",
       " 'dmd_dol',\n",
       " 'dmd_units',\n",
       " 'Loyalty_Ind',\n",
       " 'Emp_Ind',\n",
       " 'Fship_Ind',\n",
       " 'skn_nbr',\n",
       " 'Subcat_ID',\n",
       " 'Cat_ID',\n",
       " 'Dept_id',\n",
       " 'RTN_UNITS',\n",
       " 'cncl_units',\n",
       " 'international_order_ind',\n",
       " 'City_shipped',\n",
       " 'State_Shipped',\n",
       " 'Cntry_Shipped',\n",
       " 'ord_shp',\n",
       " 'ord_cncl',\n",
       " 'shp_ret']"
      ]
     },
     "execution_count": 98,
     "metadata": {},
     "output_type": "execute_result"
    }
   ],
   "source": [
    "#Drop Index column \n",
    "df.drop(['ord_lin_no'],axis=1,inplace=True)\n",
    "df.columns.tolist()"
   ]
  },
  {
   "cell_type": "markdown",
   "metadata": {
    "id": "fQDzI8QaM_E5"
   },
   "source": [
    "\n",
    "Observation: We have dropped ........ datetime columns and created synthetic features for them \n",
    "We have dropped the index column \n"
   ]
  },
  {
   "cell_type": "code",
   "execution_count": 99,
   "metadata": {
    "colab": {
     "base_uri": "https://localhost:8080/"
    },
    "id": "qeeQ1yrLM_E5",
    "outputId": "93886b5e-9cd1-4e5f-b1ff-8a7402f53fa2"
   },
   "outputs": [
    {
     "data": {
      "text/plain": [
       "ord_num                         0\n",
       "ord_line_status                 0\n",
       "ord_hdr_status              21022\n",
       "ord_type                        0\n",
       "cncl_dol                        1\n",
       "rtn_dol                       251\n",
       "dmd_dol                         1\n",
       "dmd_units                     426\n",
       "Loyalty_Ind                     0\n",
       "Emp_Ind                         0\n",
       "Fship_Ind                       0\n",
       "skn_nbr                         0\n",
       "Subcat_ID                       0\n",
       "Cat_ID                          0\n",
       "Dept_id                         0\n",
       "RTN_UNITS                     251\n",
       "cncl_units                      1\n",
       "international_order_ind         0\n",
       "City_shipped                 2685\n",
       "State_Shipped               14335\n",
       "Cntry_Shipped                2685\n",
       "ord_shp                     59358\n",
       "ord_cncl                   993226\n",
       "shp_ret                    857101\n",
       "dtype: int64"
      ]
     },
     "execution_count": 99,
     "metadata": {},
     "output_type": "execute_result"
    }
   ],
   "source": [
    "# check for nulls and missing Values \n",
    "df.isna().sum()"
   ]
  },
  {
   "cell_type": "code",
   "execution_count": 100,
   "metadata": {
    "colab": {
     "base_uri": "https://localhost:8080/"
    },
    "id": "is_blmICKMPx",
    "outputId": "3edae3b8-5c93-46d3-d7f7-22609c512271"
   },
   "outputs": [
    {
     "data": {
      "text/plain": [
       "ord_num                        0\n",
       "ord_line_status                0\n",
       "ord_hdr_status             21022\n",
       "ord_type                       0\n",
       "cncl_dol                       1\n",
       "rtn_dol                      251\n",
       "dmd_dol                        1\n",
       "dmd_units                    426\n",
       "Loyalty_Ind                    0\n",
       "Emp_Ind                        0\n",
       "Fship_Ind                      0\n",
       "skn_nbr                        0\n",
       "Subcat_ID                      0\n",
       "Cat_ID                         0\n",
       "Dept_id                        0\n",
       "RTN_UNITS                    251\n",
       "cncl_units                     1\n",
       "international_order_ind        0\n",
       "City_shipped                2685\n",
       "State_Shipped              14335\n",
       "Cntry_Shipped               2685\n",
       "ord_shp                        0\n",
       "ord_cncl                       0\n",
       "shp_ret                        0\n",
       "dtype: int64"
      ]
     },
     "execution_count": 100,
     "metadata": {},
     "output_type": "execute_result"
    }
   ],
   "source": [
    "# So in the synthetic features created there are missing values need to impute them \n",
    "# Since it is obvious from EDA that not all orders are cancelled or returned , Some orders are mistakenly places and hence cancelled before shipping \n",
    "# We impute them all with 0 . \n",
    "df[['ord_shp','ord_cncl','shp_ret']]=df[['ord_shp','ord_cncl','shp_ret']].fillna(0)\n",
    "df.isna().sum()"
   ]
  },
  {
   "cell_type": "code",
   "execution_count": 101,
   "metadata": {
    "id": "_53jYcNpLFla"
   },
   "outputs": [],
   "source": [
    "#drop State_shipped and ord_hdr_status as the number of blank values is way high to be imputed \n",
    "df.drop(['State_Shipped','ord_hdr_status'],axis=1,inplace=True)"
   ]
  },
  {
   "cell_type": "code",
   "execution_count": 102,
   "metadata": {
    "id": "7LuCoNTuLk97"
   },
   "outputs": [],
   "source": [
    "# Replace Blanks with NAN for Numeric columns .\n",
    "# The cancellation and return amount is obvisouly zero wherein the order is shipped and accepted and not cancelled \n",
    "# In such cases the Rteurned and Cancelled units will be blank and need to be imputed with NAN and subsequently with zero\n",
    "df.cncl_dol = df.cncl_dol.apply(lambda y: np.nan if y == None else y)\n",
    "df.rtn_dol = df.rtn_dol.apply(lambda y: np.nan if y == None else y)\n",
    "df.dmd_dol = df.dmd_dol.apply(lambda y: np.nan if y == None else y)\n",
    "df.dmd_units = df.dmd_units.apply(lambda y: np.nan if y == None else y)\n",
    "df.RTN_UNITS = df.RTN_UNITS.apply(lambda y: np.nan if y == None else y)\n",
    "df.cncl_units = df.cncl_units.apply(lambda y: np.nan if y == None else y)\n"
   ]
  },
  {
   "cell_type": "code",
   "execution_count": 103,
   "metadata": {
    "colab": {
     "base_uri": "https://localhost:8080/"
    },
    "id": "03MRM6PdPIwj",
    "outputId": "6d522bc9-d5a5-41be-e2ef-eb966626a211"
   },
   "outputs": [
    {
     "data": {
      "text/plain": [
       "ord_num                       0\n",
       "ord_line_status               0\n",
       "ord_type                      0\n",
       "cncl_dol                      0\n",
       "rtn_dol                       0\n",
       "dmd_dol                       0\n",
       "dmd_units                     0\n",
       "Loyalty_Ind                   0\n",
       "Emp_Ind                       0\n",
       "Fship_Ind                     0\n",
       "skn_nbr                       0\n",
       "Subcat_ID                     0\n",
       "Cat_ID                        0\n",
       "Dept_id                       0\n",
       "RTN_UNITS                     0\n",
       "cncl_units                    0\n",
       "international_order_ind       0\n",
       "City_shipped               2685\n",
       "Cntry_Shipped              2685\n",
       "ord_shp                       0\n",
       "ord_cncl                      0\n",
       "shp_ret                       0\n",
       "dtype: int64"
      ]
     },
     "execution_count": 103,
     "metadata": {},
     "output_type": "execute_result"
    }
   ],
   "source": [
    "#Upon closer Inspection it seems all of these are blank when the same day cancellation happens mostly \n",
    "#best to impute all of these with 0 \n",
    "\n",
    "df[['cncl_dol','rtn_dol','dmd_dol','dmd_units','RTN_UNITS','cncl_units']]=df[['cncl_dol','rtn_dol','dmd_dol','dmd_units','RTN_UNITS','cncl_units']].fillna(0)\n",
    "df.isna().sum()"
   ]
  },
  {
   "cell_type": "code",
   "execution_count": 104,
   "metadata": {
    "id": "iS5djLqCQleL"
   },
   "outputs": [],
   "source": [
    "df['City_shipped']=df['City_shipped'].astype(str)\n",
    "df['Cntry_Shipped']=df['Cntry_Shipped'].astype(str)\n",
    "df.City_shipped = df.City_shipped.apply(lambda y: np.nan if y=='' else y)\n",
    "df.Cntry_Shipped = df.Cntry_Shipped.apply(lambda y: np.nan if y=='' else y)\n",
    "# type(df.City_shipped[0])"
   ]
  },
  {
   "cell_type": "code",
   "execution_count": 105,
   "metadata": {
    "colab": {
     "base_uri": "https://localhost:8080/"
    },
    "id": "GygxRAyWbyQv",
    "outputId": "2fdcd5d9-0452-4803-f520-564208965e5e"
   },
   "outputs": [
    {
     "data": {
      "text/plain": [
       "(1048575, 22)"
      ]
     },
     "execution_count": 105,
     "metadata": {},
     "output_type": "execute_result"
    }
   ],
   "source": [
    "df.shape"
   ]
  },
  {
   "cell_type": "code",
   "execution_count": 106,
   "metadata": {
    "colab": {
     "base_uri": "https://localhost:8080/"
    },
    "id": "Zc-t6AF1ZCej",
    "outputId": "38fa796d-3a47-470b-b077-1ea67cb296ec"
   },
   "outputs": [
    {
     "data": {
      "text/plain": [
       "ord_num                    0\n",
       "ord_line_status            0\n",
       "ord_type                   0\n",
       "cncl_dol                   0\n",
       "rtn_dol                    0\n",
       "dmd_dol                    0\n",
       "dmd_units                  0\n",
       "Loyalty_Ind                0\n",
       "Emp_Ind                    0\n",
       "Fship_Ind                  0\n",
       "skn_nbr                    0\n",
       "Subcat_ID                  0\n",
       "Cat_ID                     0\n",
       "Dept_id                    0\n",
       "RTN_UNITS                  0\n",
       "cncl_units                 0\n",
       "international_order_ind    0\n",
       "City_shipped               0\n",
       "Cntry_Shipped              0\n",
       "ord_shp                    0\n",
       "ord_cncl                   0\n",
       "shp_ret                    0\n",
       "dtype: int64"
      ]
     },
     "execution_count": 106,
     "metadata": {},
     "output_type": "execute_result"
    }
   ],
   "source": [
    "df.isna().sum()"
   ]
  },
  {
   "cell_type": "code",
   "execution_count": 107,
   "metadata": {
    "id": "tFvEC3H5Pwcl"
   },
   "outputs": [],
   "source": [
    "df['City_shipped']=df['City_shipped'].replace(['nan'],'domestic')\n",
    "df['Cntry_Shipped']=df['Cntry_Shipped'].replace(['nan'],'DOM')"
   ]
  },
  {
   "cell_type": "code",
   "execution_count": 108,
   "metadata": {
    "colab": {
     "base_uri": "https://localhost:8080/",
     "height": 205
    },
    "id": "ST4CLcU3a4aW",
    "outputId": "414458b3-b4d2-4a80-8601-a86b9e65d2fe"
   },
   "outputs": [
    {
     "data": {
      "text/html": [
       "\n",
       "  <div id=\"df-de86dede-c5ce-4559-bb6c-dd1ae1108429\">\n",
       "    <div class=\"colab-df-container\">\n",
       "      <div>\n",
       "<style scoped>\n",
       "    .dataframe tbody tr th:only-of-type {\n",
       "        vertical-align: middle;\n",
       "    }\n",
       "\n",
       "    .dataframe tbody tr th {\n",
       "        vertical-align: top;\n",
       "    }\n",
       "\n",
       "    .dataframe thead th {\n",
       "        text-align: right;\n",
       "    }\n",
       "</style>\n",
       "<table border=\"1\" class=\"dataframe\">\n",
       "  <thead>\n",
       "    <tr style=\"text-align: right;\">\n",
       "      <th></th>\n",
       "      <th>ord_num</th>\n",
       "      <th>ord_line_status</th>\n",
       "      <th>ord_type</th>\n",
       "      <th>cncl_dol</th>\n",
       "      <th>rtn_dol</th>\n",
       "      <th>dmd_dol</th>\n",
       "      <th>dmd_units</th>\n",
       "      <th>Loyalty_Ind</th>\n",
       "      <th>Emp_Ind</th>\n",
       "      <th>Fship_Ind</th>\n",
       "      <th>...</th>\n",
       "      <th>Cat_ID</th>\n",
       "      <th>Dept_id</th>\n",
       "      <th>RTN_UNITS</th>\n",
       "      <th>cncl_units</th>\n",
       "      <th>international_order_ind</th>\n",
       "      <th>City_shipped</th>\n",
       "      <th>Cntry_Shipped</th>\n",
       "      <th>ord_shp</th>\n",
       "      <th>ord_cncl</th>\n",
       "      <th>shp_ret</th>\n",
       "    </tr>\n",
       "  </thead>\n",
       "  <tbody>\n",
       "    <tr>\n",
       "      <th>604</th>\n",
       "      <td>7463373.0</td>\n",
       "      <td>D</td>\n",
       "      <td>WEB</td>\n",
       "      <td>0.0</td>\n",
       "      <td>0.0</td>\n",
       "      <td>895.86</td>\n",
       "      <td>10.0</td>\n",
       "      <td>0</td>\n",
       "      <td>0</td>\n",
       "      <td>0</td>\n",
       "      <td>...</td>\n",
       "      <td>78</td>\n",
       "      <td>4</td>\n",
       "      <td>0.0</td>\n",
       "      <td>0.0</td>\n",
       "      <td>F</td>\n",
       "      <td>domestic</td>\n",
       "      <td>DOM</td>\n",
       "      <td>1.0</td>\n",
       "      <td>0.0</td>\n",
       "      <td>0.0</td>\n",
       "    </tr>\n",
       "    <tr>\n",
       "      <th>814</th>\n",
       "      <td>7463373.0</td>\n",
       "      <td>D</td>\n",
       "      <td>WEB</td>\n",
       "      <td>0.0</td>\n",
       "      <td>0.0</td>\n",
       "      <td>1007.86</td>\n",
       "      <td>10.0</td>\n",
       "      <td>0</td>\n",
       "      <td>0</td>\n",
       "      <td>0</td>\n",
       "      <td>...</td>\n",
       "      <td>78</td>\n",
       "      <td>4</td>\n",
       "      <td>0.0</td>\n",
       "      <td>0.0</td>\n",
       "      <td>F</td>\n",
       "      <td>domestic</td>\n",
       "      <td>DOM</td>\n",
       "      <td>1.0</td>\n",
       "      <td>0.0</td>\n",
       "      <td>0.0</td>\n",
       "    </tr>\n",
       "  </tbody>\n",
       "</table>\n",
       "<p>2 rows × 22 columns</p>\n",
       "</div>\n",
       "      <button class=\"colab-df-convert\" onclick=\"convertToInteractive('df-de86dede-c5ce-4559-bb6c-dd1ae1108429')\"\n",
       "              title=\"Convert this dataframe to an interactive table.\"\n",
       "              style=\"display:none;\">\n",
       "        \n",
       "  <svg xmlns=\"http://www.w3.org/2000/svg\" height=\"24px\"viewBox=\"0 0 24 24\"\n",
       "       width=\"24px\">\n",
       "    <path d=\"M0 0h24v24H0V0z\" fill=\"none\"/>\n",
       "    <path d=\"M18.56 5.44l.94 2.06.94-2.06 2.06-.94-2.06-.94-.94-2.06-.94 2.06-2.06.94zm-11 1L8.5 8.5l.94-2.06 2.06-.94-2.06-.94L8.5 2.5l-.94 2.06-2.06.94zm10 10l.94 2.06.94-2.06 2.06-.94-2.06-.94-.94-2.06-.94 2.06-2.06.94z\"/><path d=\"M17.41 7.96l-1.37-1.37c-.4-.4-.92-.59-1.43-.59-.52 0-1.04.2-1.43.59L10.3 9.45l-7.72 7.72c-.78.78-.78 2.05 0 2.83L4 21.41c.39.39.9.59 1.41.59.51 0 1.02-.2 1.41-.59l7.78-7.78 2.81-2.81c.8-.78.8-2.07 0-2.86zM5.41 20L4 18.59l7.72-7.72 1.47 1.35L5.41 20z\"/>\n",
       "  </svg>\n",
       "      </button>\n",
       "      \n",
       "  <style>\n",
       "    .colab-df-container {\n",
       "      display:flex;\n",
       "      flex-wrap:wrap;\n",
       "      gap: 12px;\n",
       "    }\n",
       "\n",
       "    .colab-df-convert {\n",
       "      background-color: #E8F0FE;\n",
       "      border: none;\n",
       "      border-radius: 50%;\n",
       "      cursor: pointer;\n",
       "      display: none;\n",
       "      fill: #1967D2;\n",
       "      height: 32px;\n",
       "      padding: 0 0 0 0;\n",
       "      width: 32px;\n",
       "    }\n",
       "\n",
       "    .colab-df-convert:hover {\n",
       "      background-color: #E2EBFA;\n",
       "      box-shadow: 0px 1px 2px rgba(60, 64, 67, 0.3), 0px 1px 3px 1px rgba(60, 64, 67, 0.15);\n",
       "      fill: #174EA6;\n",
       "    }\n",
       "\n",
       "    [theme=dark] .colab-df-convert {\n",
       "      background-color: #3B4455;\n",
       "      fill: #D2E3FC;\n",
       "    }\n",
       "\n",
       "    [theme=dark] .colab-df-convert:hover {\n",
       "      background-color: #434B5C;\n",
       "      box-shadow: 0px 1px 3px 1px rgba(0, 0, 0, 0.15);\n",
       "      filter: drop-shadow(0px 1px 2px rgba(0, 0, 0, 0.3));\n",
       "      fill: #FFFFFF;\n",
       "    }\n",
       "  </style>\n",
       "\n",
       "      <script>\n",
       "        const buttonEl =\n",
       "          document.querySelector('#df-de86dede-c5ce-4559-bb6c-dd1ae1108429 button.colab-df-convert');\n",
       "        buttonEl.style.display =\n",
       "          google.colab.kernel.accessAllowed ? 'block' : 'none';\n",
       "\n",
       "        async function convertToInteractive(key) {\n",
       "          const element = document.querySelector('#df-de86dede-c5ce-4559-bb6c-dd1ae1108429');\n",
       "          const dataTable =\n",
       "            await google.colab.kernel.invokeFunction('convertToInteractive',\n",
       "                                                     [key], {});\n",
       "          if (!dataTable) return;\n",
       "\n",
       "          const docLinkHtml = 'Like what you see? Visit the ' +\n",
       "            '<a target=\"_blank\" href=https://colab.research.google.com/notebooks/data_table.ipynb>data table notebook</a>'\n",
       "            + ' to learn more about interactive tables.';\n",
       "          element.innerHTML = '';\n",
       "          dataTable['output_type'] = 'display_data';\n",
       "          await google.colab.output.renderOutput(dataTable, element);\n",
       "          const docLink = document.createElement('div');\n",
       "          docLink.innerHTML = docLinkHtml;\n",
       "          element.appendChild(docLink);\n",
       "        }\n",
       "      </script>\n",
       "    </div>\n",
       "  </div>\n",
       "  "
      ],
      "text/plain": [
       "       ord_num ord_line_status ord_type  cncl_dol  rtn_dol  dmd_dol  \\\n",
       "604  7463373.0               D      WEB       0.0      0.0   895.86   \n",
       "814  7463373.0               D      WEB       0.0      0.0  1007.86   \n",
       "\n",
       "     dmd_units  Loyalty_Ind  Emp_Ind  Fship_Ind  ...  Cat_ID  Dept_id  \\\n",
       "604       10.0            0        0          0  ...      78        4   \n",
       "814       10.0            0        0          0  ...      78        4   \n",
       "\n",
       "     RTN_UNITS  cncl_units  international_order_ind  City_shipped  \\\n",
       "604        0.0         0.0                        F      domestic   \n",
       "814        0.0         0.0                        F      domestic   \n",
       "\n",
       "    Cntry_Shipped ord_shp ord_cncl  shp_ret  \n",
       "604           DOM     1.0      0.0      0.0  \n",
       "814           DOM     1.0      0.0      0.0  \n",
       "\n",
       "[2 rows x 22 columns]"
      ]
     },
     "execution_count": 108,
     "metadata": {},
     "output_type": "execute_result"
    }
   ],
   "source": [
    "df.loc[df['ord_num']==7463373]"
   ]
  },
  {
   "cell_type": "code",
   "execution_count": 109,
   "metadata": {
    "colab": {
     "base_uri": "https://localhost:8080/"
    },
    "id": "Y_I42yedTB-R",
    "outputId": "23bcc828-6f9a-4066-fdac-ab56fdaaf359"
   },
   "outputs": [
    {
     "data": {
      "text/plain": [
       "(1048575, 22)"
      ]
     },
     "execution_count": 109,
     "metadata": {},
     "output_type": "execute_result"
    }
   ],
   "source": [
    "df.shape"
   ]
  },
  {
   "cell_type": "markdown",
   "metadata": {
    "id": "cTV3jRNfM_E6"
   },
   "source": [
    "Observation: It appears that there are no null values occurred in the dataset.\n",
    "\n",
    "International_order_ind = False , So these are domestic orders so impute with key = domestic/DOM\n",
    "\n",
    "Also There seems to be duplicate rows . Lets remove them "
   ]
  },
  {
   "cell_type": "code",
   "execution_count": 110,
   "metadata": {
    "colab": {
     "base_uri": "https://localhost:8080/"
    },
    "id": "b6PHjj2GM_E6",
    "outputId": "b5f99136-ed0e-4efa-a9ed-956d9957387d"
   },
   "outputs": [
    {
     "name": "stdout",
     "output_type": "stream",
     "text": [
      "Before removing duplicates: 17567\n",
      "After removing duplicates: 0\n"
     ]
    }
   ],
   "source": [
    "# check duplicates and remove it\n",
    "print(\"Before removing duplicates:\", df.duplicated().sum())\n",
    "\n",
    "df = df[~df.duplicated()]\n",
    "\n",
    "print(\"After removing duplicates:\", df.duplicated().sum())"
   ]
  },
  {
   "cell_type": "markdown",
   "metadata": {
    "id": "PbOgQADyM_E6"
   },
   "source": [
    "Observation: There are 17567 duplicate rows in our dataset. So, we remove them to make the data more realistic and free-error."
   ]
  },
  {
   "cell_type": "markdown",
   "metadata": {},
   "source": [
    "## 2 rows for sanity check to identify all the features present in the dataset"
   ]
  },
  {
   "cell_type": "code",
   "execution_count": 12,
   "metadata": {},
   "outputs": [
    {
     "data": {
      "text/html": [
       "<div>\n",
       "<style scoped>\n",
       "    .dataframe tbody tr th:only-of-type {\n",
       "        vertical-align: middle;\n",
       "    }\n",
       "\n",
       "    .dataframe tbody tr th {\n",
       "        vertical-align: top;\n",
       "    }\n",
       "\n",
       "    .dataframe thead th {\n",
       "        text-align: right;\n",
       "    }\n",
       "</style>\n",
       "<table border=\"1\" class=\"dataframe\">\n",
       "  <thead>\n",
       "    <tr style=\"text-align: right;\">\n",
       "      <th></th>\n",
       "      <th>0</th>\n",
       "      <th>1</th>\n",
       "    </tr>\n",
       "  </thead>\n",
       "  <tbody>\n",
       "    <tr>\n",
       "      <th>ord_num</th>\n",
       "      <td>7513817.0</td>\n",
       "      <td>9009772.0</td>\n",
       "    </tr>\n",
       "    <tr>\n",
       "      <th>ord_lin_no</th>\n",
       "      <td>19147551.0</td>\n",
       "      <td>22402482.0</td>\n",
       "    </tr>\n",
       "    <tr>\n",
       "      <th>ord_dt</th>\n",
       "      <td>2019-04-11 17:22:19</td>\n",
       "      <td>2019-12-01 14:42:08</td>\n",
       "    </tr>\n",
       "    <tr>\n",
       "      <th>ord_line_status</th>\n",
       "      <td>D</td>\n",
       "      <td>D</td>\n",
       "    </tr>\n",
       "    <tr>\n",
       "      <th>ord_hdr_status</th>\n",
       "      <td>S</td>\n",
       "      <td>S</td>\n",
       "    </tr>\n",
       "    <tr>\n",
       "      <th>ord_type</th>\n",
       "      <td>WEB</td>\n",
       "      <td>MOB</td>\n",
       "    </tr>\n",
       "    <tr>\n",
       "      <th>cncl_dol</th>\n",
       "      <td>0.0</td>\n",
       "      <td>0.0</td>\n",
       "    </tr>\n",
       "    <tr>\n",
       "      <th>rtn_dol</th>\n",
       "      <td>0.0</td>\n",
       "      <td>0.0</td>\n",
       "    </tr>\n",
       "    <tr>\n",
       "      <th>cncl_dt</th>\n",
       "      <td>NaN</td>\n",
       "      <td>NaN</td>\n",
       "    </tr>\n",
       "    <tr>\n",
       "      <th>dmd_dol</th>\n",
       "      <td>489.58</td>\n",
       "      <td>559.86</td>\n",
       "    </tr>\n",
       "    <tr>\n",
       "      <th>dmd_units</th>\n",
       "      <td>10.0</td>\n",
       "      <td>10.0</td>\n",
       "    </tr>\n",
       "    <tr>\n",
       "      <th>Loyalty_Ind</th>\n",
       "      <td>0.0</td>\n",
       "      <td>0.0</td>\n",
       "    </tr>\n",
       "    <tr>\n",
       "      <th>Emp_Ind</th>\n",
       "      <td>0.0</td>\n",
       "      <td>0.0</td>\n",
       "    </tr>\n",
       "    <tr>\n",
       "      <th>Fship_Ind</th>\n",
       "      <td>0.0</td>\n",
       "      <td>0.0</td>\n",
       "    </tr>\n",
       "    <tr>\n",
       "      <th>Shp_Date</th>\n",
       "      <td>2019-04-12 00:00:00</td>\n",
       "      <td>2019-12-01 00:00:00</td>\n",
       "    </tr>\n",
       "    <tr>\n",
       "      <th>rtn_dt</th>\n",
       "      <td>NaN</td>\n",
       "      <td>NaN</td>\n",
       "    </tr>\n",
       "    <tr>\n",
       "      <th>skn_nbr</th>\n",
       "      <td>9558428.0</td>\n",
       "      <td>1121512.0</td>\n",
       "    </tr>\n",
       "    <tr>\n",
       "      <th>Subcat_ID</th>\n",
       "      <td>969.0</td>\n",
       "      <td>903.0</td>\n",
       "    </tr>\n",
       "    <tr>\n",
       "      <th>Cat_ID</th>\n",
       "      <td>76.0</td>\n",
       "      <td>47.0</td>\n",
       "    </tr>\n",
       "    <tr>\n",
       "      <th>Dept_id</th>\n",
       "      <td>4.0</td>\n",
       "      <td>4.0</td>\n",
       "    </tr>\n",
       "    <tr>\n",
       "      <th>RTN_UNITS</th>\n",
       "      <td>0.0</td>\n",
       "      <td>0.0</td>\n",
       "    </tr>\n",
       "    <tr>\n",
       "      <th>cncl_units</th>\n",
       "      <td>0.0</td>\n",
       "      <td>0.0</td>\n",
       "    </tr>\n",
       "    <tr>\n",
       "      <th>international_order_ind</th>\n",
       "      <td>F</td>\n",
       "      <td>F</td>\n",
       "    </tr>\n",
       "    <tr>\n",
       "      <th>City_shipped</th>\n",
       "      <td>PORTLAND</td>\n",
       "      <td>Boise</td>\n",
       "    </tr>\n",
       "    <tr>\n",
       "      <th>State_Shipped</th>\n",
       "      <td>OR</td>\n",
       "      <td>ID</td>\n",
       "    </tr>\n",
       "    <tr>\n",
       "      <th>Cntry_Shipped</th>\n",
       "      <td>US</td>\n",
       "      <td>US</td>\n",
       "    </tr>\n",
       "  </tbody>\n",
       "</table>\n",
       "</div>"
      ],
      "text/plain": [
       "                                           0                    1\n",
       "ord_num                            7513817.0            9009772.0\n",
       "ord_lin_no                        19147551.0           22402482.0\n",
       "ord_dt                   2019-04-11 17:22:19  2019-12-01 14:42:08\n",
       "ord_line_status                            D                    D\n",
       "ord_hdr_status                             S                    S\n",
       "ord_type                                 WEB                  MOB\n",
       "cncl_dol                                 0.0                  0.0\n",
       "rtn_dol                                  0.0                  0.0\n",
       "cncl_dt                                  NaN                  NaN\n",
       "dmd_dol                               489.58               559.86\n",
       "dmd_units                               10.0                 10.0\n",
       "Loyalty_Ind                              0.0                  0.0\n",
       "Emp_Ind                                  0.0                  0.0\n",
       "Fship_Ind                                0.0                  0.0\n",
       "Shp_Date                 2019-04-12 00:00:00  2019-12-01 00:00:00\n",
       "rtn_dt                                   NaN                  NaN\n",
       "skn_nbr                            9558428.0            1121512.0\n",
       "Subcat_ID                              969.0                903.0\n",
       "Cat_ID                                  76.0                 47.0\n",
       "Dept_id                                  4.0                  4.0\n",
       "RTN_UNITS                                0.0                  0.0\n",
       "cncl_units                               0.0                  0.0\n",
       "international_order_ind                    F                    F\n",
       "City_shipped                        PORTLAND                Boise\n",
       "State_Shipped                             OR                   ID\n",
       "Cntry_Shipped                             US                   US"
      ]
     },
     "execution_count": 12,
     "metadata": {},
     "output_type": "execute_result"
    }
   ],
   "source": [
    "df.head(2).T"
   ]
  },
  {
   "cell_type": "markdown",
   "metadata": {
    "id": "M9ao6qvEM_E2"
   },
   "source": [
    "## Types of variables\n",
    "\n",
    "\n"
   ]
  },
  {
   "cell_type": "markdown",
   "metadata": {
    "id": "p6FK1SUGM_E3"
   },
   "source": [
    "### Explore categorical variables"
   ]
  },
  {
   "cell_type": "code",
   "execution_count": 111,
   "metadata": {
    "colab": {
     "base_uri": "https://localhost:8080/"
    },
    "id": "KlzjNf5aM_E3",
    "outputId": "99876a11-26bc-4348-a74b-5b1de248352c"
   },
   "outputs": [
    {
     "name": "stdout",
     "output_type": "stream",
     "text": [
      "There are 5 categorical variables\n",
      "\n",
      "The categorical variables are :\n",
      "\n",
      " ['ord_line_status', 'ord_type', 'international_order_ind', 'City_shipped', 'Cntry_Shipped']\n"
     ]
    }
   ],
   "source": [
    "# find categorical variables\n",
    "categorical = [var for var in df.columns if df[var].dtype=='O']\n",
    "\n",
    "print('There are {} categorical variables\\n'.format(len(categorical)))\n",
    "\n",
    "print('The categorical variables are :\\n\\n', categorical)"
   ]
  },
  {
   "cell_type": "code",
   "execution_count": 112,
   "metadata": {
    "colab": {
     "base_uri": "https://localhost:8080/",
     "height": 206
    },
    "id": "Hxkq4q8DM_E4",
    "outputId": "ecb001ea-8670-464b-9995-7bfa8c8bf47f"
   },
   "outputs": [
    {
     "data": {
      "text/html": [
       "\n",
       "  <div id=\"df-aa2b3495-f2f9-4365-97bb-12762039b116\">\n",
       "    <div class=\"colab-df-container\">\n",
       "      <div>\n",
       "<style scoped>\n",
       "    .dataframe tbody tr th:only-of-type {\n",
       "        vertical-align: middle;\n",
       "    }\n",
       "\n",
       "    .dataframe tbody tr th {\n",
       "        vertical-align: top;\n",
       "    }\n",
       "\n",
       "    .dataframe thead th {\n",
       "        text-align: right;\n",
       "    }\n",
       "</style>\n",
       "<table border=\"1\" class=\"dataframe\">\n",
       "  <thead>\n",
       "    <tr style=\"text-align: right;\">\n",
       "      <th></th>\n",
       "      <th>ord_line_status</th>\n",
       "      <th>ord_type</th>\n",
       "      <th>international_order_ind</th>\n",
       "      <th>City_shipped</th>\n",
       "      <th>Cntry_Shipped</th>\n",
       "    </tr>\n",
       "  </thead>\n",
       "  <tbody>\n",
       "    <tr>\n",
       "      <th>0</th>\n",
       "      <td>D</td>\n",
       "      <td>WEB</td>\n",
       "      <td>F</td>\n",
       "      <td>PORTLAND</td>\n",
       "      <td>US</td>\n",
       "    </tr>\n",
       "    <tr>\n",
       "      <th>1</th>\n",
       "      <td>D</td>\n",
       "      <td>MOB</td>\n",
       "      <td>F</td>\n",
       "      <td>Boise</td>\n",
       "      <td>US</td>\n",
       "    </tr>\n",
       "    <tr>\n",
       "      <th>2</th>\n",
       "      <td>D</td>\n",
       "      <td>MOB</td>\n",
       "      <td>F</td>\n",
       "      <td>Parlin</td>\n",
       "      <td>US</td>\n",
       "    </tr>\n",
       "    <tr>\n",
       "      <th>3</th>\n",
       "      <td>D</td>\n",
       "      <td>WEB</td>\n",
       "      <td>F</td>\n",
       "      <td>JERSEY CITY</td>\n",
       "      <td>US</td>\n",
       "    </tr>\n",
       "    <tr>\n",
       "      <th>4</th>\n",
       "      <td>D</td>\n",
       "      <td>WEB</td>\n",
       "      <td>F</td>\n",
       "      <td>Moses Lake</td>\n",
       "      <td>US</td>\n",
       "    </tr>\n",
       "  </tbody>\n",
       "</table>\n",
       "</div>\n",
       "      <button class=\"colab-df-convert\" onclick=\"convertToInteractive('df-aa2b3495-f2f9-4365-97bb-12762039b116')\"\n",
       "              title=\"Convert this dataframe to an interactive table.\"\n",
       "              style=\"display:none;\">\n",
       "        \n",
       "  <svg xmlns=\"http://www.w3.org/2000/svg\" height=\"24px\"viewBox=\"0 0 24 24\"\n",
       "       width=\"24px\">\n",
       "    <path d=\"M0 0h24v24H0V0z\" fill=\"none\"/>\n",
       "    <path d=\"M18.56 5.44l.94 2.06.94-2.06 2.06-.94-2.06-.94-.94-2.06-.94 2.06-2.06.94zm-11 1L8.5 8.5l.94-2.06 2.06-.94-2.06-.94L8.5 2.5l-.94 2.06-2.06.94zm10 10l.94 2.06.94-2.06 2.06-.94-2.06-.94-.94-2.06-.94 2.06-2.06.94z\"/><path d=\"M17.41 7.96l-1.37-1.37c-.4-.4-.92-.59-1.43-.59-.52 0-1.04.2-1.43.59L10.3 9.45l-7.72 7.72c-.78.78-.78 2.05 0 2.83L4 21.41c.39.39.9.59 1.41.59.51 0 1.02-.2 1.41-.59l7.78-7.78 2.81-2.81c.8-.78.8-2.07 0-2.86zM5.41 20L4 18.59l7.72-7.72 1.47 1.35L5.41 20z\"/>\n",
       "  </svg>\n",
       "      </button>\n",
       "      \n",
       "  <style>\n",
       "    .colab-df-container {\n",
       "      display:flex;\n",
       "      flex-wrap:wrap;\n",
       "      gap: 12px;\n",
       "    }\n",
       "\n",
       "    .colab-df-convert {\n",
       "      background-color: #E8F0FE;\n",
       "      border: none;\n",
       "      border-radius: 50%;\n",
       "      cursor: pointer;\n",
       "      display: none;\n",
       "      fill: #1967D2;\n",
       "      height: 32px;\n",
       "      padding: 0 0 0 0;\n",
       "      width: 32px;\n",
       "    }\n",
       "\n",
       "    .colab-df-convert:hover {\n",
       "      background-color: #E2EBFA;\n",
       "      box-shadow: 0px 1px 2px rgba(60, 64, 67, 0.3), 0px 1px 3px 1px rgba(60, 64, 67, 0.15);\n",
       "      fill: #174EA6;\n",
       "    }\n",
       "\n",
       "    [theme=dark] .colab-df-convert {\n",
       "      background-color: #3B4455;\n",
       "      fill: #D2E3FC;\n",
       "    }\n",
       "\n",
       "    [theme=dark] .colab-df-convert:hover {\n",
       "      background-color: #434B5C;\n",
       "      box-shadow: 0px 1px 3px 1px rgba(0, 0, 0, 0.15);\n",
       "      filter: drop-shadow(0px 1px 2px rgba(0, 0, 0, 0.3));\n",
       "      fill: #FFFFFF;\n",
       "    }\n",
       "  </style>\n",
       "\n",
       "      <script>\n",
       "        const buttonEl =\n",
       "          document.querySelector('#df-aa2b3495-f2f9-4365-97bb-12762039b116 button.colab-df-convert');\n",
       "        buttonEl.style.display =\n",
       "          google.colab.kernel.accessAllowed ? 'block' : 'none';\n",
       "\n",
       "        async function convertToInteractive(key) {\n",
       "          const element = document.querySelector('#df-aa2b3495-f2f9-4365-97bb-12762039b116');\n",
       "          const dataTable =\n",
       "            await google.colab.kernel.invokeFunction('convertToInteractive',\n",
       "                                                     [key], {});\n",
       "          if (!dataTable) return;\n",
       "\n",
       "          const docLinkHtml = 'Like what you see? Visit the ' +\n",
       "            '<a target=\"_blank\" href=https://colab.research.google.com/notebooks/data_table.ipynb>data table notebook</a>'\n",
       "            + ' to learn more about interactive tables.';\n",
       "          element.innerHTML = '';\n",
       "          dataTable['output_type'] = 'display_data';\n",
       "          await google.colab.output.renderOutput(dataTable, element);\n",
       "          const docLink = document.createElement('div');\n",
       "          docLink.innerHTML = docLinkHtml;\n",
       "          element.appendChild(docLink);\n",
       "        }\n",
       "      </script>\n",
       "    </div>\n",
       "  </div>\n",
       "  "
      ],
      "text/plain": [
       "  ord_line_status ord_type international_order_ind City_shipped Cntry_Shipped\n",
       "0               D      WEB                       F     PORTLAND            US\n",
       "1               D      MOB                       F        Boise            US\n",
       "2               D      MOB                       F       Parlin            US\n",
       "3               D      WEB                       F  JERSEY CITY            US\n",
       "4               D      WEB                       F   Moses Lake            US"
      ]
     },
     "execution_count": 112,
     "metadata": {},
     "output_type": "execute_result"
    }
   ],
   "source": [
    "# view the categorical variables\n",
    "df[categorical].head()"
   ]
  },
  {
   "cell_type": "markdown",
   "metadata": {
    "id": "wwhx_HPkM_E4"
   },
   "source": [
    "### Summary of categorical variables\n",
    "\n",
    "\n",
    "- There are 5 categorical variables. \n",
    "\n",
    "\n",
    "- The categorical variables are given by 'ord_line_status', 'ord_type', 'international_order_ind', 'City_shipped' and 'Cntry_Shipped'.\n",
    "\n",
    "\n",
    "- `ord_line_status` is the target variable."
   ]
  },
  {
   "cell_type": "markdown",
   "metadata": {
    "id": "kUM4KQXPM_E8"
   },
   "source": [
    "### Explore problems within categorical variables\n"
   ]
  },
  {
   "cell_type": "code",
   "execution_count": 113,
   "metadata": {
    "colab": {
     "base_uri": "https://localhost:8080/"
    },
    "id": "jJnfhjEDM_E8",
    "outputId": "a75ea5d1-d2b4-4ef7-a5ba-9419bea38d68"
   },
   "outputs": [
    {
     "data": {
      "text/plain": [
       "ord_line_status            0\n",
       "ord_type                   0\n",
       "international_order_ind    0\n",
       "City_shipped               0\n",
       "Cntry_Shipped              0\n",
       "dtype: int64"
      ]
     },
     "execution_count": 113,
     "metadata": {},
     "output_type": "execute_result"
    }
   ],
   "source": [
    "# check missing values in categorical variables\n",
    "\n",
    "df[categorical].isnull().sum()"
   ]
  },
  {
   "cell_type": "markdown",
   "metadata": {
    "id": "tZbndUKhM_E8"
   },
   "source": [
    "### Frequency counts of categorical variables\n"
   ]
  },
  {
   "cell_type": "code",
   "execution_count": 114,
   "metadata": {
    "colab": {
     "base_uri": "https://localhost:8080/"
    },
    "id": "1GXZVaT1M_E9",
    "outputId": "4fc5073f-e1a0-4db2-d04a-37e57237bac2"
   },
   "outputs": [
    {
     "name": "stdout",
     "output_type": "stream",
     "text": [
      "\n",
      "\n",
      "D     786707\n",
      "R     187053\n",
      "X      54490\n",
      "P       2629\n",
      "G         47\n",
      "S         38\n",
      "O         14\n",
      "U          9\n",
      "HY         9\n",
      "HC         7\n",
      "HB         4\n",
      "L          1\n",
      "Name: ord_line_status, dtype: int64\n",
      "\n",
      "\n",
      "WEB    710792\n",
      "MOB    290451\n",
      "TEL     29765\n",
      "Name: ord_type, dtype: int64\n",
      "\n",
      "\n",
      "F    1010726\n",
      "T      20282\n",
      "Name: international_order_ind, dtype: int64\n",
      "\n",
      "\n",
      "New York          36970\n",
      "Brooklyn          28937\n",
      "Los Angeles       13956\n",
      "Chicago           13691\n",
      "Houston           12124\n",
      "                  ...  \n",
      "Victoria Point        1\n",
      "Faison                1\n",
      "Flowery BRanch        1\n",
      "WRIGHTSTOWN           1\n",
      "Bell City             1\n",
      "Name: City_shipped, Length: 23794, dtype: int64\n",
      "\n",
      "\n",
      "US     1008683\n",
      "CA        7789\n",
      "DOM       2634\n",
      "AU        1615\n",
      "SA        1279\n",
      "        ...   \n",
      "RW           1\n",
      "JE           1\n",
      "NC           1\n",
      "BY           1\n",
      "GE           1\n",
      "Name: Cntry_Shipped, Length: 104, dtype: int64\n"
     ]
    }
   ],
   "source": [
    "# view frequency counts of values in categorical variables\n",
    "\n",
    "for var in categorical: \n",
    "    print(\"\\n\")\n",
    "    print(df[var].value_counts())\n"
   ]
  },
  {
   "cell_type": "markdown",
   "metadata": {
    "id": "TuNEPKc5M_FF"
   },
   "source": [
    "### Check missing values in categorical variables again"
   ]
  },
  {
   "cell_type": "code",
   "execution_count": 115,
   "metadata": {
    "colab": {
     "base_uri": "https://localhost:8080/"
    },
    "id": "gBpqU1u1M_FF",
    "outputId": "e7def3fb-8ee9-4275-c026-f579dc76bdeb"
   },
   "outputs": [
    {
     "data": {
      "text/plain": [
       "ord_line_status            0\n",
       "ord_type                   0\n",
       "international_order_ind    0\n",
       "City_shipped               0\n",
       "Cntry_Shipped              0\n",
       "dtype: int64"
      ]
     },
     "execution_count": 115,
     "metadata": {},
     "output_type": "execute_result"
    }
   ],
   "source": [
    "df[categorical].isnull().sum()"
   ]
  },
  {
   "cell_type": "markdown",
   "metadata": {
    "id": "oP0Oe6m2M_FG"
   },
   "source": [
    "### Number of labels: cardinality\n",
    "\n",
    "\n",
    "The number of labels within a categorical variable is known as **cardinality**. A high number of labels within a variable is known as **high cardinality**. High cardinality may pose some serious problems in the machine learning model. "
   ]
  },
  {
   "cell_type": "code",
   "execution_count": 116,
   "metadata": {
    "colab": {
     "base_uri": "https://localhost:8080/"
    },
    "id": "vT_RKFL2M_FG",
    "outputId": "f8098f6f-3b83-4587-fcca-87094adc00aa"
   },
   "outputs": [
    {
     "name": "stdout",
     "output_type": "stream",
     "text": [
      "ord_line_status  contains  12  labels\n",
      "ord_type  contains  3  labels\n",
      "international_order_ind  contains  2  labels\n",
      "City_shipped  contains  23794  labels\n",
      "Cntry_Shipped  contains  104  labels\n"
     ]
    }
   ],
   "source": [
    "# check for cardinality in categorical variables\n",
    "\n",
    "for var in categorical:\n",
    "    \n",
    "    print(var, ' contains ', len(df[var].unique()), ' labels')"
   ]
  },
  {
   "cell_type": "markdown",
   "metadata": {
    "id": "4yoYRafqM_FH"
   },
   "source": [
    "**Observation**: We can see that `City_shipped` column contains relatively large number of labels as compared to other columns and as such it will convey very less credible info . Best to drop it . I will check for cardinality after train-test split."
   ]
  },
  {
   "cell_type": "code",
   "execution_count": 117,
   "metadata": {
    "id": "Lnb9f5PIgRzn"
   },
   "outputs": [],
   "source": [
    "df.drop(['City_shipped'],axis=1,inplace=True)"
   ]
  },
  {
   "cell_type": "markdown",
   "metadata": {
    "id": "IhsUPRWCgcZT"
   },
   "source": [
    "**Observation**: Now We see the Target Variable has 12 labels . But we are only interested in whether an order will be cancelled or not so let us make the target as Binary .\n",
    "\n",
    "> Return or cancel as 1\n",
    "> Every thing else as 0"
   ]
  },
  {
   "cell_type": "code",
   "execution_count": 118,
   "metadata": {
    "colab": {
     "base_uri": "https://localhost:8080/"
    },
    "id": "Y5e0Bs0Qj36T",
    "outputId": "40619efd-b063-49e3-d6fd-42cfee4903e8"
   },
   "outputs": [
    {
     "data": {
      "text/plain": [
       "array(['D', 'G', 'HB', 'HC', 'HY', 'L', 'O', 'P', 'R', 'S', 'U', 'X'],\n",
       "      dtype=object)"
      ]
     },
     "execution_count": 118,
     "metadata": {},
     "output_type": "execute_result"
    }
   ],
   "source": [
    "np.unique(df['ord_line_status'])"
   ]
  },
  {
   "cell_type": "code",
   "execution_count": 119,
   "metadata": {
    "id": "YrwAAMPEgv45"
   },
   "outputs": [],
   "source": [
    "df['ord_line_status']=df['ord_line_status'].replace(['X','R'],1)\n",
    "df['ord_line_status']=df['ord_line_status'].replace(['D', 'G', 'HB', 'HC', 'HY', 'L', 'O', 'P', 'S', 'U'],0)"
   ]
  },
  {
   "cell_type": "code",
   "execution_count": 120,
   "metadata": {
    "colab": {
     "base_uri": "https://localhost:8080/"
    },
    "id": "JXB1YU3pPDEX",
    "outputId": "a58196f6-5e07-449a-975e-f9843c02df81"
   },
   "outputs": [
    {
     "name": "stdout",
     "output_type": "stream",
     "text": [
      "Index(['ord_num', 'ord_line_status', 'ord_type', 'cncl_dol', 'rtn_dol',\n",
      "       'dmd_dol', 'dmd_units', 'Loyalty_Ind', 'Emp_Ind', 'Fship_Ind',\n",
      "       'skn_nbr', 'Subcat_ID', 'Cat_ID', 'Dept_id', 'RTN_UNITS', 'cncl_units',\n",
      "       'international_order_ind', 'Cntry_Shipped', 'ord_shp', 'ord_cncl',\n",
      "       'shp_ret'],\n",
      "      dtype='object')\n"
     ]
    }
   ],
   "source": [
    "print(df.columns)\n"
   ]
  },
  {
   "cell_type": "code",
   "execution_count": 121,
   "metadata": {
    "colab": {
     "base_uri": "https://localhost:8080/",
     "height": 300
    },
    "id": "bc3dGagxk8OQ",
    "outputId": "f96eefd4-dd15-404a-f35b-c1a3caa1e104"
   },
   "outputs": [
    {
     "data": {
      "text/html": [
       "\n",
       "  <div id=\"df-dccf8fbd-8957-4509-9912-630d101dd599\">\n",
       "    <div class=\"colab-df-container\">\n",
       "      <div>\n",
       "<style scoped>\n",
       "    .dataframe tbody tr th:only-of-type {\n",
       "        vertical-align: middle;\n",
       "    }\n",
       "\n",
       "    .dataframe tbody tr th {\n",
       "        vertical-align: top;\n",
       "    }\n",
       "\n",
       "    .dataframe thead th {\n",
       "        text-align: right;\n",
       "    }\n",
       "</style>\n",
       "<table border=\"1\" class=\"dataframe\">\n",
       "  <thead>\n",
       "    <tr style=\"text-align: right;\">\n",
       "      <th></th>\n",
       "      <th>ord_num</th>\n",
       "      <th>ord_line_status</th>\n",
       "      <th>ord_type</th>\n",
       "      <th>cncl_dol</th>\n",
       "      <th>rtn_dol</th>\n",
       "      <th>dmd_dol</th>\n",
       "      <th>dmd_units</th>\n",
       "      <th>Loyalty_Ind</th>\n",
       "      <th>Emp_Ind</th>\n",
       "      <th>Fship_Ind</th>\n",
       "      <th>...</th>\n",
       "      <th>Subcat_ID</th>\n",
       "      <th>Cat_ID</th>\n",
       "      <th>Dept_id</th>\n",
       "      <th>RTN_UNITS</th>\n",
       "      <th>cncl_units</th>\n",
       "      <th>international_order_ind</th>\n",
       "      <th>Cntry_Shipped</th>\n",
       "      <th>ord_shp</th>\n",
       "      <th>ord_cncl</th>\n",
       "      <th>shp_ret</th>\n",
       "    </tr>\n",
       "  </thead>\n",
       "  <tbody>\n",
       "    <tr>\n",
       "      <th>0</th>\n",
       "      <td>7513817.0</td>\n",
       "      <td>0</td>\n",
       "      <td>WEB</td>\n",
       "      <td>0.0</td>\n",
       "      <td>0.0</td>\n",
       "      <td>489.58</td>\n",
       "      <td>10.0</td>\n",
       "      <td>0</td>\n",
       "      <td>0</td>\n",
       "      <td>0</td>\n",
       "      <td>...</td>\n",
       "      <td>969</td>\n",
       "      <td>76</td>\n",
       "      <td>4</td>\n",
       "      <td>0.0</td>\n",
       "      <td>0.0</td>\n",
       "      <td>F</td>\n",
       "      <td>US</td>\n",
       "      <td>29.0</td>\n",
       "      <td>0.0</td>\n",
       "      <td>0.0</td>\n",
       "    </tr>\n",
       "    <tr>\n",
       "      <th>1</th>\n",
       "      <td>9009772.0</td>\n",
       "      <td>0</td>\n",
       "      <td>MOB</td>\n",
       "      <td>0.0</td>\n",
       "      <td>0.0</td>\n",
       "      <td>559.86</td>\n",
       "      <td>10.0</td>\n",
       "      <td>0</td>\n",
       "      <td>0</td>\n",
       "      <td>0</td>\n",
       "      <td>...</td>\n",
       "      <td>903</td>\n",
       "      <td>47</td>\n",
       "      <td>4</td>\n",
       "      <td>0.0</td>\n",
       "      <td>0.0</td>\n",
       "      <td>F</td>\n",
       "      <td>US</td>\n",
       "      <td>1.0</td>\n",
       "      <td>0.0</td>\n",
       "      <td>0.0</td>\n",
       "    </tr>\n",
       "    <tr>\n",
       "      <th>2</th>\n",
       "      <td>8992959.0</td>\n",
       "      <td>0</td>\n",
       "      <td>MOB</td>\n",
       "      <td>0.0</td>\n",
       "      <td>0.0</td>\n",
       "      <td>769.86</td>\n",
       "      <td>10.0</td>\n",
       "      <td>0</td>\n",
       "      <td>0</td>\n",
       "      <td>0</td>\n",
       "      <td>...</td>\n",
       "      <td>971</td>\n",
       "      <td>46</td>\n",
       "      <td>4</td>\n",
       "      <td>0.0</td>\n",
       "      <td>0.0</td>\n",
       "      <td>F</td>\n",
       "      <td>US</td>\n",
       "      <td>1.0</td>\n",
       "      <td>0.0</td>\n",
       "      <td>0.0</td>\n",
       "    </tr>\n",
       "    <tr>\n",
       "      <th>3</th>\n",
       "      <td>7090647.0</td>\n",
       "      <td>0</td>\n",
       "      <td>WEB</td>\n",
       "      <td>0.0</td>\n",
       "      <td>0.0</td>\n",
       "      <td>279.86</td>\n",
       "      <td>10.0</td>\n",
       "      <td>0</td>\n",
       "      <td>0</td>\n",
       "      <td>0</td>\n",
       "      <td>...</td>\n",
       "      <td>978</td>\n",
       "      <td>44</td>\n",
       "      <td>4</td>\n",
       "      <td>0.0</td>\n",
       "      <td>0.0</td>\n",
       "      <td>F</td>\n",
       "      <td>US</td>\n",
       "      <td>0.0</td>\n",
       "      <td>0.0</td>\n",
       "      <td>0.0</td>\n",
       "    </tr>\n",
       "    <tr>\n",
       "      <th>4</th>\n",
       "      <td>7343394.0</td>\n",
       "      <td>0</td>\n",
       "      <td>WEB</td>\n",
       "      <td>0.0</td>\n",
       "      <td>0.0</td>\n",
       "      <td>2519.86</td>\n",
       "      <td>10.0</td>\n",
       "      <td>0</td>\n",
       "      <td>0</td>\n",
       "      <td>0</td>\n",
       "      <td>...</td>\n",
       "      <td>947</td>\n",
       "      <td>47</td>\n",
       "      <td>4</td>\n",
       "      <td>0.0</td>\n",
       "      <td>0.0</td>\n",
       "      <td>F</td>\n",
       "      <td>US</td>\n",
       "      <td>266.0</td>\n",
       "      <td>0.0</td>\n",
       "      <td>0.0</td>\n",
       "    </tr>\n",
       "  </tbody>\n",
       "</table>\n",
       "<p>5 rows × 21 columns</p>\n",
       "</div>\n",
       "      <button class=\"colab-df-convert\" onclick=\"convertToInteractive('df-dccf8fbd-8957-4509-9912-630d101dd599')\"\n",
       "              title=\"Convert this dataframe to an interactive table.\"\n",
       "              style=\"display:none;\">\n",
       "        \n",
       "  <svg xmlns=\"http://www.w3.org/2000/svg\" height=\"24px\"viewBox=\"0 0 24 24\"\n",
       "       width=\"24px\">\n",
       "    <path d=\"M0 0h24v24H0V0z\" fill=\"none\"/>\n",
       "    <path d=\"M18.56 5.44l.94 2.06.94-2.06 2.06-.94-2.06-.94-.94-2.06-.94 2.06-2.06.94zm-11 1L8.5 8.5l.94-2.06 2.06-.94-2.06-.94L8.5 2.5l-.94 2.06-2.06.94zm10 10l.94 2.06.94-2.06 2.06-.94-2.06-.94-.94-2.06-.94 2.06-2.06.94z\"/><path d=\"M17.41 7.96l-1.37-1.37c-.4-.4-.92-.59-1.43-.59-.52 0-1.04.2-1.43.59L10.3 9.45l-7.72 7.72c-.78.78-.78 2.05 0 2.83L4 21.41c.39.39.9.59 1.41.59.51 0 1.02-.2 1.41-.59l7.78-7.78 2.81-2.81c.8-.78.8-2.07 0-2.86zM5.41 20L4 18.59l7.72-7.72 1.47 1.35L5.41 20z\"/>\n",
       "  </svg>\n",
       "      </button>\n",
       "      \n",
       "  <style>\n",
       "    .colab-df-container {\n",
       "      display:flex;\n",
       "      flex-wrap:wrap;\n",
       "      gap: 12px;\n",
       "    }\n",
       "\n",
       "    .colab-df-convert {\n",
       "      background-color: #E8F0FE;\n",
       "      border: none;\n",
       "      border-radius: 50%;\n",
       "      cursor: pointer;\n",
       "      display: none;\n",
       "      fill: #1967D2;\n",
       "      height: 32px;\n",
       "      padding: 0 0 0 0;\n",
       "      width: 32px;\n",
       "    }\n",
       "\n",
       "    .colab-df-convert:hover {\n",
       "      background-color: #E2EBFA;\n",
       "      box-shadow: 0px 1px 2px rgba(60, 64, 67, 0.3), 0px 1px 3px 1px rgba(60, 64, 67, 0.15);\n",
       "      fill: #174EA6;\n",
       "    }\n",
       "\n",
       "    [theme=dark] .colab-df-convert {\n",
       "      background-color: #3B4455;\n",
       "      fill: #D2E3FC;\n",
       "    }\n",
       "\n",
       "    [theme=dark] .colab-df-convert:hover {\n",
       "      background-color: #434B5C;\n",
       "      box-shadow: 0px 1px 3px 1px rgba(0, 0, 0, 0.15);\n",
       "      filter: drop-shadow(0px 1px 2px rgba(0, 0, 0, 0.3));\n",
       "      fill: #FFFFFF;\n",
       "    }\n",
       "  </style>\n",
       "\n",
       "      <script>\n",
       "        const buttonEl =\n",
       "          document.querySelector('#df-dccf8fbd-8957-4509-9912-630d101dd599 button.colab-df-convert');\n",
       "        buttonEl.style.display =\n",
       "          google.colab.kernel.accessAllowed ? 'block' : 'none';\n",
       "\n",
       "        async function convertToInteractive(key) {\n",
       "          const element = document.querySelector('#df-dccf8fbd-8957-4509-9912-630d101dd599');\n",
       "          const dataTable =\n",
       "            await google.colab.kernel.invokeFunction('convertToInteractive',\n",
       "                                                     [key], {});\n",
       "          if (!dataTable) return;\n",
       "\n",
       "          const docLinkHtml = 'Like what you see? Visit the ' +\n",
       "            '<a target=\"_blank\" href=https://colab.research.google.com/notebooks/data_table.ipynb>data table notebook</a>'\n",
       "            + ' to learn more about interactive tables.';\n",
       "          element.innerHTML = '';\n",
       "          dataTable['output_type'] = 'display_data';\n",
       "          await google.colab.output.renderOutput(dataTable, element);\n",
       "          const docLink = document.createElement('div');\n",
       "          docLink.innerHTML = docLinkHtml;\n",
       "          element.appendChild(docLink);\n",
       "        }\n",
       "      </script>\n",
       "    </div>\n",
       "  </div>\n",
       "  "
      ],
      "text/plain": [
       "     ord_num  ord_line_status ord_type  cncl_dol  rtn_dol  dmd_dol  dmd_units  \\\n",
       "0  7513817.0                0      WEB       0.0      0.0   489.58       10.0   \n",
       "1  9009772.0                0      MOB       0.0      0.0   559.86       10.0   \n",
       "2  8992959.0                0      MOB       0.0      0.0   769.86       10.0   \n",
       "3  7090647.0                0      WEB       0.0      0.0   279.86       10.0   \n",
       "4  7343394.0                0      WEB       0.0      0.0  2519.86       10.0   \n",
       "\n",
       "   Loyalty_Ind  Emp_Ind  Fship_Ind  ...  Subcat_ID  Cat_ID  Dept_id  \\\n",
       "0            0        0          0  ...        969      76        4   \n",
       "1            0        0          0  ...        903      47        4   \n",
       "2            0        0          0  ...        971      46        4   \n",
       "3            0        0          0  ...        978      44        4   \n",
       "4            0        0          0  ...        947      47        4   \n",
       "\n",
       "   RTN_UNITS  cncl_units  international_order_ind Cntry_Shipped ord_shp  \\\n",
       "0        0.0         0.0                        F            US    29.0   \n",
       "1        0.0         0.0                        F            US     1.0   \n",
       "2        0.0         0.0                        F            US     1.0   \n",
       "3        0.0         0.0                        F            US     0.0   \n",
       "4        0.0         0.0                        F            US   266.0   \n",
       "\n",
       "   ord_cncl  shp_ret  \n",
       "0       0.0      0.0  \n",
       "1       0.0      0.0  \n",
       "2       0.0      0.0  \n",
       "3       0.0      0.0  \n",
       "4       0.0      0.0  \n",
       "\n",
       "[5 rows x 21 columns]"
      ]
     },
     "execution_count": 121,
     "metadata": {},
     "output_type": "execute_result"
    }
   ],
   "source": [
    "df.head(5)"
   ]
  },
  {
   "cell_type": "code",
   "execution_count": 122,
   "metadata": {
    "id": "TTYYCbVwmKeN"
   },
   "outputs": [],
   "source": [
    "categorical.remove('City_shipped')"
   ]
  },
  {
   "cell_type": "code",
   "execution_count": 123,
   "metadata": {
    "colab": {
     "base_uri": "https://localhost:8080/"
    },
    "id": "6WdI8foCmjSI",
    "outputId": "f6d3a082-56ac-4082-84aa-a47745bd4b3d"
   },
   "outputs": [
    {
     "data": {
      "text/plain": [
       "['ord_line_status', 'ord_type', 'international_order_ind', 'Cntry_Shipped']"
      ]
     },
     "execution_count": 123,
     "metadata": {},
     "output_type": "execute_result"
    }
   ],
   "source": [
    "categorical"
   ]
  },
  {
   "cell_type": "code",
   "execution_count": 124,
   "metadata": {
    "id": "ZS3-bB0UnXpY"
   },
   "outputs": [],
   "source": [
    "df['Target_cat']=df['ord_line_status'].astype('str')"
   ]
  },
  {
   "cell_type": "code",
   "execution_count": 125,
   "metadata": {
    "colab": {
     "base_uri": "https://localhost:8080/",
     "height": 889
    },
    "id": "nwTheHNRM_FL",
    "outputId": "7d233ff8-82a3-4e28-c68e-eea1b49d3fba",
    "scrolled": true
   },
   "outputs": [
    {
     "data": {
      "image/png": "[encoded data removed]",
      "text/plain": [
       "<Figure size 1440x1080 with 4 Axes>"
      ]
     },
     "metadata": {},
     "output_type": "display_data"
    }
   ],
   "source": [
    "import math\n",
    "\n",
    "def plot_bivariate_bar(dataset, hue, cols=5, width=20, height=15, hspace=0.2, wspace=0.5):\n",
    "    dataset = dataset.select_dtypes(include=[np.object])\n",
    "    plt.style.use('seaborn-whitegrid')\n",
    "    fig = plt.figure(figsize=(width,height))\n",
    "    fig.subplots_adjust(left=None, bottom=None, right=None, top=None, wspace=wspace, hspace=hspace)\n",
    "    rows = math.ceil(float(dataset.shape[1]) / cols)\n",
    "    for i, column in enumerate(dataset.columns):\n",
    "        ax = fig.add_subplot(rows, cols, i + 1)\n",
    "        ax.set_title(column)\n",
    "        if dataset.dtypes[column] == np.object:\n",
    "            g = sns.countplot(y=column, hue=hue, data=dataset)\n",
    "            substrings = [s.get_text()[:10] for s in g.get_yticklabels()]\n",
    "            g.set(yticklabels=substrings)\n",
    "            \n",
    "bivariate_df = df.loc[:, [ 'Target_cat','ord_type', 'international_order_ind', 'Cntry_Shipped']]  \n",
    "\n",
    "plot_bivariate_bar(bivariate_df, hue='Target_cat', cols=2, width=20, height=15, hspace=0.4, wspace=0.5)"
   ]
  },
  {
   "cell_type": "markdown",
   "metadata": {
    "id": "IZ12WnoDn2J-"
   },
   "source": [
    "**Observation**:\n",
    "1. There does not seem to be any relation between any specific Country and order cancellation.\n",
    "2. Cancellations mostly happen for International shipments as the volume of trade is primarily via International Shipments.\n",
    "3. Web Based orders form the bulk of all orders \n",
    "4. The business seems quite healthy as cancellations vs shipped is unbalanced with lesser cancellations as per plot 1 "
   ]
  },
  {
   "cell_type": "markdown",
   "metadata": {
    "id": "KNCKJ182M_FI"
   },
   "source": [
    "### Explore Numerical Variables"
   ]
  },
  {
   "cell_type": "code",
   "execution_count": 126,
   "metadata": {
    "colab": {
     "base_uri": "https://localhost:8080/"
    },
    "id": "NOEGqHh-M_FI",
    "outputId": "f5279a94-e76c-43e7-b59c-ad68708b795b"
   },
   "outputs": [
    {
     "name": "stdout",
     "output_type": "stream",
     "text": [
      "There are 18 numerical variables\n",
      "\n",
      "The numerical variables are : ['ord_num', 'ord_line_status', 'cncl_dol', 'rtn_dol', 'dmd_dol', 'dmd_units', 'Loyalty_Ind', 'Emp_Ind', 'Fship_Ind', 'skn_nbr', 'Subcat_ID', 'Cat_ID', 'Dept_id', 'RTN_UNITS', 'cncl_units', 'ord_shp', 'ord_cncl', 'shp_ret']\n"
     ]
    }
   ],
   "source": [
    "# find numerical variables\n",
    "\n",
    "numerical = [var for var in df.columns if df[var].dtype!='O']\n",
    "\n",
    "print('There are {} numerical variables\\n'.format(len(numerical)))\n",
    "\n",
    "print('The numerical variables are :', numerical)"
   ]
  },
  {
   "cell_type": "code",
   "execution_count": 127,
   "metadata": {
    "colab": {
     "base_uri": "https://localhost:8080/",
     "height": 270
    },
    "id": "s63OI0xJM_FJ",
    "outputId": "39ea2c1f-3a45-47bb-f6ed-b64eefedd8d5"
   },
   "outputs": [
    {
     "data": {
      "text/html": [
       "\n",
       "  <div id=\"df-ad50df8d-1539-4518-86eb-41eb596be661\">\n",
       "    <div class=\"colab-df-container\">\n",
       "      <div>\n",
       "<style scoped>\n",
       "    .dataframe tbody tr th:only-of-type {\n",
       "        vertical-align: middle;\n",
       "    }\n",
       "\n",
       "    .dataframe tbody tr th {\n",
       "        vertical-align: top;\n",
       "    }\n",
       "\n",
       "    .dataframe thead th {\n",
       "        text-align: right;\n",
       "    }\n",
       "</style>\n",
       "<table border=\"1\" class=\"dataframe\">\n",
       "  <thead>\n",
       "    <tr style=\"text-align: right;\">\n",
       "      <th></th>\n",
       "      <th>ord_num</th>\n",
       "      <th>ord_line_status</th>\n",
       "      <th>cncl_dol</th>\n",
       "      <th>rtn_dol</th>\n",
       "      <th>dmd_dol</th>\n",
       "      <th>dmd_units</th>\n",
       "      <th>Loyalty_Ind</th>\n",
       "      <th>Emp_Ind</th>\n",
       "      <th>Fship_Ind</th>\n",
       "      <th>skn_nbr</th>\n",
       "      <th>Subcat_ID</th>\n",
       "      <th>Cat_ID</th>\n",
       "      <th>Dept_id</th>\n",
       "      <th>RTN_UNITS</th>\n",
       "      <th>cncl_units</th>\n",
       "      <th>ord_shp</th>\n",
       "      <th>ord_cncl</th>\n",
       "      <th>shp_ret</th>\n",
       "    </tr>\n",
       "  </thead>\n",
       "  <tbody>\n",
       "    <tr>\n",
       "      <th>0</th>\n",
       "      <td>7513817.0</td>\n",
       "      <td>0</td>\n",
       "      <td>0.0</td>\n",
       "      <td>0.0</td>\n",
       "      <td>489.58</td>\n",
       "      <td>10.0</td>\n",
       "      <td>0</td>\n",
       "      <td>0</td>\n",
       "      <td>0</td>\n",
       "      <td>9558428</td>\n",
       "      <td>969</td>\n",
       "      <td>76</td>\n",
       "      <td>4</td>\n",
       "      <td>0.0</td>\n",
       "      <td>0.0</td>\n",
       "      <td>29.0</td>\n",
       "      <td>0.0</td>\n",
       "      <td>0.0</td>\n",
       "    </tr>\n",
       "    <tr>\n",
       "      <th>1</th>\n",
       "      <td>9009772.0</td>\n",
       "      <td>0</td>\n",
       "      <td>0.0</td>\n",
       "      <td>0.0</td>\n",
       "      <td>559.86</td>\n",
       "      <td>10.0</td>\n",
       "      <td>0</td>\n",
       "      <td>0</td>\n",
       "      <td>0</td>\n",
       "      <td>1121512</td>\n",
       "      <td>903</td>\n",
       "      <td>47</td>\n",
       "      <td>4</td>\n",
       "      <td>0.0</td>\n",
       "      <td>0.0</td>\n",
       "      <td>1.0</td>\n",
       "      <td>0.0</td>\n",
       "      <td>0.0</td>\n",
       "    </tr>\n",
       "    <tr>\n",
       "      <th>2</th>\n",
       "      <td>8992959.0</td>\n",
       "      <td>0</td>\n",
       "      <td>0.0</td>\n",
       "      <td>0.0</td>\n",
       "      <td>769.86</td>\n",
       "      <td>10.0</td>\n",
       "      <td>0</td>\n",
       "      <td>0</td>\n",
       "      <td>0</td>\n",
       "      <td>986561</td>\n",
       "      <td>971</td>\n",
       "      <td>46</td>\n",
       "      <td>4</td>\n",
       "      <td>0.0</td>\n",
       "      <td>0.0</td>\n",
       "      <td>1.0</td>\n",
       "      <td>0.0</td>\n",
       "      <td>0.0</td>\n",
       "    </tr>\n",
       "    <tr>\n",
       "      <th>3</th>\n",
       "      <td>7090647.0</td>\n",
       "      <td>0</td>\n",
       "      <td>0.0</td>\n",
       "      <td>0.0</td>\n",
       "      <td>279.86</td>\n",
       "      <td>10.0</td>\n",
       "      <td>0</td>\n",
       "      <td>0</td>\n",
       "      <td>0</td>\n",
       "      <td>960251</td>\n",
       "      <td>978</td>\n",
       "      <td>44</td>\n",
       "      <td>4</td>\n",
       "      <td>0.0</td>\n",
       "      <td>0.0</td>\n",
       "      <td>0.0</td>\n",
       "      <td>0.0</td>\n",
       "      <td>0.0</td>\n",
       "    </tr>\n",
       "    <tr>\n",
       "      <th>4</th>\n",
       "      <td>7343394.0</td>\n",
       "      <td>0</td>\n",
       "      <td>0.0</td>\n",
       "      <td>0.0</td>\n",
       "      <td>2519.86</td>\n",
       "      <td>10.0</td>\n",
       "      <td>0</td>\n",
       "      <td>0</td>\n",
       "      <td>0</td>\n",
       "      <td>9690716</td>\n",
       "      <td>947</td>\n",
       "      <td>47</td>\n",
       "      <td>4</td>\n",
       "      <td>0.0</td>\n",
       "      <td>0.0</td>\n",
       "      <td>266.0</td>\n",
       "      <td>0.0</td>\n",
       "      <td>0.0</td>\n",
       "    </tr>\n",
       "  </tbody>\n",
       "</table>\n",
       "</div>\n",
       "      <button class=\"colab-df-convert\" onclick=\"convertToInteractive('df-ad50df8d-1539-4518-86eb-41eb596be661')\"\n",
       "              title=\"Convert this dataframe to an interactive table.\"\n",
       "              style=\"display:none;\">\n",
       "        \n",
       "  <svg xmlns=\"http://www.w3.org/2000/svg\" height=\"24px\"viewBox=\"0 0 24 24\"\n",
       "       width=\"24px\">\n",
       "    <path d=\"M0 0h24v24H0V0z\" fill=\"none\"/>\n",
       "    <path d=\"M18.56 5.44l.94 2.06.94-2.06 2.06-.94-2.06-.94-.94-2.06-.94 2.06-2.06.94zm-11 1L8.5 8.5l.94-2.06 2.06-.94-2.06-.94L8.5 2.5l-.94 2.06-2.06.94zm10 10l.94 2.06.94-2.06 2.06-.94-2.06-.94-.94-2.06-.94 2.06-2.06.94z\"/><path d=\"M17.41 7.96l-1.37-1.37c-.4-.4-.92-.59-1.43-.59-.52 0-1.04.2-1.43.59L10.3 9.45l-7.72 7.72c-.78.78-.78 2.05 0 2.83L4 21.41c.39.39.9.59 1.41.59.51 0 1.02-.2 1.41-.59l7.78-7.78 2.81-2.81c.8-.78.8-2.07 0-2.86zM5.41 20L4 18.59l7.72-7.72 1.47 1.35L5.41 20z\"/>\n",
       "  </svg>\n",
       "      </button>\n",
       "      \n",
       "  <style>\n",
       "    .colab-df-container {\n",
       "      display:flex;\n",
       "      flex-wrap:wrap;\n",
       "      gap: 12px;\n",
       "    }\n",
       "\n",
       "    .colab-df-convert {\n",
       "      background-color: #E8F0FE;\n",
       "      border: none;\n",
       "      border-radius: 50%;\n",
       "      cursor: pointer;\n",
       "      display: none;\n",
       "      fill: #1967D2;\n",
       "      height: 32px;\n",
       "      padding: 0 0 0 0;\n",
       "      width: 32px;\n",
       "    }\n",
       "\n",
       "    .colab-df-convert:hover {\n",
       "      background-color: #E2EBFA;\n",
       "      box-shadow: 0px 1px 2px rgba(60, 64, 67, 0.3), 0px 1px 3px 1px rgba(60, 64, 67, 0.15);\n",
       "      fill: #174EA6;\n",
       "    }\n",
       "\n",
       "    [theme=dark] .colab-df-convert {\n",
       "      background-color: #3B4455;\n",
       "      fill: #D2E3FC;\n",
       "    }\n",
       "\n",
       "    [theme=dark] .colab-df-convert:hover {\n",
       "      background-color: #434B5C;\n",
       "      box-shadow: 0px 1px 3px 1px rgba(0, 0, 0, 0.15);\n",
       "      filter: drop-shadow(0px 1px 2px rgba(0, 0, 0, 0.3));\n",
       "      fill: #FFFFFF;\n",
       "    }\n",
       "  </style>\n",
       "\n",
       "      <script>\n",
       "        const buttonEl =\n",
       "          document.querySelector('#df-ad50df8d-1539-4518-86eb-41eb596be661 button.colab-df-convert');\n",
       "        buttonEl.style.display =\n",
       "          google.colab.kernel.accessAllowed ? 'block' : 'none';\n",
       "\n",
       "        async function convertToInteractive(key) {\n",
       "          const element = document.querySelector('#df-ad50df8d-1539-4518-86eb-41eb596be661');\n",
       "          const dataTable =\n",
       "            await google.colab.kernel.invokeFunction('convertToInteractive',\n",
       "                                                     [key], {});\n",
       "          if (!dataTable) return;\n",
       "\n",
       "          const docLinkHtml = 'Like what you see? Visit the ' +\n",
       "            '<a target=\"_blank\" href=https://colab.research.google.com/notebooks/data_table.ipynb>data table notebook</a>'\n",
       "            + ' to learn more about interactive tables.';\n",
       "          element.innerHTML = '';\n",
       "          dataTable['output_type'] = 'display_data';\n",
       "          await google.colab.output.renderOutput(dataTable, element);\n",
       "          const docLink = document.createElement('div');\n",
       "          docLink.innerHTML = docLinkHtml;\n",
       "          element.appendChild(docLink);\n",
       "        }\n",
       "      </script>\n",
       "    </div>\n",
       "  </div>\n",
       "  "
      ],
      "text/plain": [
       "     ord_num  ord_line_status  cncl_dol  rtn_dol  dmd_dol  dmd_units  \\\n",
       "0  7513817.0                0       0.0      0.0   489.58       10.0   \n",
       "1  9009772.0                0       0.0      0.0   559.86       10.0   \n",
       "2  8992959.0                0       0.0      0.0   769.86       10.0   \n",
       "3  7090647.0                0       0.0      0.0   279.86       10.0   \n",
       "4  7343394.0                0       0.0      0.0  2519.86       10.0   \n",
       "\n",
       "   Loyalty_Ind  Emp_Ind  Fship_Ind  skn_nbr  Subcat_ID  Cat_ID  Dept_id  \\\n",
       "0            0        0          0  9558428        969      76        4   \n",
       "1            0        0          0  1121512        903      47        4   \n",
       "2            0        0          0   986561        971      46        4   \n",
       "3            0        0          0   960251        978      44        4   \n",
       "4            0        0          0  9690716        947      47        4   \n",
       "\n",
       "   RTN_UNITS  cncl_units  ord_shp  ord_cncl  shp_ret  \n",
       "0        0.0         0.0     29.0       0.0      0.0  \n",
       "1        0.0         0.0      1.0       0.0      0.0  \n",
       "2        0.0         0.0      1.0       0.0      0.0  \n",
       "3        0.0         0.0      0.0       0.0      0.0  \n",
       "4        0.0         0.0    266.0       0.0      0.0  "
      ]
     },
     "execution_count": 127,
     "metadata": {},
     "output_type": "execute_result"
    }
   ],
   "source": [
    "# view the numerical variables\n",
    "\n",
    "df[numerical].head()"
   ]
  },
  {
   "cell_type": "code",
   "execution_count": 128,
   "metadata": {
    "colab": {
     "base_uri": "https://localhost:8080/"
    },
    "id": "xLX9c56korG5",
    "outputId": "2e27c6e5-6a98-4eac-eaad-8f2520fb7ec0"
   },
   "outputs": [
    {
     "data": {
      "text/plain": [
       "['ord_num',\n",
       " 'ord_line_status',\n",
       " 'cncl_dol',\n",
       " 'rtn_dol',\n",
       " 'dmd_dol',\n",
       " 'dmd_units',\n",
       " 'Loyalty_Ind',\n",
       " 'Emp_Ind',\n",
       " 'Fship_Ind',\n",
       " 'skn_nbr',\n",
       " 'Subcat_ID',\n",
       " 'Cat_ID',\n",
       " 'Dept_id',\n",
       " 'RTN_UNITS',\n",
       " 'cncl_units',\n",
       " 'ord_shp',\n",
       " 'ord_cncl',\n",
       " 'shp_ret']"
      ]
     },
     "execution_count": 128,
     "metadata": {},
     "output_type": "execute_result"
    }
   ],
   "source": [
    "numerical"
   ]
  },
  {
   "cell_type": "markdown",
   "metadata": {
    "id": "Bu17wioiM_FJ"
   },
   "source": [
    "### Summary of numerical variables\n",
    "\n",
    "\n",
    "- There are 18 numerical variables. \n",
    "\n",
    "\n",
    "- These are given by \n",
    "\n",
    " 'ord_num',\n",
    " 'ord_line_status',\n",
    " 'cncl_dol',\n",
    " 'rtn_dol',\n",
    " 'dmd_dol',\n",
    " 'dmd_units',\n",
    " 'Loyalty_Ind',\n",
    " 'Emp_Ind',\n",
    " 'Fship_Ind',\n",
    " 'skn_nbr',\n",
    " 'Subcat_ID',\n",
    " 'Cat_ID',\n",
    " 'Dept_id',\n",
    " 'RTN_UNITS',\n",
    " 'cncl_units',\n",
    " 'ord_shp',\n",
    " 'ord_cncl',\n",
    " 'shp_ret'."
   ]
  },
  {
   "cell_type": "markdown",
   "metadata": {
    "id": "_HN7meLsM_FK"
   },
   "source": [
    "### Explore problems within numerical variables\n",
    "\n",
    "\n",
    "\n",
    "### Missing values in numerical variables"
   ]
  },
  {
   "cell_type": "code",
   "execution_count": 129,
   "metadata": {
    "colab": {
     "base_uri": "https://localhost:8080/"
    },
    "id": "xT3IVbx1M_FK",
    "outputId": "dce42a68-98b3-4d70-d16c-ea1d103decf9"
   },
   "outputs": [
    {
     "data": {
      "text/plain": [
       "ord_num            0\n",
       "ord_line_status    0\n",
       "cncl_dol           0\n",
       "rtn_dol            0\n",
       "dmd_dol            0\n",
       "dmd_units          0\n",
       "Loyalty_Ind        0\n",
       "Emp_Ind            0\n",
       "Fship_Ind          0\n",
       "skn_nbr            0\n",
       "Subcat_ID          0\n",
       "Cat_ID             0\n",
       "Dept_id            0\n",
       "RTN_UNITS          0\n",
       "cncl_units         0\n",
       "ord_shp            0\n",
       "ord_cncl           0\n",
       "shp_ret            0\n",
       "dtype: int64"
      ]
     },
     "execution_count": 129,
     "metadata": {},
     "output_type": "execute_result"
    }
   ],
   "source": [
    "# check missing values in numerical variables\n",
    "\n",
    "df[numerical].isnull().sum()"
   ]
  },
  {
   "cell_type": "code",
   "execution_count": 130,
   "metadata": {
    "colab": {
     "base_uri": "https://localhost:8080/",
     "height": 783
    },
    "id": "AwRBCSgBP_rH",
    "outputId": "c2cf4a53-c8fe-4f52-b600-57d015bd9038"
   },
   "outputs": [
    {
     "data": {
      "image/png": "[encoded data removed]",
      "text/plain": [
       "<Figure size 576x432 with 1 Axes>"
      ]
     },
     "metadata": {},
     "output_type": "display_data"
    },
    {
     "data": {
      "image/png": "[encoded data removed]",
      "text/plain": [
       "<Figure size 576x432 with 1 Axes>"
      ]
     },
     "metadata": {},
     "output_type": "display_data"
    }
   ],
   "source": [
    "# Clustered Bar Chart \n",
    "import seaborn as sb\n",
    "plt.figure(figsize=[8,6])\n",
    "ax = sb.barplot(data = df, x = 'ord_line_status', y = 'cncl_dol',hue='ord_type')\n",
    "ax.legend(loc = 8, ncol = 3, framealpha = 1, title = 'ord_type')\n",
    "plt.title('Average of Cancellation amount  relative to ord_type  with Order Status')\n",
    "plt.xlabel('ord_line_status ')\n",
    "plt.ylabel('Average of cancellation amount');\n",
    "\n",
    "\n",
    "plt.figure(figsize=[8,6])\n",
    "ax = sb.barplot(data = df, x = 'ord_line_status', y = 'cncl_dol',hue='international_order_ind')\n",
    "ax.legend(loc = 8, ncol = 3, framealpha = 1, title = 'ord_type')\n",
    "plt.title('Average of Cancellation amount  relative to order destination  with Order Status')\n",
    "plt.xlabel('ord_line_status ')\n",
    "plt.ylabel('Average of cancellation amount');"
   ]
  },
  {
   "cell_type": "markdown",
   "metadata": {
    "id": "2YpDoaHfQOBl"
   },
   "source": [
    "**Observation**: These figures show that cancellation amount is relatively higher for orders placed via televisions. Similar Inferences were drawn for Return Amount and Shipping AMount"
   ]
  },
  {
   "cell_type": "code",
   "execution_count": 18,
   "metadata": {
    "colab": {
     "base_uri": "https://localhost:8080/",
     "height": 744
    },
    "id": "mQY6SSIuM_FL",
    "outputId": "6c850c63-3119-4df2-a27b-b2a05b6bb734"
   },
   "outputs": [
    {
     "data": {
      "image/png": "[encoded data removed]",
      "text/plain": [
       "<Figure size 1008x864 with 2 Axes>"
      ]
     },
     "metadata": {
      "needs_background": "light"
     },
     "output_type": "display_data"
    }
   ],
   "source": [
    "#correlation heatmap of dataset\n",
    "def correlation_heatmap(df):\n",
    "    _ , ax = plt.subplots(figsize =(14, 12))\n",
    "    colormap = sns.diverging_palette(220, 10, as_cmap = True)\n",
    "    \n",
    "    _ = sns.heatmap(\n",
    "        df.corr(), \n",
    "        cmap = \"YlGn\",\n",
    "        square=True, \n",
    "        cbar_kws={'shrink':.9 }, \n",
    "        ax=ax,\n",
    "        annot=True, \n",
    "        linewidths=0.1,vmax=1.0, linecolor='white',\n",
    "        annot_kws={'fontsize':12 }\n",
    "    )\n",
    "    \n",
    "    plt.title('Pearson Correlation of Features', y=1.05, size=15)\n",
    "\n",
    "correlation_heatmap(df)"
   ]
  },
  {
   "cell_type": "code",
   "execution_count": 132,
   "metadata": {
    "id": "001l2ob1M_FM"
   },
   "outputs": [],
   "source": [
    "case_1=df['ord_line_status'].value_counts()[0]\n",
    "case_2=df['ord_line_status'].value_counts()[1]\n",
    "\n",
    "total_counts=case_1+case_2\n",
    "case_1_per=(case_1/total_counts) *100\n",
    "case_2_per=(case_2/total_counts) *100"
   ]
  },
  {
   "cell_type": "code",
   "execution_count": 133,
   "metadata": {
    "colab": {
     "base_uri": "https://localhost:8080/",
     "height": 317
    },
    "id": "h1IMqoxyM_FM",
    "outputId": "985fa4d6-3808-4333-be01-176c24a08c76"
   },
   "outputs": [
    {
     "data": {
      "text/plain": [
       "([<matplotlib.patches.Wedge at 0x7f0f47b02ed0>,\n",
       "  <matplotlib.patches.Wedge at 0x7f0f48c22190>],\n",
       " [Text(-0.8152701517671257, 0.7384677241678259, 'NO Cancellation'),\n",
       "  Text(0.8152701171969552, -0.7384677623333757, 'Cancelled or returned')])"
      ]
     },
     "execution_count": 133,
     "metadata": {},
     "output_type": "execute_result"
    },
    {
     "data": {
      "image/png": "[encoded data removed]",
      "text/plain": [
       "<Figure size 432x288 with 1 Axes>"
      ]
     },
     "metadata": {},
     "output_type": "display_data"
    }
   ],
   "source": [
    "y = np.array([case_1_per,case_2_per])\n",
    "mylabels = [\"NO Cancellation\", \"Cancelled or returned\"]\n",
    "\n",
    "plt.pie(y, labels = mylabels)"
   ]
  },
  {
   "cell_type": "markdown",
   "metadata": {
    "id": "fh73VciJRg3T"
   },
   "source": [
    "**Observation**: There is a Visible Imbalance in the dataset "
   ]
  },
  {
   "cell_type": "code",
   "execution_count": 134,
   "metadata": {
    "colab": {
     "base_uri": "https://localhost:8080/"
    },
    "id": "_r9Ozmd9SG1z",
    "outputId": "4b5e7e22-283c-410b-a9cf-d50d945a9a1a"
   },
   "outputs": [
    {
     "data": {
      "text/plain": [
       "(1031008, 22)"
      ]
     },
     "execution_count": 134,
     "metadata": {},
     "output_type": "execute_result"
    }
   ],
   "source": [
    "df.shape"
   ]
  },
  {
   "cell_type": "code",
   "execution_count": 135,
   "metadata": {
    "colab": {
     "base_uri": "https://localhost:8080/"
    },
    "id": "4oh99xZtsrq-",
    "outputId": "5925d01d-da40-4b95-fcf2-9eac5d0a7826"
   },
   "outputs": [
    {
     "data": {
      "text/plain": [
       "Index(['ord_num', 'ord_line_status', 'ord_type', 'cncl_dol', 'rtn_dol',\n",
       "       'dmd_dol', 'dmd_units', 'Loyalty_Ind', 'Emp_Ind', 'Fship_Ind',\n",
       "       'skn_nbr', 'Subcat_ID', 'Cat_ID', 'Dept_id', 'RTN_UNITS', 'cncl_units',\n",
       "       'international_order_ind', 'Cntry_Shipped', 'ord_shp', 'ord_cncl',\n",
       "       'shp_ret', 'Target_cat'],\n",
       "      dtype='object')"
      ]
     },
     "execution_count": 135,
     "metadata": {},
     "output_type": "execute_result"
    }
   ],
   "source": [
    "df.columns"
   ]
  },
  {
   "cell_type": "code",
   "execution_count": 136,
   "metadata": {
    "id": "LbiueZ3Ds3rk"
   },
   "outputs": [],
   "source": [
    "df.drop(['ord_num','Fship_Ind','Target_cat'],axis=1,inplace=True)   #,'Cntry_Shipped'"
   ]
  },
  {
   "cell_type": "markdown",
   "metadata": {
    "id": "6PZ_POMtM_FN"
   },
   "source": [
    "# **8. Declare feature vector and target variable** <a class=\"anchor\" id=\"8\"></a>\n"
   ]
  },
  {
   "cell_type": "code",
   "execution_count": 137,
   "metadata": {
    "id": "Cnj_FY97M_FN"
   },
   "outputs": [],
   "source": [
    "X = df.drop(['ord_line_status'], axis=1)\n",
    "\n",
    "y = df['ord_line_status']"
   ]
  },
  {
   "cell_type": "code",
   "execution_count": 138,
   "metadata": {
    "colab": {
     "base_uri": "https://localhost:8080/"
    },
    "id": "Jn3lRndiM_FQ",
    "outputId": "b22a9ecb-0814-4f76-bb6c-e91c32ee24ca"
   },
   "outputs": [
    {
     "data": {
      "text/plain": [
       "['ord_type',\n",
       " 'international_order_ind',\n",
       " 'Cntry_Shipped',\n",
       " 'Loyalty_Ind',\n",
       " 'Emp_Ind']"
      ]
     },
     "execution_count": 138,
     "metadata": {},
     "output_type": "execute_result"
    }
   ],
   "source": [
    "# display categorical variables\n",
    "\n",
    "categorical = [col for col in X.columns if X[col].dtypes == 'O']\n",
    "#Loyalty Identifier and Employee Identifier are Binary encoded \n",
    "categorical.append('Loyalty_Ind')\n",
    "categorical.append('Emp_Ind')\n",
    "categorical"
   ]
  },
  {
   "cell_type": "code",
   "execution_count": 139,
   "metadata": {
    "id": "3LZwxtL4xYqm"
   },
   "outputs": [],
   "source": [
    "X['international_order_ind']=X['international_order_ind'].replace(['F'],0)\n",
    "X['international_order_ind']=X['international_order_ind'].replace(['T'],1)"
   ]
  },
  {
   "cell_type": "code",
   "execution_count": 140,
   "metadata": {
    "colab": {
     "base_uri": "https://localhost:8080/"
    },
    "id": "RoDiCzTPM_FQ",
    "outputId": "79729b26-44ea-44c4-90e0-660cee2d0e90"
   },
   "outputs": [
    {
     "data": {
      "text/plain": [
       "['cncl_dol',\n",
       " 'rtn_dol',\n",
       " 'dmd_dol',\n",
       " 'dmd_units',\n",
       " 'skn_nbr',\n",
       " 'Subcat_ID',\n",
       " 'Cat_ID',\n",
       " 'Dept_id',\n",
       " 'RTN_UNITS',\n",
       " 'cncl_units',\n",
       " 'ord_shp',\n",
       " 'ord_cncl',\n",
       " 'shp_ret']"
      ]
     },
     "execution_count": 140,
     "metadata": {},
     "output_type": "execute_result"
    }
   ],
   "source": [
    "# display numerical variables\n",
    "numerical = [col for col in X.columns if (X[col].dtypes != 'O' and col not in categorical)]\n",
    "numerical"
   ]
  },
  {
   "cell_type": "code",
   "execution_count": 141,
   "metadata": {
    "colab": {
     "base_uri": "https://localhost:8080/",
     "height": 424
    },
    "id": "U8DfmucQVpYu",
    "outputId": "a6b3b2ca-24c9-4472-8355-bc60a5bdc705"
   },
   "outputs": [
    {
     "data": {
      "text/html": [
       "\n",
       "  <div id=\"df-01a0e4aa-ab54-483c-a18b-1909ab9221b9\">\n",
       "    <div class=\"colab-df-container\">\n",
       "      <div>\n",
       "<style scoped>\n",
       "    .dataframe tbody tr th:only-of-type {\n",
       "        vertical-align: middle;\n",
       "    }\n",
       "\n",
       "    .dataframe tbody tr th {\n",
       "        vertical-align: top;\n",
       "    }\n",
       "\n",
       "    .dataframe thead th {\n",
       "        text-align: right;\n",
       "    }\n",
       "</style>\n",
       "<table border=\"1\" class=\"dataframe\">\n",
       "  <thead>\n",
       "    <tr style=\"text-align: right;\">\n",
       "      <th></th>\n",
       "      <th>ord_type</th>\n",
       "      <th>international_order_ind</th>\n",
       "      <th>Cntry_Shipped</th>\n",
       "      <th>Loyalty_Ind</th>\n",
       "      <th>Emp_Ind</th>\n",
       "    </tr>\n",
       "  </thead>\n",
       "  <tbody>\n",
       "    <tr>\n",
       "      <th>0</th>\n",
       "      <td>WEB</td>\n",
       "      <td>0</td>\n",
       "      <td>US</td>\n",
       "      <td>0</td>\n",
       "      <td>0</td>\n",
       "    </tr>\n",
       "    <tr>\n",
       "      <th>1</th>\n",
       "      <td>MOB</td>\n",
       "      <td>0</td>\n",
       "      <td>US</td>\n",
       "      <td>0</td>\n",
       "      <td>0</td>\n",
       "    </tr>\n",
       "    <tr>\n",
       "      <th>2</th>\n",
       "      <td>MOB</td>\n",
       "      <td>0</td>\n",
       "      <td>US</td>\n",
       "      <td>0</td>\n",
       "      <td>0</td>\n",
       "    </tr>\n",
       "    <tr>\n",
       "      <th>3</th>\n",
       "      <td>WEB</td>\n",
       "      <td>0</td>\n",
       "      <td>US</td>\n",
       "      <td>0</td>\n",
       "      <td>0</td>\n",
       "    </tr>\n",
       "    <tr>\n",
       "      <th>4</th>\n",
       "      <td>WEB</td>\n",
       "      <td>0</td>\n",
       "      <td>US</td>\n",
       "      <td>0</td>\n",
       "      <td>0</td>\n",
       "    </tr>\n",
       "    <tr>\n",
       "      <th>...</th>\n",
       "      <td>...</td>\n",
       "      <td>...</td>\n",
       "      <td>...</td>\n",
       "      <td>...</td>\n",
       "      <td>...</td>\n",
       "    </tr>\n",
       "    <tr>\n",
       "      <th>1048570</th>\n",
       "      <td>WEB</td>\n",
       "      <td>0</td>\n",
       "      <td>US</td>\n",
       "      <td>0</td>\n",
       "      <td>0</td>\n",
       "    </tr>\n",
       "    <tr>\n",
       "      <th>1048571</th>\n",
       "      <td>WEB</td>\n",
       "      <td>0</td>\n",
       "      <td>US</td>\n",
       "      <td>0</td>\n",
       "      <td>0</td>\n",
       "    </tr>\n",
       "    <tr>\n",
       "      <th>1048572</th>\n",
       "      <td>MOB</td>\n",
       "      <td>0</td>\n",
       "      <td>US</td>\n",
       "      <td>0</td>\n",
       "      <td>0</td>\n",
       "    </tr>\n",
       "    <tr>\n",
       "      <th>1048573</th>\n",
       "      <td>WEB</td>\n",
       "      <td>0</td>\n",
       "      <td>US</td>\n",
       "      <td>0</td>\n",
       "      <td>0</td>\n",
       "    </tr>\n",
       "    <tr>\n",
       "      <th>1048574</th>\n",
       "      <td>WEB</td>\n",
       "      <td>0</td>\n",
       "      <td>US</td>\n",
       "      <td>0</td>\n",
       "      <td>0</td>\n",
       "    </tr>\n",
       "  </tbody>\n",
       "</table>\n",
       "<p>1031008 rows × 5 columns</p>\n",
       "</div>\n",
       "      <button class=\"colab-df-convert\" onclick=\"convertToInteractive('df-01a0e4aa-ab54-483c-a18b-1909ab9221b9')\"\n",
       "              title=\"Convert this dataframe to an interactive table.\"\n",
       "              style=\"display:none;\">\n",
       "        \n",
       "  <svg xmlns=\"http://www.w3.org/2000/svg\" height=\"24px\"viewBox=\"0 0 24 24\"\n",
       "       width=\"24px\">\n",
       "    <path d=\"M0 0h24v24H0V0z\" fill=\"none\"/>\n",
       "    <path d=\"M18.56 5.44l.94 2.06.94-2.06 2.06-.94-2.06-.94-.94-2.06-.94 2.06-2.06.94zm-11 1L8.5 8.5l.94-2.06 2.06-.94-2.06-.94L8.5 2.5l-.94 2.06-2.06.94zm10 10l.94 2.06.94-2.06 2.06-.94-2.06-.94-.94-2.06-.94 2.06-2.06.94z\"/><path d=\"M17.41 7.96l-1.37-1.37c-.4-.4-.92-.59-1.43-.59-.52 0-1.04.2-1.43.59L10.3 9.45l-7.72 7.72c-.78.78-.78 2.05 0 2.83L4 21.41c.39.39.9.59 1.41.59.51 0 1.02-.2 1.41-.59l7.78-7.78 2.81-2.81c.8-.78.8-2.07 0-2.86zM5.41 20L4 18.59l7.72-7.72 1.47 1.35L5.41 20z\"/>\n",
       "  </svg>\n",
       "      </button>\n",
       "      \n",
       "  <style>\n",
       "    .colab-df-container {\n",
       "      display:flex;\n",
       "      flex-wrap:wrap;\n",
       "      gap: 12px;\n",
       "    }\n",
       "\n",
       "    .colab-df-convert {\n",
       "      background-color: #E8F0FE;\n",
       "      border: none;\n",
       "      border-radius: 50%;\n",
       "      cursor: pointer;\n",
       "      display: none;\n",
       "      fill: #1967D2;\n",
       "      height: 32px;\n",
       "      padding: 0 0 0 0;\n",
       "      width: 32px;\n",
       "    }\n",
       "\n",
       "    .colab-df-convert:hover {\n",
       "      background-color: #E2EBFA;\n",
       "      box-shadow: 0px 1px 2px rgba(60, 64, 67, 0.3), 0px 1px 3px 1px rgba(60, 64, 67, 0.15);\n",
       "      fill: #174EA6;\n",
       "    }\n",
       "\n",
       "    [theme=dark] .colab-df-convert {\n",
       "      background-color: #3B4455;\n",
       "      fill: #D2E3FC;\n",
       "    }\n",
       "\n",
       "    [theme=dark] .colab-df-convert:hover {\n",
       "      background-color: #434B5C;\n",
       "      box-shadow: 0px 1px 3px 1px rgba(0, 0, 0, 0.15);\n",
       "      filter: drop-shadow(0px 1px 2px rgba(0, 0, 0, 0.3));\n",
       "      fill: #FFFFFF;\n",
       "    }\n",
       "  </style>\n",
       "\n",
       "      <script>\n",
       "        const buttonEl =\n",
       "          document.querySelector('#df-01a0e4aa-ab54-483c-a18b-1909ab9221b9 button.colab-df-convert');\n",
       "        buttonEl.style.display =\n",
       "          google.colab.kernel.accessAllowed ? 'block' : 'none';\n",
       "\n",
       "        async function convertToInteractive(key) {\n",
       "          const element = document.querySelector('#df-01a0e4aa-ab54-483c-a18b-1909ab9221b9');\n",
       "          const dataTable =\n",
       "            await google.colab.kernel.invokeFunction('convertToInteractive',\n",
       "                                                     [key], {});\n",
       "          if (!dataTable) return;\n",
       "\n",
       "          const docLinkHtml = 'Like what you see? Visit the ' +\n",
       "            '<a target=\"_blank\" href=https://colab.research.google.com/notebooks/data_table.ipynb>data table notebook</a>'\n",
       "            + ' to learn more about interactive tables.';\n",
       "          element.innerHTML = '';\n",
       "          dataTable['output_type'] = 'display_data';\n",
       "          await google.colab.output.renderOutput(dataTable, element);\n",
       "          const docLink = document.createElement('div');\n",
       "          docLink.innerHTML = docLinkHtml;\n",
       "          element.appendChild(docLink);\n",
       "        }\n",
       "      </script>\n",
       "    </div>\n",
       "  </div>\n",
       "  "
      ],
      "text/plain": [
       "        ord_type  international_order_ind Cntry_Shipped  Loyalty_Ind  Emp_Ind\n",
       "0            WEB                        0            US            0        0\n",
       "1            MOB                        0            US            0        0\n",
       "2            MOB                        0            US            0        0\n",
       "3            WEB                        0            US            0        0\n",
       "4            WEB                        0            US            0        0\n",
       "...          ...                      ...           ...          ...      ...\n",
       "1048570      WEB                        0            US            0        0\n",
       "1048571      WEB                        0            US            0        0\n",
       "1048572      MOB                        0            US            0        0\n",
       "1048573      WEB                        0            US            0        0\n",
       "1048574      WEB                        0            US            0        0\n",
       "\n",
       "[1031008 rows x 5 columns]"
      ]
     },
     "execution_count": 141,
     "metadata": {},
     "output_type": "execute_result"
    }
   ],
   "source": [
    "import numpy as np\n",
    "for col in categorical:\n",
    "  X[col]= X[col].replace({np.NaN: 'Unknown'})\n",
    "X[categorical]"
   ]
  },
  {
   "cell_type": "markdown",
   "metadata": {
    "id": "m_Q01yWAM_FN"
   },
   "source": [
    "# **9. Split data into separate training and test set** <a class=\"anchor\" id=\"9\"></a>\n"
   ]
  },
  {
   "cell_type": "code",
   "execution_count": 151,
   "metadata": {
    "id": "_CWT6ixkM_FO"
   },
   "outputs": [],
   "source": [
    "# split X and y into training and testing sets\n",
    "\n",
    "from sklearn.model_selection import train_test_split\n",
    "\n",
    "X_train, X_test, y_train, y_test = train_test_split(X, y, test_size = 0.2, random_state = 42)\n"
   ]
  },
  {
   "cell_type": "code",
   "execution_count": 152,
   "metadata": {
    "colab": {
     "base_uri": "https://localhost:8080/",
     "height": 488
    },
    "id": "1N_nf7DMyj5G",
    "outputId": "ae605cda-7698-48cd-dd97-d3d34167bfa9"
   },
   "outputs": [
    {
     "data": {
      "text/html": [
       "\n",
       "  <div id=\"df-eb11592b-fe02-4a0b-b01f-9985ce90d165\">\n",
       "    <div class=\"colab-df-container\">\n",
       "      <div>\n",
       "<style scoped>\n",
       "    .dataframe tbody tr th:only-of-type {\n",
       "        vertical-align: middle;\n",
       "    }\n",
       "\n",
       "    .dataframe tbody tr th {\n",
       "        vertical-align: top;\n",
       "    }\n",
       "\n",
       "    .dataframe thead th {\n",
       "        text-align: right;\n",
       "    }\n",
       "</style>\n",
       "<table border=\"1\" class=\"dataframe\">\n",
       "  <thead>\n",
       "    <tr style=\"text-align: right;\">\n",
       "      <th></th>\n",
       "      <th>ord_type</th>\n",
       "      <th>cncl_dol</th>\n",
       "      <th>rtn_dol</th>\n",
       "      <th>dmd_dol</th>\n",
       "      <th>dmd_units</th>\n",
       "      <th>Loyalty_Ind</th>\n",
       "      <th>Emp_Ind</th>\n",
       "      <th>skn_nbr</th>\n",
       "      <th>Subcat_ID</th>\n",
       "      <th>Cat_ID</th>\n",
       "      <th>Dept_id</th>\n",
       "      <th>RTN_UNITS</th>\n",
       "      <th>cncl_units</th>\n",
       "      <th>international_order_ind</th>\n",
       "      <th>Cntry_Shipped</th>\n",
       "      <th>ord_shp</th>\n",
       "      <th>ord_cncl</th>\n",
       "      <th>shp_ret</th>\n",
       "    </tr>\n",
       "  </thead>\n",
       "  <tbody>\n",
       "    <tr>\n",
       "      <th>118646</th>\n",
       "      <td>WEB</td>\n",
       "      <td>0.00</td>\n",
       "      <td>149.99</td>\n",
       "      <td>2099.86</td>\n",
       "      <td>10.0</td>\n",
       "      <td>0</td>\n",
       "      <td>0</td>\n",
       "      <td>1085486</td>\n",
       "      <td>968</td>\n",
       "      <td>46</td>\n",
       "      <td>4</td>\n",
       "      <td>1.0</td>\n",
       "      <td>0.0</td>\n",
       "      <td>0</td>\n",
       "      <td>US</td>\n",
       "      <td>121.0</td>\n",
       "      <td>0.0</td>\n",
       "      <td>18.0</td>\n",
       "    </tr>\n",
       "    <tr>\n",
       "      <th>515302</th>\n",
       "      <td>WEB</td>\n",
       "      <td>0.00</td>\n",
       "      <td>0.00</td>\n",
       "      <td>629.86</td>\n",
       "      <td>10.0</td>\n",
       "      <td>0</td>\n",
       "      <td>0</td>\n",
       "      <td>956694</td>\n",
       "      <td>842</td>\n",
       "      <td>47</td>\n",
       "      <td>4</td>\n",
       "      <td>0.0</td>\n",
       "      <td>0.0</td>\n",
       "      <td>0</td>\n",
       "      <td>US</td>\n",
       "      <td>0.0</td>\n",
       "      <td>0.0</td>\n",
       "      <td>0.0</td>\n",
       "    </tr>\n",
       "    <tr>\n",
       "      <th>239378</th>\n",
       "      <td>WEB</td>\n",
       "      <td>0.00</td>\n",
       "      <td>47.99</td>\n",
       "      <td>671.86</td>\n",
       "      <td>10.0</td>\n",
       "      <td>0</td>\n",
       "      <td>0</td>\n",
       "      <td>9847164</td>\n",
       "      <td>825</td>\n",
       "      <td>46</td>\n",
       "      <td>4</td>\n",
       "      <td>1.0</td>\n",
       "      <td>0.0</td>\n",
       "      <td>0</td>\n",
       "      <td>US</td>\n",
       "      <td>1.0</td>\n",
       "      <td>0.0</td>\n",
       "      <td>446.0</td>\n",
       "    </tr>\n",
       "    <tr>\n",
       "      <th>357432</th>\n",
       "      <td>WEB</td>\n",
       "      <td>149.99</td>\n",
       "      <td>0.00</td>\n",
       "      <td>2099.86</td>\n",
       "      <td>10.0</td>\n",
       "      <td>0</td>\n",
       "      <td>0</td>\n",
       "      <td>9852284</td>\n",
       "      <td>947</td>\n",
       "      <td>47</td>\n",
       "      <td>4</td>\n",
       "      <td>0.0</td>\n",
       "      <td>1.0</td>\n",
       "      <td>0</td>\n",
       "      <td>US</td>\n",
       "      <td>0.0</td>\n",
       "      <td>1.0</td>\n",
       "      <td>0.0</td>\n",
       "    </tr>\n",
       "    <tr>\n",
       "      <th>155674</th>\n",
       "      <td>WEB</td>\n",
       "      <td>0.00</td>\n",
       "      <td>0.00</td>\n",
       "      <td>699.86</td>\n",
       "      <td>10.0</td>\n",
       "      <td>0</td>\n",
       "      <td>0</td>\n",
       "      <td>9717232</td>\n",
       "      <td>960</td>\n",
       "      <td>48</td>\n",
       "      <td>4</td>\n",
       "      <td>0.0</td>\n",
       "      <td>0.0</td>\n",
       "      <td>0</td>\n",
       "      <td>US</td>\n",
       "      <td>30.0</td>\n",
       "      <td>0.0</td>\n",
       "      <td>0.0</td>\n",
       "    </tr>\n",
       "    <tr>\n",
       "      <th>...</th>\n",
       "      <td>...</td>\n",
       "      <td>...</td>\n",
       "      <td>...</td>\n",
       "      <td>...</td>\n",
       "      <td>...</td>\n",
       "      <td>...</td>\n",
       "      <td>...</td>\n",
       "      <td>...</td>\n",
       "      <td>...</td>\n",
       "      <td>...</td>\n",
       "      <td>...</td>\n",
       "      <td>...</td>\n",
       "      <td>...</td>\n",
       "      <td>...</td>\n",
       "      <td>...</td>\n",
       "      <td>...</td>\n",
       "      <td>...</td>\n",
       "      <td>...</td>\n",
       "    </tr>\n",
       "    <tr>\n",
       "      <th>263532</th>\n",
       "      <td>WEB</td>\n",
       "      <td>0.00</td>\n",
       "      <td>0.00</td>\n",
       "      <td>671.86</td>\n",
       "      <td>10.0</td>\n",
       "      <td>1</td>\n",
       "      <td>0</td>\n",
       "      <td>9814198</td>\n",
       "      <td>832</td>\n",
       "      <td>46</td>\n",
       "      <td>4</td>\n",
       "      <td>0.0</td>\n",
       "      <td>0.0</td>\n",
       "      <td>0</td>\n",
       "      <td>US</td>\n",
       "      <td>60.0</td>\n",
       "      <td>0.0</td>\n",
       "      <td>0.0</td>\n",
       "    </tr>\n",
       "    <tr>\n",
       "      <th>372074</th>\n",
       "      <td>MOB</td>\n",
       "      <td>0.00</td>\n",
       "      <td>0.00</td>\n",
       "      <td>770.00</td>\n",
       "      <td>10.0</td>\n",
       "      <td>0</td>\n",
       "      <td>0</td>\n",
       "      <td>1093827</td>\n",
       "      <td>818</td>\n",
       "      <td>49</td>\n",
       "      <td>4</td>\n",
       "      <td>0.0</td>\n",
       "      <td>0.0</td>\n",
       "      <td>0</td>\n",
       "      <td>US</td>\n",
       "      <td>1.0</td>\n",
       "      <td>0.0</td>\n",
       "      <td>0.0</td>\n",
       "    </tr>\n",
       "    <tr>\n",
       "      <th>134189</th>\n",
       "      <td>WEB</td>\n",
       "      <td>0.00</td>\n",
       "      <td>0.00</td>\n",
       "      <td>839.86</td>\n",
       "      <td>10.0</td>\n",
       "      <td>0</td>\n",
       "      <td>0</td>\n",
       "      <td>9836432</td>\n",
       "      <td>832</td>\n",
       "      <td>46</td>\n",
       "      <td>4</td>\n",
       "      <td>0.0</td>\n",
       "      <td>0.0</td>\n",
       "      <td>0</td>\n",
       "      <td>US</td>\n",
       "      <td>29.0</td>\n",
       "      <td>0.0</td>\n",
       "      <td>0.0</td>\n",
       "    </tr>\n",
       "    <tr>\n",
       "      <th>682588</th>\n",
       "      <td>MOB</td>\n",
       "      <td>0.00</td>\n",
       "      <td>229.99</td>\n",
       "      <td>3219.86</td>\n",
       "      <td>10.0</td>\n",
       "      <td>0</td>\n",
       "      <td>0</td>\n",
       "      <td>1068451</td>\n",
       "      <td>957</td>\n",
       "      <td>47</td>\n",
       "      <td>4</td>\n",
       "      <td>1.0</td>\n",
       "      <td>0.0</td>\n",
       "      <td>0</td>\n",
       "      <td>US</td>\n",
       "      <td>30.0</td>\n",
       "      <td>0.0</td>\n",
       "      <td>100.0</td>\n",
       "    </tr>\n",
       "    <tr>\n",
       "      <th>124052</th>\n",
       "      <td>WEB</td>\n",
       "      <td>0.00</td>\n",
       "      <td>0.00</td>\n",
       "      <td>1959.86</td>\n",
       "      <td>10.0</td>\n",
       "      <td>0</td>\n",
       "      <td>0</td>\n",
       "      <td>1172501</td>\n",
       "      <td>943</td>\n",
       "      <td>79</td>\n",
       "      <td>4</td>\n",
       "      <td>0.0</td>\n",
       "      <td>0.0</td>\n",
       "      <td>0</td>\n",
       "      <td>US</td>\n",
       "      <td>0.0</td>\n",
       "      <td>0.0</td>\n",
       "      <td>0.0</td>\n",
       "    </tr>\n",
       "  </tbody>\n",
       "</table>\n",
       "<p>824806 rows × 18 columns</p>\n",
       "</div>\n",
       "      <button class=\"colab-df-convert\" onclick=\"convertToInteractive('df-eb11592b-fe02-4a0b-b01f-9985ce90d165')\"\n",
       "              title=\"Convert this dataframe to an interactive table.\"\n",
       "              style=\"display:none;\">\n",
       "        \n",
       "  <svg xmlns=\"http://www.w3.org/2000/svg\" height=\"24px\"viewBox=\"0 0 24 24\"\n",
       "       width=\"24px\">\n",
       "    <path d=\"M0 0h24v24H0V0z\" fill=\"none\"/>\n",
       "    <path d=\"M18.56 5.44l.94 2.06.94-2.06 2.06-.94-2.06-.94-.94-2.06-.94 2.06-2.06.94zm-11 1L8.5 8.5l.94-2.06 2.06-.94-2.06-.94L8.5 2.5l-.94 2.06-2.06.94zm10 10l.94 2.06.94-2.06 2.06-.94-2.06-.94-.94-2.06-.94 2.06-2.06.94z\"/><path d=\"M17.41 7.96l-1.37-1.37c-.4-.4-.92-.59-1.43-.59-.52 0-1.04.2-1.43.59L10.3 9.45l-7.72 7.72c-.78.78-.78 2.05 0 2.83L4 21.41c.39.39.9.59 1.41.59.51 0 1.02-.2 1.41-.59l7.78-7.78 2.81-2.81c.8-.78.8-2.07 0-2.86zM5.41 20L4 18.59l7.72-7.72 1.47 1.35L5.41 20z\"/>\n",
       "  </svg>\n",
       "      </button>\n",
       "      \n",
       "  <style>\n",
       "    .colab-df-container {\n",
       "      display:flex;\n",
       "      flex-wrap:wrap;\n",
       "      gap: 12px;\n",
       "    }\n",
       "\n",
       "    .colab-df-convert {\n",
       "      background-color: #E8F0FE;\n",
       "      border: none;\n",
       "      border-radius: 50%;\n",
       "      cursor: pointer;\n",
       "      display: none;\n",
       "      fill: #1967D2;\n",
       "      height: 32px;\n",
       "      padding: 0 0 0 0;\n",
       "      width: 32px;\n",
       "    }\n",
       "\n",
       "    .colab-df-convert:hover {\n",
       "      background-color: #E2EBFA;\n",
       "      box-shadow: 0px 1px 2px rgba(60, 64, 67, 0.3), 0px 1px 3px 1px rgba(60, 64, 67, 0.15);\n",
       "      fill: #174EA6;\n",
       "    }\n",
       "\n",
       "    [theme=dark] .colab-df-convert {\n",
       "      background-color: #3B4455;\n",
       "      fill: #D2E3FC;\n",
       "    }\n",
       "\n",
       "    [theme=dark] .colab-df-convert:hover {\n",
       "      background-color: #434B5C;\n",
       "      box-shadow: 0px 1px 3px 1px rgba(0, 0, 0, 0.15);\n",
       "      filter: drop-shadow(0px 1px 2px rgba(0, 0, 0, 0.3));\n",
       "      fill: #FFFFFF;\n",
       "    }\n",
       "  </style>\n",
       "\n",
       "      <script>\n",
       "        const buttonEl =\n",
       "          document.querySelector('#df-eb11592b-fe02-4a0b-b01f-9985ce90d165 button.colab-df-convert');\n",
       "        buttonEl.style.display =\n",
       "          google.colab.kernel.accessAllowed ? 'block' : 'none';\n",
       "\n",
       "        async function convertToInteractive(key) {\n",
       "          const element = document.querySelector('#df-eb11592b-fe02-4a0b-b01f-9985ce90d165');\n",
       "          const dataTable =\n",
       "            await google.colab.kernel.invokeFunction('convertToInteractive',\n",
       "                                                     [key], {});\n",
       "          if (!dataTable) return;\n",
       "\n",
       "          const docLinkHtml = 'Like what you see? Visit the ' +\n",
       "            '<a target=\"_blank\" href=https://colab.research.google.com/notebooks/data_table.ipynb>data table notebook</a>'\n",
       "            + ' to learn more about interactive tables.';\n",
       "          element.innerHTML = '';\n",
       "          dataTable['output_type'] = 'display_data';\n",
       "          await google.colab.output.renderOutput(dataTable, element);\n",
       "          const docLink = document.createElement('div');\n",
       "          docLink.innerHTML = docLinkHtml;\n",
       "          element.appendChild(docLink);\n",
       "        }\n",
       "      </script>\n",
       "    </div>\n",
       "  </div>\n",
       "  "
      ],
      "text/plain": [
       "       ord_type  cncl_dol  rtn_dol  dmd_dol  dmd_units  Loyalty_Ind  Emp_Ind  \\\n",
       "118646      WEB      0.00   149.99  2099.86       10.0            0        0   \n",
       "515302      WEB      0.00     0.00   629.86       10.0            0        0   \n",
       "239378      WEB      0.00    47.99   671.86       10.0            0        0   \n",
       "357432      WEB    149.99     0.00  2099.86       10.0            0        0   \n",
       "155674      WEB      0.00     0.00   699.86       10.0            0        0   \n",
       "...         ...       ...      ...      ...        ...          ...      ...   \n",
       "263532      WEB      0.00     0.00   671.86       10.0            1        0   \n",
       "372074      MOB      0.00     0.00   770.00       10.0            0        0   \n",
       "134189      WEB      0.00     0.00   839.86       10.0            0        0   \n",
       "682588      MOB      0.00   229.99  3219.86       10.0            0        0   \n",
       "124052      WEB      0.00     0.00  1959.86       10.0            0        0   \n",
       "\n",
       "        skn_nbr  Subcat_ID  Cat_ID  Dept_id  RTN_UNITS  cncl_units  \\\n",
       "118646  1085486        968      46        4        1.0         0.0   \n",
       "515302   956694        842      47        4        0.0         0.0   \n",
       "239378  9847164        825      46        4        1.0         0.0   \n",
       "357432  9852284        947      47        4        0.0         1.0   \n",
       "155674  9717232        960      48        4        0.0         0.0   \n",
       "...         ...        ...     ...      ...        ...         ...   \n",
       "263532  9814198        832      46        4        0.0         0.0   \n",
       "372074  1093827        818      49        4        0.0         0.0   \n",
       "134189  9836432        832      46        4        0.0         0.0   \n",
       "682588  1068451        957      47        4        1.0         0.0   \n",
       "124052  1172501        943      79        4        0.0         0.0   \n",
       "\n",
       "        international_order_ind Cntry_Shipped  ord_shp  ord_cncl  shp_ret  \n",
       "118646                        0            US    121.0       0.0     18.0  \n",
       "515302                        0            US      0.0       0.0      0.0  \n",
       "239378                        0            US      1.0       0.0    446.0  \n",
       "357432                        0            US      0.0       1.0      0.0  \n",
       "155674                        0            US     30.0       0.0      0.0  \n",
       "...                         ...           ...      ...       ...      ...  \n",
       "263532                        0            US     60.0       0.0      0.0  \n",
       "372074                        0            US      1.0       0.0      0.0  \n",
       "134189                        0            US     29.0       0.0      0.0  \n",
       "682588                        0            US     30.0       0.0    100.0  \n",
       "124052                        0            US      0.0       0.0      0.0  \n",
       "\n",
       "[824806 rows x 18 columns]"
      ]
     },
     "execution_count": 152,
     "metadata": {},
     "output_type": "execute_result"
    }
   ],
   "source": [
    "X_train"
   ]
  },
  {
   "cell_type": "code",
   "execution_count": 153,
   "metadata": {
    "colab": {
     "base_uri": "https://localhost:8080/"
    },
    "id": "mdpksPjIM_FO",
    "outputId": "7b3ccb49-418c-45f8-9784-db3537b29e7b"
   },
   "outputs": [
    {
     "data": {
      "text/plain": [
       "((824806, 18), (206202, 18))"
      ]
     },
     "execution_count": 153,
     "metadata": {},
     "output_type": "execute_result"
    }
   ],
   "source": [
    "# check the shape of X_train and X_test\n",
    "\n",
    "X_train.shape, X_test.shape"
   ]
  },
  {
   "cell_type": "markdown",
   "metadata": {
    "id": "i50uzABtM_FP"
   },
   "source": [
    "# **10. Feature Engineering** <a class=\"anchor\" id=\"10\"></a>\n",
    "\n",
    "\n",
    "\n",
    "**Feature Engineering** is the process of transforming raw data into useful features that help us to understand our model better and increase its predictive power. I will carry out feature engineering on different types of variables.\n",
    "\n",
    "\n",
    "First, I will display the categorical and numerical variables again separately."
   ]
  },
  {
   "cell_type": "markdown",
   "metadata": {
    "id": "AO0yt2GSM_FV"
   },
   "source": [
    "### Encode categorical variables"
   ]
  },
  {
   "cell_type": "code",
   "execution_count": 154,
   "metadata": {
    "colab": {
     "base_uri": "https://localhost:8080/"
    },
    "id": "cQ-pa2mOmqDw",
    "outputId": "b4b92b0f-b7e8-47c7-dff6-426eb47ca01d"
   },
   "outputs": [
    {
     "name": "stdout",
     "output_type": "stream",
     "text": [
      "Looking in indexes: https://pypi.org/simple, https://us-python.pkg.dev/colab-wheels/public/simple/\n",
      "Requirement already satisfied: category_encoders in /usr/local/lib/python3.7/dist-packages (2.5.0)\n",
      "Requirement already satisfied: statsmodels>=0.9.0 in /usr/local/lib/python3.7/dist-packages (from category_encoders) (0.12.2)\n",
      "Requirement already satisfied: patsy>=0.5.1 in /usr/local/lib/python3.7/dist-packages (from category_encoders) (0.5.2)\n",
      "Requirement already satisfied: numpy>=1.14.0 in /usr/local/lib/python3.7/dist-packages (from category_encoders) (1.21.6)\n",
      "Requirement already satisfied: pandas>=1.0.5 in /usr/local/lib/python3.7/dist-packages (from category_encoders) (1.3.5)\n",
      "Requirement already satisfied: scikit-learn>=0.20.0 in /usr/local/lib/python3.7/dist-packages (from category_encoders) (1.0.2)\n",
      "Requirement already satisfied: scipy>=1.0.0 in /usr/local/lib/python3.7/dist-packages (from category_encoders) (1.7.3)\n",
      "Requirement already satisfied: pytz>=2017.3 in /usr/local/lib/python3.7/dist-packages (from pandas>=1.0.5->category_encoders) (2022.2.1)\n",
      "Requirement already satisfied: python-dateutil>=2.7.3 in /usr/local/lib/python3.7/dist-packages (from pandas>=1.0.5->category_encoders) (2.8.2)\n",
      "Requirement already satisfied: six in /usr/local/lib/python3.7/dist-packages (from patsy>=0.5.1->category_encoders) (1.15.0)\n",
      "Requirement already satisfied: threadpoolctl>=2.0.0 in /usr/local/lib/python3.7/dist-packages (from scikit-learn>=0.20.0->category_encoders) (3.1.0)\n",
      "Requirement already satisfied: joblib>=0.11 in /usr/local/lib/python3.7/dist-packages (from scikit-learn>=0.20.0->category_encoders) (1.1.0)\n"
     ]
    }
   ],
   "source": [
    "!pip install category_encoders"
   ]
  },
  {
   "cell_type": "code",
   "execution_count": 155,
   "metadata": {
    "colab": {
     "base_uri": "https://localhost:8080/"
    },
    "id": "h7rVAcRfuQN5",
    "outputId": "4bc97154-fc3d-4e20-9e6f-13061a84b4d9"
   },
   "outputs": [
    {
     "data": {
      "text/plain": [
       "['ord_type',\n",
       " 'international_order_ind',\n",
       " 'Cntry_Shipped',\n",
       " 'Loyalty_Ind',\n",
       " 'Emp_Ind']"
      ]
     },
     "execution_count": 155,
     "metadata": {},
     "output_type": "execute_result"
    }
   ],
   "source": [
    "categorical"
   ]
  },
  {
   "cell_type": "code",
   "execution_count": 156,
   "metadata": {
    "colab": {
     "base_uri": "https://localhost:8080/",
     "height": 488
    },
    "id": "es7ozR-Lwhs0",
    "outputId": "f6018540-344f-4c19-f9e1-38dff5de3b40"
   },
   "outputs": [
    {
     "data": {
      "text/html": [
       "\n",
       "  <div id=\"df-2d6c0c19-135b-440b-8a50-6c7cbb50c04f\">\n",
       "    <div class=\"colab-df-container\">\n",
       "      <div>\n",
       "<style scoped>\n",
       "    .dataframe tbody tr th:only-of-type {\n",
       "        vertical-align: middle;\n",
       "    }\n",
       "\n",
       "    .dataframe tbody tr th {\n",
       "        vertical-align: top;\n",
       "    }\n",
       "\n",
       "    .dataframe thead th {\n",
       "        text-align: right;\n",
       "    }\n",
       "</style>\n",
       "<table border=\"1\" class=\"dataframe\">\n",
       "  <thead>\n",
       "    <tr style=\"text-align: right;\">\n",
       "      <th></th>\n",
       "      <th>ord_type</th>\n",
       "      <th>cncl_dol</th>\n",
       "      <th>rtn_dol</th>\n",
       "      <th>dmd_dol</th>\n",
       "      <th>dmd_units</th>\n",
       "      <th>Loyalty_Ind</th>\n",
       "      <th>Emp_Ind</th>\n",
       "      <th>skn_nbr</th>\n",
       "      <th>Subcat_ID</th>\n",
       "      <th>Cat_ID</th>\n",
       "      <th>Dept_id</th>\n",
       "      <th>RTN_UNITS</th>\n",
       "      <th>cncl_units</th>\n",
       "      <th>international_order_ind</th>\n",
       "      <th>Cntry_Shipped</th>\n",
       "      <th>ord_shp</th>\n",
       "      <th>ord_cncl</th>\n",
       "      <th>shp_ret</th>\n",
       "    </tr>\n",
       "  </thead>\n",
       "  <tbody>\n",
       "    <tr>\n",
       "      <th>118646</th>\n",
       "      <td>WEB</td>\n",
       "      <td>0.00</td>\n",
       "      <td>149.99</td>\n",
       "      <td>2099.86</td>\n",
       "      <td>10.0</td>\n",
       "      <td>0</td>\n",
       "      <td>0</td>\n",
       "      <td>1085486</td>\n",
       "      <td>968</td>\n",
       "      <td>46</td>\n",
       "      <td>4</td>\n",
       "      <td>1.0</td>\n",
       "      <td>0.0</td>\n",
       "      <td>0</td>\n",
       "      <td>US</td>\n",
       "      <td>121.0</td>\n",
       "      <td>0.0</td>\n",
       "      <td>18.0</td>\n",
       "    </tr>\n",
       "    <tr>\n",
       "      <th>515302</th>\n",
       "      <td>WEB</td>\n",
       "      <td>0.00</td>\n",
       "      <td>0.00</td>\n",
       "      <td>629.86</td>\n",
       "      <td>10.0</td>\n",
       "      <td>0</td>\n",
       "      <td>0</td>\n",
       "      <td>956694</td>\n",
       "      <td>842</td>\n",
       "      <td>47</td>\n",
       "      <td>4</td>\n",
       "      <td>0.0</td>\n",
       "      <td>0.0</td>\n",
       "      <td>0</td>\n",
       "      <td>US</td>\n",
       "      <td>0.0</td>\n",
       "      <td>0.0</td>\n",
       "      <td>0.0</td>\n",
       "    </tr>\n",
       "    <tr>\n",
       "      <th>239378</th>\n",
       "      <td>WEB</td>\n",
       "      <td>0.00</td>\n",
       "      <td>47.99</td>\n",
       "      <td>671.86</td>\n",
       "      <td>10.0</td>\n",
       "      <td>0</td>\n",
       "      <td>0</td>\n",
       "      <td>9847164</td>\n",
       "      <td>825</td>\n",
       "      <td>46</td>\n",
       "      <td>4</td>\n",
       "      <td>1.0</td>\n",
       "      <td>0.0</td>\n",
       "      <td>0</td>\n",
       "      <td>US</td>\n",
       "      <td>1.0</td>\n",
       "      <td>0.0</td>\n",
       "      <td>446.0</td>\n",
       "    </tr>\n",
       "    <tr>\n",
       "      <th>357432</th>\n",
       "      <td>WEB</td>\n",
       "      <td>149.99</td>\n",
       "      <td>0.00</td>\n",
       "      <td>2099.86</td>\n",
       "      <td>10.0</td>\n",
       "      <td>0</td>\n",
       "      <td>0</td>\n",
       "      <td>9852284</td>\n",
       "      <td>947</td>\n",
       "      <td>47</td>\n",
       "      <td>4</td>\n",
       "      <td>0.0</td>\n",
       "      <td>1.0</td>\n",
       "      <td>0</td>\n",
       "      <td>US</td>\n",
       "      <td>0.0</td>\n",
       "      <td>1.0</td>\n",
       "      <td>0.0</td>\n",
       "    </tr>\n",
       "    <tr>\n",
       "      <th>155674</th>\n",
       "      <td>WEB</td>\n",
       "      <td>0.00</td>\n",
       "      <td>0.00</td>\n",
       "      <td>699.86</td>\n",
       "      <td>10.0</td>\n",
       "      <td>0</td>\n",
       "      <td>0</td>\n",
       "      <td>9717232</td>\n",
       "      <td>960</td>\n",
       "      <td>48</td>\n",
       "      <td>4</td>\n",
       "      <td>0.0</td>\n",
       "      <td>0.0</td>\n",
       "      <td>0</td>\n",
       "      <td>US</td>\n",
       "      <td>30.0</td>\n",
       "      <td>0.0</td>\n",
       "      <td>0.0</td>\n",
       "    </tr>\n",
       "    <tr>\n",
       "      <th>...</th>\n",
       "      <td>...</td>\n",
       "      <td>...</td>\n",
       "      <td>...</td>\n",
       "      <td>...</td>\n",
       "      <td>...</td>\n",
       "      <td>...</td>\n",
       "      <td>...</td>\n",
       "      <td>...</td>\n",
       "      <td>...</td>\n",
       "      <td>...</td>\n",
       "      <td>...</td>\n",
       "      <td>...</td>\n",
       "      <td>...</td>\n",
       "      <td>...</td>\n",
       "      <td>...</td>\n",
       "      <td>...</td>\n",
       "      <td>...</td>\n",
       "      <td>...</td>\n",
       "    </tr>\n",
       "    <tr>\n",
       "      <th>263532</th>\n",
       "      <td>WEB</td>\n",
       "      <td>0.00</td>\n",
       "      <td>0.00</td>\n",
       "      <td>671.86</td>\n",
       "      <td>10.0</td>\n",
       "      <td>1</td>\n",
       "      <td>0</td>\n",
       "      <td>9814198</td>\n",
       "      <td>832</td>\n",
       "      <td>46</td>\n",
       "      <td>4</td>\n",
       "      <td>0.0</td>\n",
       "      <td>0.0</td>\n",
       "      <td>0</td>\n",
       "      <td>US</td>\n",
       "      <td>60.0</td>\n",
       "      <td>0.0</td>\n",
       "      <td>0.0</td>\n",
       "    </tr>\n",
       "    <tr>\n",
       "      <th>372074</th>\n",
       "      <td>MOB</td>\n",
       "      <td>0.00</td>\n",
       "      <td>0.00</td>\n",
       "      <td>770.00</td>\n",
       "      <td>10.0</td>\n",
       "      <td>0</td>\n",
       "      <td>0</td>\n",
       "      <td>1093827</td>\n",
       "      <td>818</td>\n",
       "      <td>49</td>\n",
       "      <td>4</td>\n",
       "      <td>0.0</td>\n",
       "      <td>0.0</td>\n",
       "      <td>0</td>\n",
       "      <td>US</td>\n",
       "      <td>1.0</td>\n",
       "      <td>0.0</td>\n",
       "      <td>0.0</td>\n",
       "    </tr>\n",
       "    <tr>\n",
       "      <th>134189</th>\n",
       "      <td>WEB</td>\n",
       "      <td>0.00</td>\n",
       "      <td>0.00</td>\n",
       "      <td>839.86</td>\n",
       "      <td>10.0</td>\n",
       "      <td>0</td>\n",
       "      <td>0</td>\n",
       "      <td>9836432</td>\n",
       "      <td>832</td>\n",
       "      <td>46</td>\n",
       "      <td>4</td>\n",
       "      <td>0.0</td>\n",
       "      <td>0.0</td>\n",
       "      <td>0</td>\n",
       "      <td>US</td>\n",
       "      <td>29.0</td>\n",
       "      <td>0.0</td>\n",
       "      <td>0.0</td>\n",
       "    </tr>\n",
       "    <tr>\n",
       "      <th>682588</th>\n",
       "      <td>MOB</td>\n",
       "      <td>0.00</td>\n",
       "      <td>229.99</td>\n",
       "      <td>3219.86</td>\n",
       "      <td>10.0</td>\n",
       "      <td>0</td>\n",
       "      <td>0</td>\n",
       "      <td>1068451</td>\n",
       "      <td>957</td>\n",
       "      <td>47</td>\n",
       "      <td>4</td>\n",
       "      <td>1.0</td>\n",
       "      <td>0.0</td>\n",
       "      <td>0</td>\n",
       "      <td>US</td>\n",
       "      <td>30.0</td>\n",
       "      <td>0.0</td>\n",
       "      <td>100.0</td>\n",
       "    </tr>\n",
       "    <tr>\n",
       "      <th>124052</th>\n",
       "      <td>WEB</td>\n",
       "      <td>0.00</td>\n",
       "      <td>0.00</td>\n",
       "      <td>1959.86</td>\n",
       "      <td>10.0</td>\n",
       "      <td>0</td>\n",
       "      <td>0</td>\n",
       "      <td>1172501</td>\n",
       "      <td>943</td>\n",
       "      <td>79</td>\n",
       "      <td>4</td>\n",
       "      <td>0.0</td>\n",
       "      <td>0.0</td>\n",
       "      <td>0</td>\n",
       "      <td>US</td>\n",
       "      <td>0.0</td>\n",
       "      <td>0.0</td>\n",
       "      <td>0.0</td>\n",
       "    </tr>\n",
       "  </tbody>\n",
       "</table>\n",
       "<p>824806 rows × 18 columns</p>\n",
       "</div>\n",
       "      <button class=\"colab-df-convert\" onclick=\"convertToInteractive('df-2d6c0c19-135b-440b-8a50-6c7cbb50c04f')\"\n",
       "              title=\"Convert this dataframe to an interactive table.\"\n",
       "              style=\"display:none;\">\n",
       "        \n",
       "  <svg xmlns=\"http://www.w3.org/2000/svg\" height=\"24px\"viewBox=\"0 0 24 24\"\n",
       "       width=\"24px\">\n",
       "    <path d=\"M0 0h24v24H0V0z\" fill=\"none\"/>\n",
       "    <path d=\"M18.56 5.44l.94 2.06.94-2.06 2.06-.94-2.06-.94-.94-2.06-.94 2.06-2.06.94zm-11 1L8.5 8.5l.94-2.06 2.06-.94-2.06-.94L8.5 2.5l-.94 2.06-2.06.94zm10 10l.94 2.06.94-2.06 2.06-.94-2.06-.94-.94-2.06-.94 2.06-2.06.94z\"/><path d=\"M17.41 7.96l-1.37-1.37c-.4-.4-.92-.59-1.43-.59-.52 0-1.04.2-1.43.59L10.3 9.45l-7.72 7.72c-.78.78-.78 2.05 0 2.83L4 21.41c.39.39.9.59 1.41.59.51 0 1.02-.2 1.41-.59l7.78-7.78 2.81-2.81c.8-.78.8-2.07 0-2.86zM5.41 20L4 18.59l7.72-7.72 1.47 1.35L5.41 20z\"/>\n",
       "  </svg>\n",
       "      </button>\n",
       "      \n",
       "  <style>\n",
       "    .colab-df-container {\n",
       "      display:flex;\n",
       "      flex-wrap:wrap;\n",
       "      gap: 12px;\n",
       "    }\n",
       "\n",
       "    .colab-df-convert {\n",
       "      background-color: #E8F0FE;\n",
       "      border: none;\n",
       "      border-radius: 50%;\n",
       "      cursor: pointer;\n",
       "      display: none;\n",
       "      fill: #1967D2;\n",
       "      height: 32px;\n",
       "      padding: 0 0 0 0;\n",
       "      width: 32px;\n",
       "    }\n",
       "\n",
       "    .colab-df-convert:hover {\n",
       "      background-color: #E2EBFA;\n",
       "      box-shadow: 0px 1px 2px rgba(60, 64, 67, 0.3), 0px 1px 3px 1px rgba(60, 64, 67, 0.15);\n",
       "      fill: #174EA6;\n",
       "    }\n",
       "\n",
       "    [theme=dark] .colab-df-convert {\n",
       "      background-color: #3B4455;\n",
       "      fill: #D2E3FC;\n",
       "    }\n",
       "\n",
       "    [theme=dark] .colab-df-convert:hover {\n",
       "      background-color: #434B5C;\n",
       "      box-shadow: 0px 1px 3px 1px rgba(0, 0, 0, 0.15);\n",
       "      filter: drop-shadow(0px 1px 2px rgba(0, 0, 0, 0.3));\n",
       "      fill: #FFFFFF;\n",
       "    }\n",
       "  </style>\n",
       "\n",
       "      <script>\n",
       "        const buttonEl =\n",
       "          document.querySelector('#df-2d6c0c19-135b-440b-8a50-6c7cbb50c04f button.colab-df-convert');\n",
       "        buttonEl.style.display =\n",
       "          google.colab.kernel.accessAllowed ? 'block' : 'none';\n",
       "\n",
       "        async function convertToInteractive(key) {\n",
       "          const element = document.querySelector('#df-2d6c0c19-135b-440b-8a50-6c7cbb50c04f');\n",
       "          const dataTable =\n",
       "            await google.colab.kernel.invokeFunction('convertToInteractive',\n",
       "                                                     [key], {});\n",
       "          if (!dataTable) return;\n",
       "\n",
       "          const docLinkHtml = 'Like what you see? Visit the ' +\n",
       "            '<a target=\"_blank\" href=https://colab.research.google.com/notebooks/data_table.ipynb>data table notebook</a>'\n",
       "            + ' to learn more about interactive tables.';\n",
       "          element.innerHTML = '';\n",
       "          dataTable['output_type'] = 'display_data';\n",
       "          await google.colab.output.renderOutput(dataTable, element);\n",
       "          const docLink = document.createElement('div');\n",
       "          docLink.innerHTML = docLinkHtml;\n",
       "          element.appendChild(docLink);\n",
       "        }\n",
       "      </script>\n",
       "    </div>\n",
       "  </div>\n",
       "  "
      ],
      "text/plain": [
       "       ord_type  cncl_dol  rtn_dol  dmd_dol  dmd_units  Loyalty_Ind  Emp_Ind  \\\n",
       "118646      WEB      0.00   149.99  2099.86       10.0            0        0   \n",
       "515302      WEB      0.00     0.00   629.86       10.0            0        0   \n",
       "239378      WEB      0.00    47.99   671.86       10.0            0        0   \n",
       "357432      WEB    149.99     0.00  2099.86       10.0            0        0   \n",
       "155674      WEB      0.00     0.00   699.86       10.0            0        0   \n",
       "...         ...       ...      ...      ...        ...          ...      ...   \n",
       "263532      WEB      0.00     0.00   671.86       10.0            1        0   \n",
       "372074      MOB      0.00     0.00   770.00       10.0            0        0   \n",
       "134189      WEB      0.00     0.00   839.86       10.0            0        0   \n",
       "682588      MOB      0.00   229.99  3219.86       10.0            0        0   \n",
       "124052      WEB      0.00     0.00  1959.86       10.0            0        0   \n",
       "\n",
       "        skn_nbr  Subcat_ID  Cat_ID  Dept_id  RTN_UNITS  cncl_units  \\\n",
       "118646  1085486        968      46        4        1.0         0.0   \n",
       "515302   956694        842      47        4        0.0         0.0   \n",
       "239378  9847164        825      46        4        1.0         0.0   \n",
       "357432  9852284        947      47        4        0.0         1.0   \n",
       "155674  9717232        960      48        4        0.0         0.0   \n",
       "...         ...        ...     ...      ...        ...         ...   \n",
       "263532  9814198        832      46        4        0.0         0.0   \n",
       "372074  1093827        818      49        4        0.0         0.0   \n",
       "134189  9836432        832      46        4        0.0         0.0   \n",
       "682588  1068451        957      47        4        1.0         0.0   \n",
       "124052  1172501        943      79        4        0.0         0.0   \n",
       "\n",
       "        international_order_ind Cntry_Shipped  ord_shp  ord_cncl  shp_ret  \n",
       "118646                        0            US    121.0       0.0     18.0  \n",
       "515302                        0            US      0.0       0.0      0.0  \n",
       "239378                        0            US      1.0       0.0    446.0  \n",
       "357432                        0            US      0.0       1.0      0.0  \n",
       "155674                        0            US     30.0       0.0      0.0  \n",
       "...                         ...           ...      ...       ...      ...  \n",
       "263532                        0            US     60.0       0.0      0.0  \n",
       "372074                        0            US      1.0       0.0      0.0  \n",
       "134189                        0            US     29.0       0.0      0.0  \n",
       "682588                        0            US     30.0       0.0    100.0  \n",
       "124052                        0            US      0.0       0.0      0.0  \n",
       "\n",
       "[824806 rows x 18 columns]"
      ]
     },
     "execution_count": 156,
     "metadata": {},
     "output_type": "execute_result"
    }
   ],
   "source": [
    "X_train"
   ]
  },
  {
   "cell_type": "code",
   "execution_count": 157,
   "metadata": {
    "id": "WsazxER6M_FX"
   },
   "outputs": [],
   "source": [
    "# encode remaining variables with one-hot encoding\n",
    "import category_encoders as ce\n",
    "\n",
    "encoder = ce.OneHotEncoder(cols=['ord_type','Cntry_Shipped'])    #rest are already label encoded\n",
    "\n",
    "\n",
    "\n",
    "X_train = encoder.fit_transform(X_train)\n",
    "\n",
    "X_test = encoder.transform(X_test)\n"
   ]
  },
  {
   "cell_type": "markdown",
   "metadata": {
    "id": "G6y-fXmKM_FT"
   },
   "source": [
    "As a final check, I will check for missing values in X_train and X_test."
   ]
  },
  {
   "cell_type": "code",
   "execution_count": 158,
   "metadata": {
    "colab": {
     "base_uri": "https://localhost:8080/"
    },
    "id": "1YpFmWtcM_FU",
    "outputId": "bce4590e-b74e-432b-cde5-1e9016e46013"
   },
   "outputs": [
    {
     "data": {
      "text/plain": [
       "ord_type_1           0\n",
       "ord_type_2           0\n",
       "ord_type_3           0\n",
       "cncl_dol             0\n",
       "rtn_dol              0\n",
       "                    ..\n",
       "Cntry_Shipped_101    0\n",
       "Cntry_Shipped_102    0\n",
       "ord_shp              0\n",
       "ord_cncl             0\n",
       "shp_ret              0\n",
       "Length: 121, dtype: int64"
      ]
     },
     "execution_count": 158,
     "metadata": {},
     "output_type": "execute_result"
    }
   ],
   "source": [
    "# check missing values in X_train\n",
    "\n",
    "X_train.isnull().sum()"
   ]
  },
  {
   "cell_type": "code",
   "execution_count": 159,
   "metadata": {
    "colab": {
     "base_uri": "https://localhost:8080/"
    },
    "id": "9eBI3C7FM_FU",
    "outputId": "9a2f3b64-6683-4cd2-bdfb-dd88bf0651f3"
   },
   "outputs": [
    {
     "data": {
      "text/plain": [
       "ord_type_1           0\n",
       "ord_type_2           0\n",
       "ord_type_3           0\n",
       "cncl_dol             0\n",
       "rtn_dol              0\n",
       "                    ..\n",
       "Cntry_Shipped_101    0\n",
       "Cntry_Shipped_102    0\n",
       "ord_shp              0\n",
       "ord_cncl             0\n",
       "shp_ret              0\n",
       "Length: 121, dtype: int64"
      ]
     },
     "execution_count": 159,
     "metadata": {},
     "output_type": "execute_result"
    }
   ],
   "source": [
    "# check missing values in X_test\n",
    "\n",
    "X_test.isnull().sum()"
   ]
  },
  {
   "cell_type": "markdown",
   "metadata": {
    "id": "3FJw3e2LM_FV"
   },
   "source": [
    "**Observation**:We can see that there are no missing values in X_train and X_test."
   ]
  },
  {
   "cell_type": "code",
   "execution_count": 160,
   "metadata": {
    "colab": {
     "base_uri": "https://localhost:8080/"
    },
    "id": "w6KK3xJpM_FY",
    "outputId": "5bd89287-5650-49f7-f245-084fef1b391c"
   },
   "outputs": [
    {
     "data": {
      "text/plain": [
       "(824806, 121)"
      ]
     },
     "execution_count": 160,
     "metadata": {},
     "output_type": "execute_result"
    }
   ],
   "source": [
    "X_train.shape"
   ]
  },
  {
   "cell_type": "markdown",
   "metadata": {
    "id": "zbVuoAitM_FY"
   },
   "source": [
    "We can see that from the initial 22 columns, we now have 121 columns."
   ]
  },
  {
   "cell_type": "markdown",
   "metadata": {
    "id": "SWUZiLrdM_FY"
   },
   "source": [
    "Similarly, I will take a look at the `X_test` set."
   ]
  },
  {
   "cell_type": "code",
   "execution_count": 161,
   "metadata": {
    "colab": {
     "base_uri": "https://localhost:8080/",
     "height": 300
    },
    "id": "QMMFufgtM_FY",
    "outputId": "815ea446-8a30-41d5-d786-c658dca6d88d"
   },
   "outputs": [
    {
     "data": {
      "text/html": [
       "\n",
       "  <div id=\"df-b89a343e-2bc5-4273-8138-0a53c15ede7e\">\n",
       "    <div class=\"colab-df-container\">\n",
       "      <div>\n",
       "<style scoped>\n",
       "    .dataframe tbody tr th:only-of-type {\n",
       "        vertical-align: middle;\n",
       "    }\n",
       "\n",
       "    .dataframe tbody tr th {\n",
       "        vertical-align: top;\n",
       "    }\n",
       "\n",
       "    .dataframe thead th {\n",
       "        text-align: right;\n",
       "    }\n",
       "</style>\n",
       "<table border=\"1\" class=\"dataframe\">\n",
       "  <thead>\n",
       "    <tr style=\"text-align: right;\">\n",
       "      <th></th>\n",
       "      <th>ord_type_1</th>\n",
       "      <th>ord_type_2</th>\n",
       "      <th>ord_type_3</th>\n",
       "      <th>cncl_dol</th>\n",
       "      <th>rtn_dol</th>\n",
       "      <th>dmd_dol</th>\n",
       "      <th>dmd_units</th>\n",
       "      <th>Loyalty_Ind</th>\n",
       "      <th>Emp_Ind</th>\n",
       "      <th>skn_nbr</th>\n",
       "      <th>...</th>\n",
       "      <th>Cntry_Shipped_96</th>\n",
       "      <th>Cntry_Shipped_97</th>\n",
       "      <th>Cntry_Shipped_98</th>\n",
       "      <th>Cntry_Shipped_99</th>\n",
       "      <th>Cntry_Shipped_100</th>\n",
       "      <th>Cntry_Shipped_101</th>\n",
       "      <th>Cntry_Shipped_102</th>\n",
       "      <th>ord_shp</th>\n",
       "      <th>ord_cncl</th>\n",
       "      <th>shp_ret</th>\n",
       "    </tr>\n",
       "  </thead>\n",
       "  <tbody>\n",
       "    <tr>\n",
       "      <th>137777</th>\n",
       "      <td>1</td>\n",
       "      <td>0</td>\n",
       "      <td>0</td>\n",
       "      <td>0.00</td>\n",
       "      <td>0.00</td>\n",
       "      <td>349.86</td>\n",
       "      <td>10.0</td>\n",
       "      <td>0</td>\n",
       "      <td>0</td>\n",
       "      <td>9862557</td>\n",
       "      <td>...</td>\n",
       "      <td>0</td>\n",
       "      <td>0</td>\n",
       "      <td>0</td>\n",
       "      <td>0</td>\n",
       "      <td>0</td>\n",
       "      <td>0</td>\n",
       "      <td>0</td>\n",
       "      <td>1.0</td>\n",
       "      <td>0.0</td>\n",
       "      <td>0.0</td>\n",
       "    </tr>\n",
       "    <tr>\n",
       "      <th>341664</th>\n",
       "      <td>1</td>\n",
       "      <td>0</td>\n",
       "      <td>0</td>\n",
       "      <td>0.00</td>\n",
       "      <td>59.99</td>\n",
       "      <td>839.86</td>\n",
       "      <td>10.0</td>\n",
       "      <td>0</td>\n",
       "      <td>0</td>\n",
       "      <td>959382</td>\n",
       "      <td>...</td>\n",
       "      <td>0</td>\n",
       "      <td>0</td>\n",
       "      <td>0</td>\n",
       "      <td>0</td>\n",
       "      <td>0</td>\n",
       "      <td>0</td>\n",
       "      <td>0</td>\n",
       "      <td>1.0</td>\n",
       "      <td>0.0</td>\n",
       "      <td>48.0</td>\n",
       "    </tr>\n",
       "    <tr>\n",
       "      <th>592209</th>\n",
       "      <td>0</td>\n",
       "      <td>1</td>\n",
       "      <td>0</td>\n",
       "      <td>0.00</td>\n",
       "      <td>0.00</td>\n",
       "      <td>1119.86</td>\n",
       "      <td>10.0</td>\n",
       "      <td>0</td>\n",
       "      <td>0</td>\n",
       "      <td>1050577</td>\n",
       "      <td>...</td>\n",
       "      <td>0</td>\n",
       "      <td>0</td>\n",
       "      <td>0</td>\n",
       "      <td>0</td>\n",
       "      <td>0</td>\n",
       "      <td>0</td>\n",
       "      <td>0</td>\n",
       "      <td>0.0</td>\n",
       "      <td>0.0</td>\n",
       "      <td>0.0</td>\n",
       "    </tr>\n",
       "    <tr>\n",
       "      <th>763725</th>\n",
       "      <td>1</td>\n",
       "      <td>0</td>\n",
       "      <td>0</td>\n",
       "      <td>23.98</td>\n",
       "      <td>0.00</td>\n",
       "      <td>335.72</td>\n",
       "      <td>10.0</td>\n",
       "      <td>0</td>\n",
       "      <td>0</td>\n",
       "      <td>9705141</td>\n",
       "      <td>...</td>\n",
       "      <td>0</td>\n",
       "      <td>0</td>\n",
       "      <td>0</td>\n",
       "      <td>0</td>\n",
       "      <td>0</td>\n",
       "      <td>0</td>\n",
       "      <td>0</td>\n",
       "      <td>0.0</td>\n",
       "      <td>1.0</td>\n",
       "      <td>0.0</td>\n",
       "    </tr>\n",
       "    <tr>\n",
       "      <th>813444</th>\n",
       "      <td>0</td>\n",
       "      <td>1</td>\n",
       "      <td>0</td>\n",
       "      <td>0.00</td>\n",
       "      <td>0.00</td>\n",
       "      <td>2799.86</td>\n",
       "      <td>10.0</td>\n",
       "      <td>0</td>\n",
       "      <td>0</td>\n",
       "      <td>1059335</td>\n",
       "      <td>...</td>\n",
       "      <td>0</td>\n",
       "      <td>0</td>\n",
       "      <td>0</td>\n",
       "      <td>0</td>\n",
       "      <td>0</td>\n",
       "      <td>0</td>\n",
       "      <td>0</td>\n",
       "      <td>30.0</td>\n",
       "      <td>0.0</td>\n",
       "      <td>0.0</td>\n",
       "    </tr>\n",
       "  </tbody>\n",
       "</table>\n",
       "<p>5 rows × 121 columns</p>\n",
       "</div>\n",
       "      <button class=\"colab-df-convert\" onclick=\"convertToInteractive('df-b89a343e-2bc5-4273-8138-0a53c15ede7e')\"\n",
       "              title=\"Convert this dataframe to an interactive table.\"\n",
       "              style=\"display:none;\">\n",
       "        \n",
       "  <svg xmlns=\"http://www.w3.org/2000/svg\" height=\"24px\"viewBox=\"0 0 24 24\"\n",
       "       width=\"24px\">\n",
       "    <path d=\"M0 0h24v24H0V0z\" fill=\"none\"/>\n",
       "    <path d=\"M18.56 5.44l.94 2.06.94-2.06 2.06-.94-2.06-.94-.94-2.06-.94 2.06-2.06.94zm-11 1L8.5 8.5l.94-2.06 2.06-.94-2.06-.94L8.5 2.5l-.94 2.06-2.06.94zm10 10l.94 2.06.94-2.06 2.06-.94-2.06-.94-.94-2.06-.94 2.06-2.06.94z\"/><path d=\"M17.41 7.96l-1.37-1.37c-.4-.4-.92-.59-1.43-.59-.52 0-1.04.2-1.43.59L10.3 9.45l-7.72 7.72c-.78.78-.78 2.05 0 2.83L4 21.41c.39.39.9.59 1.41.59.51 0 1.02-.2 1.41-.59l7.78-7.78 2.81-2.81c.8-.78.8-2.07 0-2.86zM5.41 20L4 18.59l7.72-7.72 1.47 1.35L5.41 20z\"/>\n",
       "  </svg>\n",
       "      </button>\n",
       "      \n",
       "  <style>\n",
       "    .colab-df-container {\n",
       "      display:flex;\n",
       "      flex-wrap:wrap;\n",
       "      gap: 12px;\n",
       "    }\n",
       "\n",
       "    .colab-df-convert {\n",
       "      background-color: #E8F0FE;\n",
       "      border: none;\n",
       "      border-radius: 50%;\n",
       "      cursor: pointer;\n",
       "      display: none;\n",
       "      fill: #1967D2;\n",
       "      height: 32px;\n",
       "      padding: 0 0 0 0;\n",
       "      width: 32px;\n",
       "    }\n",
       "\n",
       "    .colab-df-convert:hover {\n",
       "      background-color: #E2EBFA;\n",
       "      box-shadow: 0px 1px 2px rgba(60, 64, 67, 0.3), 0px 1px 3px 1px rgba(60, 64, 67, 0.15);\n",
       "      fill: #174EA6;\n",
       "    }\n",
       "\n",
       "    [theme=dark] .colab-df-convert {\n",
       "      background-color: #3B4455;\n",
       "      fill: #D2E3FC;\n",
       "    }\n",
       "\n",
       "    [theme=dark] .colab-df-convert:hover {\n",
       "      background-color: #434B5C;\n",
       "      box-shadow: 0px 1px 3px 1px rgba(0, 0, 0, 0.15);\n",
       "      filter: drop-shadow(0px 1px 2px rgba(0, 0, 0, 0.3));\n",
       "      fill: #FFFFFF;\n",
       "    }\n",
       "  </style>\n",
       "\n",
       "      <script>\n",
       "        const buttonEl =\n",
       "          document.querySelector('#df-b89a343e-2bc5-4273-8138-0a53c15ede7e button.colab-df-convert');\n",
       "        buttonEl.style.display =\n",
       "          google.colab.kernel.accessAllowed ? 'block' : 'none';\n",
       "\n",
       "        async function convertToInteractive(key) {\n",
       "          const element = document.querySelector('#df-b89a343e-2bc5-4273-8138-0a53c15ede7e');\n",
       "          const dataTable =\n",
       "            await google.colab.kernel.invokeFunction('convertToInteractive',\n",
       "                                                     [key], {});\n",
       "          if (!dataTable) return;\n",
       "\n",
       "          const docLinkHtml = 'Like what you see? Visit the ' +\n",
       "            '<a target=\"_blank\" href=https://colab.research.google.com/notebooks/data_table.ipynb>data table notebook</a>'\n",
       "            + ' to learn more about interactive tables.';\n",
       "          element.innerHTML = '';\n",
       "          dataTable['output_type'] = 'display_data';\n",
       "          await google.colab.output.renderOutput(dataTable, element);\n",
       "          const docLink = document.createElement('div');\n",
       "          docLink.innerHTML = docLinkHtml;\n",
       "          element.appendChild(docLink);\n",
       "        }\n",
       "      </script>\n",
       "    </div>\n",
       "  </div>\n",
       "  "
      ],
      "text/plain": [
       "        ord_type_1  ord_type_2  ord_type_3  cncl_dol  rtn_dol  dmd_dol  \\\n",
       "137777           1           0           0      0.00     0.00   349.86   \n",
       "341664           1           0           0      0.00    59.99   839.86   \n",
       "592209           0           1           0      0.00     0.00  1119.86   \n",
       "763725           1           0           0     23.98     0.00   335.72   \n",
       "813444           0           1           0      0.00     0.00  2799.86   \n",
       "\n",
       "        dmd_units  Loyalty_Ind  Emp_Ind  skn_nbr  ...  Cntry_Shipped_96  \\\n",
       "137777       10.0            0        0  9862557  ...                 0   \n",
       "341664       10.0            0        0   959382  ...                 0   \n",
       "592209       10.0            0        0  1050577  ...                 0   \n",
       "763725       10.0            0        0  9705141  ...                 0   \n",
       "813444       10.0            0        0  1059335  ...                 0   \n",
       "\n",
       "        Cntry_Shipped_97  Cntry_Shipped_98  Cntry_Shipped_99  \\\n",
       "137777                 0                 0                 0   \n",
       "341664                 0                 0                 0   \n",
       "592209                 0                 0                 0   \n",
       "763725                 0                 0                 0   \n",
       "813444                 0                 0                 0   \n",
       "\n",
       "        Cntry_Shipped_100  Cntry_Shipped_101  Cntry_Shipped_102  ord_shp  \\\n",
       "137777                  0                  0                  0      1.0   \n",
       "341664                  0                  0                  0      1.0   \n",
       "592209                  0                  0                  0      0.0   \n",
       "763725                  0                  0                  0      0.0   \n",
       "813444                  0                  0                  0     30.0   \n",
       "\n",
       "        ord_cncl  shp_ret  \n",
       "137777       0.0      0.0  \n",
       "341664       0.0     48.0  \n",
       "592209       0.0      0.0  \n",
       "763725       1.0      0.0  \n",
       "813444       0.0      0.0  \n",
       "\n",
       "[5 rows x 121 columns]"
      ]
     },
     "execution_count": 161,
     "metadata": {},
     "output_type": "execute_result"
    }
   ],
   "source": [
    "X_test.head()"
   ]
  },
  {
   "cell_type": "code",
   "execution_count": 162,
   "metadata": {
    "colab": {
     "base_uri": "https://localhost:8080/"
    },
    "id": "CKqpA3_GM_FZ",
    "outputId": "74a448d0-e574-4b1d-dc31-82196140b702"
   },
   "outputs": [
    {
     "data": {
      "text/plain": [
       "(206202, 121)"
      ]
     },
     "execution_count": 162,
     "metadata": {},
     "output_type": "execute_result"
    }
   ],
   "source": [
    "X_test.shape"
   ]
  },
  {
   "cell_type": "markdown",
   "metadata": {
    "id": "2bShnUeZM_FZ"
   },
   "source": [
    "**Observation**: We now have training and testing set ready for model building. Before that, we should map all the feature variables onto the same scale. It is called `feature scaling`. I will do it as follows."
   ]
  },
  {
   "cell_type": "markdown",
   "metadata": {
    "id": "14hUi5foM_FZ"
   },
   "source": [
    "# **11. Feature Scaling** <a class=\"anchor\" id=\"11\"></a>\n",
    "\n"
   ]
  },
  {
   "cell_type": "code",
   "execution_count": 163,
   "metadata": {
    "colab": {
     "base_uri": "https://localhost:8080/"
    },
    "id": "lY8F8jpEup6-",
    "outputId": "6188f301-87a2-416c-f0fb-04954ad43837"
   },
   "outputs": [
    {
     "data": {
      "text/plain": [
       "['cncl_dol',\n",
       " 'rtn_dol',\n",
       " 'dmd_dol',\n",
       " 'dmd_units',\n",
       " 'skn_nbr',\n",
       " 'Subcat_ID',\n",
       " 'Cat_ID',\n",
       " 'Dept_id',\n",
       " 'RTN_UNITS',\n",
       " 'cncl_units',\n",
       " 'ord_shp',\n",
       " 'ord_cncl',\n",
       " 'shp_ret']"
      ]
     },
     "execution_count": 163,
     "metadata": {},
     "output_type": "execute_result"
    }
   ],
   "source": [
    "numerical"
   ]
  },
  {
   "cell_type": "code",
   "execution_count": 164,
   "metadata": {
    "id": "1T8DUWELnU2r"
   },
   "outputs": [],
   "source": [
    "# Scalling\n",
    "from sklearn.preprocessing import MinMaxScaler\n",
    "numerical = ['cncl_dol',\n",
    " 'rtn_dol',\n",
    " 'dmd_dol',\n",
    " 'dmd_units',\n",
    " 'skn_nbr',\n",
    " 'Subcat_ID',\n",
    " 'Cat_ID',\n",
    " 'Dept_id',\n",
    " 'RTN_UNITS',\n",
    " 'cncl_units',\n",
    " 'ord_shp',\n",
    " 'ord_cncl',\n",
    " 'shp_ret']\n",
    "\n",
    "scaler = MinMaxScaler()\n",
    "X_train[numerical] = scaler.fit_transform(X_train[numerical])\n",
    "X_test[numerical]=scaler.fit_transform(X_test[numerical])"
   ]
  },
  {
   "cell_type": "code",
   "execution_count": 165,
   "metadata": {
    "colab": {
     "base_uri": "https://localhost:8080/",
     "height": 488
    },
    "id": "-LVbv_o-oBhe",
    "outputId": "eca13288-bce6-4c04-f64a-4dd970e67036"
   },
   "outputs": [
    {
     "data": {
      "text/html": [
       "\n",
       "  <div id=\"df-94f71f23-e6de-467a-864a-5a0d35c0d3c0\">\n",
       "    <div class=\"colab-df-container\">\n",
       "      <div>\n",
       "<style scoped>\n",
       "    .dataframe tbody tr th:only-of-type {\n",
       "        vertical-align: middle;\n",
       "    }\n",
       "\n",
       "    .dataframe tbody tr th {\n",
       "        vertical-align: top;\n",
       "    }\n",
       "\n",
       "    .dataframe thead th {\n",
       "        text-align: right;\n",
       "    }\n",
       "</style>\n",
       "<table border=\"1\" class=\"dataframe\">\n",
       "  <thead>\n",
       "    <tr style=\"text-align: right;\">\n",
       "      <th></th>\n",
       "      <th>ord_type_1</th>\n",
       "      <th>ord_type_2</th>\n",
       "      <th>ord_type_3</th>\n",
       "      <th>cncl_dol</th>\n",
       "      <th>rtn_dol</th>\n",
       "      <th>dmd_dol</th>\n",
       "      <th>dmd_units</th>\n",
       "      <th>Loyalty_Ind</th>\n",
       "      <th>Emp_Ind</th>\n",
       "      <th>skn_nbr</th>\n",
       "      <th>...</th>\n",
       "      <th>Cntry_Shipped_96</th>\n",
       "      <th>Cntry_Shipped_97</th>\n",
       "      <th>Cntry_Shipped_98</th>\n",
       "      <th>Cntry_Shipped_99</th>\n",
       "      <th>Cntry_Shipped_100</th>\n",
       "      <th>Cntry_Shipped_101</th>\n",
       "      <th>Cntry_Shipped_102</th>\n",
       "      <th>ord_shp</th>\n",
       "      <th>ord_cncl</th>\n",
       "      <th>shp_ret</th>\n",
       "    </tr>\n",
       "  </thead>\n",
       "  <tbody>\n",
       "    <tr>\n",
       "      <th>118646</th>\n",
       "      <td>1</td>\n",
       "      <td>0</td>\n",
       "      <td>0</td>\n",
       "      <td>0.00000</td>\n",
       "      <td>0.011029</td>\n",
       "      <td>0.005230</td>\n",
       "      <td>0.015152</td>\n",
       "      <td>0</td>\n",
       "      <td>0</td>\n",
       "      <td>0.113547</td>\n",
       "      <td>...</td>\n",
       "      <td>0</td>\n",
       "      <td>0</td>\n",
       "      <td>0</td>\n",
       "      <td>0</td>\n",
       "      <td>0</td>\n",
       "      <td>0</td>\n",
       "      <td>0</td>\n",
       "      <td>0.359050</td>\n",
       "      <td>0.000000</td>\n",
       "      <td>0.026049</td>\n",
       "    </tr>\n",
       "    <tr>\n",
       "      <th>515302</th>\n",
       "      <td>1</td>\n",
       "      <td>0</td>\n",
       "      <td>0</td>\n",
       "      <td>0.00000</td>\n",
       "      <td>0.000000</td>\n",
       "      <td>0.001569</td>\n",
       "      <td>0.015152</td>\n",
       "      <td>0</td>\n",
       "      <td>0</td>\n",
       "      <td>0.100660</td>\n",
       "      <td>...</td>\n",
       "      <td>0</td>\n",
       "      <td>0</td>\n",
       "      <td>0</td>\n",
       "      <td>0</td>\n",
       "      <td>0</td>\n",
       "      <td>0</td>\n",
       "      <td>0</td>\n",
       "      <td>0.000000</td>\n",
       "      <td>0.000000</td>\n",
       "      <td>0.000000</td>\n",
       "    </tr>\n",
       "    <tr>\n",
       "      <th>239378</th>\n",
       "      <td>1</td>\n",
       "      <td>0</td>\n",
       "      <td>0</td>\n",
       "      <td>0.00000</td>\n",
       "      <td>0.003529</td>\n",
       "      <td>0.001673</td>\n",
       "      <td>0.015152</td>\n",
       "      <td>0</td>\n",
       "      <td>0</td>\n",
       "      <td>0.990213</td>\n",
       "      <td>...</td>\n",
       "      <td>0</td>\n",
       "      <td>0</td>\n",
       "      <td>0</td>\n",
       "      <td>0</td>\n",
       "      <td>0</td>\n",
       "      <td>0</td>\n",
       "      <td>0</td>\n",
       "      <td>0.002967</td>\n",
       "      <td>0.000000</td>\n",
       "      <td>0.645441</td>\n",
       "    </tr>\n",
       "    <tr>\n",
       "      <th>357432</th>\n",
       "      <td>1</td>\n",
       "      <td>0</td>\n",
       "      <td>0</td>\n",
       "      <td>0.00523</td>\n",
       "      <td>0.000000</td>\n",
       "      <td>0.005230</td>\n",
       "      <td>0.015152</td>\n",
       "      <td>0</td>\n",
       "      <td>0</td>\n",
       "      <td>0.990725</td>\n",
       "      <td>...</td>\n",
       "      <td>0</td>\n",
       "      <td>0</td>\n",
       "      <td>0</td>\n",
       "      <td>0</td>\n",
       "      <td>0</td>\n",
       "      <td>0</td>\n",
       "      <td>0</td>\n",
       "      <td>0.000000</td>\n",
       "      <td>0.002439</td>\n",
       "      <td>0.000000</td>\n",
       "    </tr>\n",
       "    <tr>\n",
       "      <th>155674</th>\n",
       "      <td>1</td>\n",
       "      <td>0</td>\n",
       "      <td>0</td>\n",
       "      <td>0.00000</td>\n",
       "      <td>0.000000</td>\n",
       "      <td>0.001743</td>\n",
       "      <td>0.015152</td>\n",
       "      <td>0</td>\n",
       "      <td>0</td>\n",
       "      <td>0.977212</td>\n",
       "      <td>...</td>\n",
       "      <td>0</td>\n",
       "      <td>0</td>\n",
       "      <td>0</td>\n",
       "      <td>0</td>\n",
       "      <td>0</td>\n",
       "      <td>0</td>\n",
       "      <td>0</td>\n",
       "      <td>0.089021</td>\n",
       "      <td>0.000000</td>\n",
       "      <td>0.000000</td>\n",
       "    </tr>\n",
       "    <tr>\n",
       "      <th>...</th>\n",
       "      <td>...</td>\n",
       "      <td>...</td>\n",
       "      <td>...</td>\n",
       "      <td>...</td>\n",
       "      <td>...</td>\n",
       "      <td>...</td>\n",
       "      <td>...</td>\n",
       "      <td>...</td>\n",
       "      <td>...</td>\n",
       "      <td>...</td>\n",
       "      <td>...</td>\n",
       "      <td>...</td>\n",
       "      <td>...</td>\n",
       "      <td>...</td>\n",
       "      <td>...</td>\n",
       "      <td>...</td>\n",
       "      <td>...</td>\n",
       "      <td>...</td>\n",
       "      <td>...</td>\n",
       "      <td>...</td>\n",
       "      <td>...</td>\n",
       "    </tr>\n",
       "    <tr>\n",
       "      <th>263532</th>\n",
       "      <td>1</td>\n",
       "      <td>0</td>\n",
       "      <td>0</td>\n",
       "      <td>0.00000</td>\n",
       "      <td>0.000000</td>\n",
       "      <td>0.001673</td>\n",
       "      <td>0.015152</td>\n",
       "      <td>1</td>\n",
       "      <td>0</td>\n",
       "      <td>0.986914</td>\n",
       "      <td>...</td>\n",
       "      <td>0</td>\n",
       "      <td>0</td>\n",
       "      <td>0</td>\n",
       "      <td>0</td>\n",
       "      <td>0</td>\n",
       "      <td>0</td>\n",
       "      <td>0</td>\n",
       "      <td>0.178042</td>\n",
       "      <td>0.000000</td>\n",
       "      <td>0.000000</td>\n",
       "    </tr>\n",
       "    <tr>\n",
       "      <th>372074</th>\n",
       "      <td>0</td>\n",
       "      <td>1</td>\n",
       "      <td>0</td>\n",
       "      <td>0.00000</td>\n",
       "      <td>0.000000</td>\n",
       "      <td>0.001918</td>\n",
       "      <td>0.015152</td>\n",
       "      <td>0</td>\n",
       "      <td>0</td>\n",
       "      <td>0.114381</td>\n",
       "      <td>...</td>\n",
       "      <td>0</td>\n",
       "      <td>0</td>\n",
       "      <td>0</td>\n",
       "      <td>0</td>\n",
       "      <td>0</td>\n",
       "      <td>0</td>\n",
       "      <td>0</td>\n",
       "      <td>0.002967</td>\n",
       "      <td>0.000000</td>\n",
       "      <td>0.000000</td>\n",
       "    </tr>\n",
       "    <tr>\n",
       "      <th>134189</th>\n",
       "      <td>1</td>\n",
       "      <td>0</td>\n",
       "      <td>0</td>\n",
       "      <td>0.00000</td>\n",
       "      <td>0.000000</td>\n",
       "      <td>0.002092</td>\n",
       "      <td>0.015152</td>\n",
       "      <td>0</td>\n",
       "      <td>0</td>\n",
       "      <td>0.989139</td>\n",
       "      <td>...</td>\n",
       "      <td>0</td>\n",
       "      <td>0</td>\n",
       "      <td>0</td>\n",
       "      <td>0</td>\n",
       "      <td>0</td>\n",
       "      <td>0</td>\n",
       "      <td>0</td>\n",
       "      <td>0.086053</td>\n",
       "      <td>0.000000</td>\n",
       "      <td>0.000000</td>\n",
       "    </tr>\n",
       "    <tr>\n",
       "      <th>682588</th>\n",
       "      <td>0</td>\n",
       "      <td>1</td>\n",
       "      <td>0</td>\n",
       "      <td>0.00000</td>\n",
       "      <td>0.016911</td>\n",
       "      <td>0.008019</td>\n",
       "      <td>0.015152</td>\n",
       "      <td>0</td>\n",
       "      <td>0</td>\n",
       "      <td>0.111842</td>\n",
       "      <td>...</td>\n",
       "      <td>0</td>\n",
       "      <td>0</td>\n",
       "      <td>0</td>\n",
       "      <td>0</td>\n",
       "      <td>0</td>\n",
       "      <td>0</td>\n",
       "      <td>0</td>\n",
       "      <td>0.089021</td>\n",
       "      <td>0.000000</td>\n",
       "      <td>0.144718</td>\n",
       "    </tr>\n",
       "    <tr>\n",
       "      <th>124052</th>\n",
       "      <td>1</td>\n",
       "      <td>0</td>\n",
       "      <td>0</td>\n",
       "      <td>0.00000</td>\n",
       "      <td>0.000000</td>\n",
       "      <td>0.004881</td>\n",
       "      <td>0.015152</td>\n",
       "      <td>0</td>\n",
       "      <td>0</td>\n",
       "      <td>0.122253</td>\n",
       "      <td>...</td>\n",
       "      <td>0</td>\n",
       "      <td>0</td>\n",
       "      <td>0</td>\n",
       "      <td>0</td>\n",
       "      <td>0</td>\n",
       "      <td>0</td>\n",
       "      <td>0</td>\n",
       "      <td>0.000000</td>\n",
       "      <td>0.000000</td>\n",
       "      <td>0.000000</td>\n",
       "    </tr>\n",
       "  </tbody>\n",
       "</table>\n",
       "<p>824806 rows × 121 columns</p>\n",
       "</div>\n",
       "      <button class=\"colab-df-convert\" onclick=\"convertToInteractive('df-94f71f23-e6de-467a-864a-5a0d35c0d3c0')\"\n",
       "              title=\"Convert this dataframe to an interactive table.\"\n",
       "              style=\"display:none;\">\n",
       "        \n",
       "  <svg xmlns=\"http://www.w3.org/2000/svg\" height=\"24px\"viewBox=\"0 0 24 24\"\n",
       "       width=\"24px\">\n",
       "    <path d=\"M0 0h24v24H0V0z\" fill=\"none\"/>\n",
       "    <path d=\"M18.56 5.44l.94 2.06.94-2.06 2.06-.94-2.06-.94-.94-2.06-.94 2.06-2.06.94zm-11 1L8.5 8.5l.94-2.06 2.06-.94-2.06-.94L8.5 2.5l-.94 2.06-2.06.94zm10 10l.94 2.06.94-2.06 2.06-.94-2.06-.94-.94-2.06-.94 2.06-2.06.94z\"/><path d=\"M17.41 7.96l-1.37-1.37c-.4-.4-.92-.59-1.43-.59-.52 0-1.04.2-1.43.59L10.3 9.45l-7.72 7.72c-.78.78-.78 2.05 0 2.83L4 21.41c.39.39.9.59 1.41.59.51 0 1.02-.2 1.41-.59l7.78-7.78 2.81-2.81c.8-.78.8-2.07 0-2.86zM5.41 20L4 18.59l7.72-7.72 1.47 1.35L5.41 20z\"/>\n",
       "  </svg>\n",
       "      </button>\n",
       "      \n",
       "  <style>\n",
       "    .colab-df-container {\n",
       "      display:flex;\n",
       "      flex-wrap:wrap;\n",
       "      gap: 12px;\n",
       "    }\n",
       "\n",
       "    .colab-df-convert {\n",
       "      background-color: #E8F0FE;\n",
       "      border: none;\n",
       "      border-radius: 50%;\n",
       "      cursor: pointer;\n",
       "      display: none;\n",
       "      fill: #1967D2;\n",
       "      height: 32px;\n",
       "      padding: 0 0 0 0;\n",
       "      width: 32px;\n",
       "    }\n",
       "\n",
       "    .colab-df-convert:hover {\n",
       "      background-color: #E2EBFA;\n",
       "      box-shadow: 0px 1px 2px rgba(60, 64, 67, 0.3), 0px 1px 3px 1px rgba(60, 64, 67, 0.15);\n",
       "      fill: #174EA6;\n",
       "    }\n",
       "\n",
       "    [theme=dark] .colab-df-convert {\n",
       "      background-color: #3B4455;\n",
       "      fill: #D2E3FC;\n",
       "    }\n",
       "\n",
       "    [theme=dark] .colab-df-convert:hover {\n",
       "      background-color: #434B5C;\n",
       "      box-shadow: 0px 1px 3px 1px rgba(0, 0, 0, 0.15);\n",
       "      filter: drop-shadow(0px 1px 2px rgba(0, 0, 0, 0.3));\n",
       "      fill: #FFFFFF;\n",
       "    }\n",
       "  </style>\n",
       "\n",
       "      <script>\n",
       "        const buttonEl =\n",
       "          document.querySelector('#df-94f71f23-e6de-467a-864a-5a0d35c0d3c0 button.colab-df-convert');\n",
       "        buttonEl.style.display =\n",
       "          google.colab.kernel.accessAllowed ? 'block' : 'none';\n",
       "\n",
       "        async function convertToInteractive(key) {\n",
       "          const element = document.querySelector('#df-94f71f23-e6de-467a-864a-5a0d35c0d3c0');\n",
       "          const dataTable =\n",
       "            await google.colab.kernel.invokeFunction('convertToInteractive',\n",
       "                                                     [key], {});\n",
       "          if (!dataTable) return;\n",
       "\n",
       "          const docLinkHtml = 'Like what you see? Visit the ' +\n",
       "            '<a target=\"_blank\" href=https://colab.research.google.com/notebooks/data_table.ipynb>data table notebook</a>'\n",
       "            + ' to learn more about interactive tables.';\n",
       "          element.innerHTML = '';\n",
       "          dataTable['output_type'] = 'display_data';\n",
       "          await google.colab.output.renderOutput(dataTable, element);\n",
       "          const docLink = document.createElement('div');\n",
       "          docLink.innerHTML = docLinkHtml;\n",
       "          element.appendChild(docLink);\n",
       "        }\n",
       "      </script>\n",
       "    </div>\n",
       "  </div>\n",
       "  "
      ],
      "text/plain": [
       "        ord_type_1  ord_type_2  ord_type_3  cncl_dol   rtn_dol   dmd_dol  \\\n",
       "118646           1           0           0   0.00000  0.011029  0.005230   \n",
       "515302           1           0           0   0.00000  0.000000  0.001569   \n",
       "239378           1           0           0   0.00000  0.003529  0.001673   \n",
       "357432           1           0           0   0.00523  0.000000  0.005230   \n",
       "155674           1           0           0   0.00000  0.000000  0.001743   \n",
       "...            ...         ...         ...       ...       ...       ...   \n",
       "263532           1           0           0   0.00000  0.000000  0.001673   \n",
       "372074           0           1           0   0.00000  0.000000  0.001918   \n",
       "134189           1           0           0   0.00000  0.000000  0.002092   \n",
       "682588           0           1           0   0.00000  0.016911  0.008019   \n",
       "124052           1           0           0   0.00000  0.000000  0.004881   \n",
       "\n",
       "        dmd_units  Loyalty_Ind  Emp_Ind   skn_nbr  ...  Cntry_Shipped_96  \\\n",
       "118646   0.015152            0        0  0.113547  ...                 0   \n",
       "515302   0.015152            0        0  0.100660  ...                 0   \n",
       "239378   0.015152            0        0  0.990213  ...                 0   \n",
       "357432   0.015152            0        0  0.990725  ...                 0   \n",
       "155674   0.015152            0        0  0.977212  ...                 0   \n",
       "...           ...          ...      ...       ...  ...               ...   \n",
       "263532   0.015152            1        0  0.986914  ...                 0   \n",
       "372074   0.015152            0        0  0.114381  ...                 0   \n",
       "134189   0.015152            0        0  0.989139  ...                 0   \n",
       "682588   0.015152            0        0  0.111842  ...                 0   \n",
       "124052   0.015152            0        0  0.122253  ...                 0   \n",
       "\n",
       "        Cntry_Shipped_97  Cntry_Shipped_98  Cntry_Shipped_99  \\\n",
       "118646                 0                 0                 0   \n",
       "515302                 0                 0                 0   \n",
       "239378                 0                 0                 0   \n",
       "357432                 0                 0                 0   \n",
       "155674                 0                 0                 0   \n",
       "...                  ...               ...               ...   \n",
       "263532                 0                 0                 0   \n",
       "372074                 0                 0                 0   \n",
       "134189                 0                 0                 0   \n",
       "682588                 0                 0                 0   \n",
       "124052                 0                 0                 0   \n",
       "\n",
       "        Cntry_Shipped_100  Cntry_Shipped_101  Cntry_Shipped_102   ord_shp  \\\n",
       "118646                  0                  0                  0  0.359050   \n",
       "515302                  0                  0                  0  0.000000   \n",
       "239378                  0                  0                  0  0.002967   \n",
       "357432                  0                  0                  0  0.000000   \n",
       "155674                  0                  0                  0  0.089021   \n",
       "...                   ...                ...                ...       ...   \n",
       "263532                  0                  0                  0  0.178042   \n",
       "372074                  0                  0                  0  0.002967   \n",
       "134189                  0                  0                  0  0.086053   \n",
       "682588                  0                  0                  0  0.089021   \n",
       "124052                  0                  0                  0  0.000000   \n",
       "\n",
       "        ord_cncl   shp_ret  \n",
       "118646  0.000000  0.026049  \n",
       "515302  0.000000  0.000000  \n",
       "239378  0.000000  0.645441  \n",
       "357432  0.002439  0.000000  \n",
       "155674  0.000000  0.000000  \n",
       "...          ...       ...  \n",
       "263532  0.000000  0.000000  \n",
       "372074  0.000000  0.000000  \n",
       "134189  0.000000  0.000000  \n",
       "682588  0.000000  0.144718  \n",
       "124052  0.000000  0.000000  \n",
       "\n",
       "[824806 rows x 121 columns]"
      ]
     },
     "execution_count": 165,
     "metadata": {},
     "output_type": "execute_result"
    }
   ],
   "source": [
    "X_train"
   ]
  },
  {
   "cell_type": "markdown",
   "metadata": {
    "id": "Gt2pu0p-M_Fb"
   },
   "source": [
    "We now have `X_train` dataset ready to be fed into the Random Forest classifier. I will do it as follows."
   ]
  },
  {
   "cell_type": "code",
   "execution_count": 167,
   "metadata": {
    "colab": {
     "base_uri": "https://localhost:8080/"
    },
    "id": "cRGHamrCu-jI",
    "outputId": "57349168-2920-4023-aa21-db9381e71a88"
   },
   "outputs": [
    {
     "name": "stdout",
     "output_type": "stream",
     "text": [
      "<class 'pandas.core.frame.DataFrame'>\n",
      "Int64Index: 824806 entries, 118646 to 124052\n",
      "Columns: 121 entries, ord_type_1 to shp_ret\n",
      "dtypes: float64(13), int64(108)\n",
      "memory usage: 767.7 MB\n"
     ]
    }
   ],
   "source": [
    "X_train.info()"
   ]
  },
  {
   "cell_type": "markdown",
   "metadata": {
    "id": "hkJTgrKiM_Fb"
   },
   "source": [
    "# **12. Model training** <a class=\"anchor\" id=\"12\"></a>\n"
   ]
  },
  {
   "cell_type": "code",
   "execution_count": 177,
   "metadata": {
    "colab": {
     "base_uri": "https://localhost:8080/"
    },
    "id": "0IcWvZNjuyFz",
    "outputId": "6b47f0a7-b420-4a9a-e13f-d780163a2070"
   },
   "outputs": [
    {
     "name": "stdout",
     "output_type": "stream",
     "text": [
      "Classifier: RandomForestClassifier(class_weight={0: 1, 1: 4}, criterion='entropy',\n",
      "                       max_depth=2, min_samples_split=25000, n_estimators=2,\n",
      "                       n_jobs=-1)\n",
      "Detailed classification report:\n",
      "\n",
      "The model is trained on the full development set.\n",
      "The scores are computed on the full evaluation set.\n",
      "\n",
      "              precision    recall  f1-score   support\n",
      "\n",
      "           0       0.94      1.00      0.97    157787\n",
      "           1       1.00      0.77      0.87     48415\n",
      "\n",
      "    accuracy                           0.95    206202\n",
      "   macro avg       0.97      0.89      0.92    206202\n",
      "weighted avg       0.95      0.95      0.94    206202\n",
      "\n"
     ]
    }
   ],
   "source": [
    "from sklearn.ensemble import RandomForestClassifier\n",
    "from sklearn.metrics import classification_report\n",
    "clf = RandomForestClassifier(n_estimators=2,criterion='entropy', max_depth=2,class_weight={0:1,1:4}, min_samples_split=25000,n_jobs=-1)\n",
    "\n",
    "clf.fit(X_train, y_train)\n",
    "print (\"Classifier:\", clf)\n",
    "print(\"Detailed classification report:\")\n",
    "print()\n",
    "print(\"The model is trained on the full development set.\")\n",
    "print(\"The scores are computed on the full evaluation set.\")\n",
    "print()\n",
    "y_true, y_pred = y_test, clf.predict(X_test)\n",
    "print(classification_report(y_true, y_pred))"
   ]
  },
  {
   "cell_type": "markdown",
   "metadata": {
    "id": "Ge8Qyq_dM_Fb"
   },
   "source": [
    "# **13. Predict the results** <a class=\"anchor\" id=\"13\"></a>\n",
    "\n"
   ]
  },
  {
   "cell_type": "code",
   "execution_count": 178,
   "metadata": {
    "colab": {
     "base_uri": "https://localhost:8080/"
    },
    "id": "X4QCMV1pM_Fc",
    "outputId": "6522084e-6e3b-4d0b-865d-6134f2d3dcbc"
   },
   "outputs": [
    {
     "data": {
      "text/plain": [
       "array([0, 1, 0, ..., 1, 0, 0])"
      ]
     },
     "execution_count": 178,
     "metadata": {},
     "output_type": "execute_result"
    }
   ],
   "source": [
    "y_pred = clf.predict(X_test)\n",
    "y_pred"
   ]
  },
  {
   "cell_type": "markdown",
   "metadata": {
    "id": "kOTJnsTlM_Fc"
   },
   "source": [
    "# **14. Check accuracy score** <a class=\"anchor\" id=\"14\"></a>\n"
   ]
  },
  {
   "cell_type": "code",
   "execution_count": 179,
   "metadata": {
    "colab": {
     "base_uri": "https://localhost:8080/"
    },
    "id": "cj_4SUgVM_Fc",
    "outputId": "6122edbf-be54-440e-ee17-650ff5183a95"
   },
   "outputs": [
    {
     "name": "stdout",
     "output_type": "stream",
     "text": [
      "Model accuracy score: 0.9469\n"
     ]
    }
   ],
   "source": [
    "from sklearn.metrics import accuracy_score\n",
    "print('Model accuracy score: {0:0.4f}'. format(accuracy_score(y_test, y_pred)))"
   ]
  },
  {
   "cell_type": "markdown",
   "metadata": {
    "id": "Ycbj0zyHM_Fd"
   },
   "source": [
    "### Compare the train-set and test-set accuracy\n",
    "\n"
   ]
  },
  {
   "cell_type": "code",
   "execution_count": 181,
   "metadata": {
    "colab": {
     "base_uri": "https://localhost:8080/"
    },
    "id": "DUr6RlMVM_Fd",
    "outputId": "cf04ca05-8c49-4a0f-d180-9782dd94d61c"
   },
   "outputs": [
    {
     "data": {
      "text/plain": [
       "array([1, 0, 1, ..., 0, 1, 0])"
      ]
     },
     "execution_count": 181,
     "metadata": {},
     "output_type": "execute_result"
    }
   ],
   "source": [
    "y_pred_train = clf.predict(X_train)\n",
    "y_pred_train"
   ]
  },
  {
   "cell_type": "code",
   "execution_count": 182,
   "metadata": {
    "colab": {
     "base_uri": "https://localhost:8080/"
    },
    "id": "oGDYHz1zM_Fd",
    "outputId": "863945bf-e516-4a93-c0b7-873b049c649c"
   },
   "outputs": [
    {
     "name": "stdout",
     "output_type": "stream",
     "text": [
      "Training-set accuracy score: 0.9468\n"
     ]
    }
   ],
   "source": [
    "print('Training-set accuracy score: {0:0.4f}'. format(accuracy_score(y_train, y_pred_train)))"
   ]
  },
  {
   "cell_type": "markdown",
   "metadata": {
    "id": "TqseFkDoM_Fh"
   },
   "source": [
    "### Classification Report\n",
    "\n",
    "\n",
    "**Classification report** is another way to evaluate the classification model performance. It displays the  **precision**, **recall**, **f1** and **support** scores for the model. I have described these terms in later.\n",
    "\n",
    "We can print a classification report as follows:-"
   ]
  },
  {
   "cell_type": "code",
   "execution_count": 183,
   "metadata": {
    "colab": {
     "base_uri": "https://localhost:8080/"
    },
    "id": "2KU-DgaVo8L_",
    "outputId": "c83530f6-7201-4bfd-f85a-755cde975d1c"
   },
   "outputs": [
    {
     "name": "stdout",
     "output_type": "stream",
     "text": [
      "              precision    recall  f1-score   support\n",
      "\n",
      "           0       0.94      1.00      0.97    157787\n",
      "           1       1.00      0.77      0.87     48415\n",
      "\n",
      "    accuracy                           0.95    206202\n",
      "   macro avg       0.97      0.89      0.92    206202\n",
      "weighted avg       0.95      0.95      0.94    206202\n",
      "\n"
     ]
    }
   ],
   "source": [
    "from sklearn.metrics import classification_report\n",
    "print(classification_report(y_test,y_pred))"
   ]
  },
  {
   "cell_type": "markdown",
   "metadata": {
    "id": "4VQxACpDqxDp"
   },
   "source": [
    "Base line model shows robust performance on both Train and test Signifying that pre-processing and feature wrangling has been done properly .\n",
    "\n"
   ]
  },
  {
   "cell_type": "markdown",
   "metadata": {
    "id": "li69rRUXM_Fd"
   },
   "source": [
    "### Check for overfitting and underfitting"
   ]
  },
  {
   "cell_type": "code",
   "execution_count": 184,
   "metadata": {
    "colab": {
     "base_uri": "https://localhost:8080/"
    },
    "id": "gflD-uOkM_Fe",
    "outputId": "f7b49388-6480-442e-8e7a-f2e8b5313142"
   },
   "outputs": [
    {
     "name": "stdout",
     "output_type": "stream",
     "text": [
      "Training set score: 0.9468\n",
      "Test set score: 0.9469\n"
     ]
    }
   ],
   "source": [
    "# print the scores on training and test set\n",
    "\n",
    "print('Training set score: {:.4f}'.format(clf.score(X_train, y_train)))\n",
    "\n",
    "print('Test set score: {:.4f}'.format(clf.score(X_test, y_test)))"
   ]
  },
  {
   "cell_type": "markdown",
   "metadata": {
    "id": "XuIXVdR7M_Fo"
   },
   "source": [
    "# **18. ROC - AUC** <a class=\"anchor\" id=\"18\"></a>\n",
    "\n",
    "\n",
    "### ROC Curve\n",
    "\n",
    "\n",
    "Another tool to measure the classification model performance visually is **ROC Curve**. ROC Curve stands for **Receiver Operating Characteristic Curve**. An **ROC Curve** is a plot which shows the performance of a classification model at various \n",
    "classification threshold levels. \n",
    "\n",
    "\n",
    "\n",
    "The **ROC Curve** plots the **True Positive Rate (TPR)** against the **False Positive Rate (FPR)** at various threshold levels.\n",
    "\n",
    "\n",
    "\n",
    "**True Positive Rate (TPR)** is also called **Recall**. It is defined as the ratio of `TP to (TP + FN)`.\n",
    "\n",
    "\n",
    "\n",
    "\n",
    "**False Positive Rate (FPR)** is defined as the ratio of `FP to (FP + TN)`.\n",
    "\n",
    "\n",
    "\n",
    "In the ROC Curve, we will focus on the TPR (True Positive Rate) and FPR (False Positive Rate) of a single point. This will give us the general performance of the ROC curve which consists of the TPR and FPR at various threshold levels. So, an ROC Curve plots TPR vs FPR at different classification threshold levels. If we lower the threshold levels, it may result in more items being classified as positve. It will increase both True Positives (TP) and False Positives (FP).\n",
    "\n"
   ]
  },
  {
   "cell_type": "code",
   "execution_count": 186,
   "metadata": {
    "colab": {
     "base_uri": "https://localhost:8080/",
     "height": 293
    },
    "id": "HT5y6H5MM_Fp",
    "outputId": "4755f1c2-1890-4a50-9c43-b3726ce2749b"
   },
   "outputs": [
    {
     "data": {
      "image/png": "[encoded data removed]",
      "text/plain": [
       "<Figure size 432x288 with 1 Axes>"
      ]
     },
     "metadata": {},
     "output_type": "display_data"
    }
   ],
   "source": [
    "# plot ROC Curve\n",
    "\n",
    "from sklearn.metrics import roc_curve\n",
    "\n",
    "fpr, tpr, thresholds = roc_curve(y_train.to_numpy(dtype=int), clf.predict(X_train))\n",
    "\n",
    "plt.figure(figsize=(6,4))\n",
    "\n",
    "plt.plot(fpr, tpr, linewidth=2)\n",
    "\n",
    "plt.plot([0,1], [0,1], 'k--' )\n",
    "\n",
    "plt.rcParams['font.size'] = 12\n",
    "\n",
    "plt.title('ROC curve for Gaussian Naive Bayes Classifier for Predicting Salaries')\n",
    "\n",
    "plt.xlabel('False Positive Rate (1 - Specificity)')\n",
    "\n",
    "plt.ylabel('True Positive Rate (Sensitivity)')\n",
    "\n",
    "plt.show()\n"
   ]
  },
  {
   "cell_type": "markdown",
   "metadata": {
    "id": "eqA3pSpbM_Fp"
   },
   "source": [
    "ROC curve help us to choose a threshold level that balances sensitivity and specificity for a particular context."
   ]
  },
  {
   "cell_type": "markdown",
   "metadata": {
    "id": "Xx5y0rw6M_Fp"
   },
   "source": [
    "### ROC  AUC\n",
    "\n",
    "\n",
    "**ROC AUC** stands for **Receiver Operating Characteristic - Area Under Curve**. It is a technique to compare classifier performance. In this technique, we measure the `area under the curve (AUC)`. A perfect classifier will have a ROC AUC equal to 1, whereas a purely random classifier will have a ROC AUC equal to 0.5. \n",
    "\n",
    "\n",
    "So, **ROC AUC** is the percentage of the ROC plot that is underneath the curve."
   ]
  },
  {
   "cell_type": "code",
   "execution_count": 187,
   "metadata": {
    "colab": {
     "base_uri": "https://localhost:8080/"
    },
    "id": "nwP8NJ2eM_Fq",
    "outputId": "666bab76-3414-4ee4-d2e3-3023f68fe24c"
   },
   "outputs": [
    {
     "name": "stdout",
     "output_type": "stream",
     "text": [
      "ROC AUC : 0.8868\n"
     ]
    }
   ],
   "source": [
    "# compute ROC AUC\n",
    "\n",
    "from sklearn.metrics import roc_auc_score\n",
    "\n",
    "ROC_AUC = roc_auc_score(y_test, y_pred)\n",
    "\n",
    "print('ROC AUC : {:.4f}'.format(ROC_AUC))"
   ]
  },
  {
   "cell_type": "markdown",
   "metadata": {
    "id": "guCvsSKxM_Fq"
   },
   "source": [
    "### Interpretation\n",
    "\n",
    "\n",
    "- ROC AUC is a single number summary of classifier performance. The higher the value, the better the classifier.\n",
    "\n",
    "- ROC AUC of our model approaches towards 1. So, we can conclude that our classifier does a good job in predicting whether it will rain tomorrow or not."
   ]
  },
  {
   "cell_type": "code",
   "execution_count": 189,
   "metadata": {
    "colab": {
     "base_uri": "https://localhost:8080/"
    },
    "id": "kfqAIE0WM_Fq",
    "outputId": "3bf42406-07a1-4fe0-fb06-cbaa6c7ea312"
   },
   "outputs": [
    {
     "name": "stdout",
     "output_type": "stream",
     "text": [
      "Cross validated ROC AUC : 0.7640\n"
     ]
    }
   ],
   "source": [
    "# calculate cross-validated ROC AUC \n",
    "\n",
    "from sklearn.model_selection import cross_val_score\n",
    "\n",
    "Cross_validated_ROC_AUC = cross_val_score(clf, X_train, y_train, cv=5, scoring='roc_auc').mean()\n",
    "\n",
    "print('Cross validated ROC AUC : {:.4f}'.format(Cross_validated_ROC_AUC))"
   ]
  },
  {
   "cell_type": "markdown",
   "metadata": {
    "id": "gygzCn_FM_Fq"
   },
   "source": [
    "# **19. k-Fold Cross Validation** <a class=\"anchor\" id=\"19\"></a>\n"
   ]
  },
  {
   "cell_type": "code",
   "execution_count": 191,
   "metadata": {
    "colab": {
     "base_uri": "https://localhost:8080/"
    },
    "id": "WE_qGT67M_Fr",
    "outputId": "306b55fa-c540-47eb-8991-214bb8a6c098"
   },
   "outputs": [
    {
     "name": "stdout",
     "output_type": "stream",
     "text": [
      "Cross-validation scores:[0.4538621  0.2580958  0.99972115 0.99305295 0.94715147 0.99265285\n",
      " 0.9478904  0.94607177 0.93220175 0.99331959]\n"
     ]
    }
   ],
   "source": [
    "# Applying 10-Fold Cross Validation\n",
    "import sklearn\n",
    "from sklearn.model_selection import cross_val_score\n",
    "\n",
    "scores = cross_val_score(clf, X_train, y_train, cv = 10, scoring='accuracy')\n",
    "\n",
    "print('Cross-validation scores:{}'.format(scores))"
   ]
  },
  {
   "cell_type": "markdown",
   "metadata": {
    "id": "TbMe035LM_Fr"
   },
   "source": [
    "We can summarize the cross-validation accuracy by calculating its mean."
   ]
  },
  {
   "cell_type": "code",
   "execution_count": 192,
   "metadata": {
    "colab": {
     "base_uri": "https://localhost:8080/"
    },
    "id": "QeMq-cgiM_Fr",
    "outputId": "520ee98a-80aa-412e-fbe2-bae60073ba1b"
   },
   "outputs": [
    {
     "name": "stdout",
     "output_type": "stream",
     "text": [
      "Average cross-validation score: 0.8464\n"
     ]
    }
   ],
   "source": [
    "# compute Average cross-validation score\n",
    "\n",
    "print('Average cross-validation score: {:.4f}'.format(scores.mean()))"
   ]
  },
  {
   "cell_type": "markdown",
   "metadata": {
    "id": "_UfGdz6dM_Fr"
   },
   "source": [
    "### Interpretation\n",
    "\n",
    "\n",
    "- Using the mean cross-validation, we can conclude that we expect the model to be around 84.64 % accurate on average.\n",
    "\n",
    "- If we look at all the 10 scores produced by the 10-fold cross-validation, we can also conclude that there is a relatively high variance in the accuracy between folds, ranging from 25% accuracy to 99.33 % accuracy. So, we can conclude that the model is not independent of the particular folds used for training.\n",
    "\n",
    "- Our original model accuracy is 0.9973, but the mean cross-validation accuracy is 0.9994. So, the 10-fold cross-validation accuracy shows robustness of the model "
   ]
  },
  {
   "cell_type": "markdown",
   "metadata": {
    "id": "vFndnuHb4RT0"
   },
   "source": [
    "\n",
    "\n",
    "```\n",
    "### \n",
    "**Hyperparameter Tuning and decision bounadary Analysis **\n",
    "```\n",
    "\n"
   ]
  },
  {
   "cell_type": "code",
   "execution_count": 215,
   "metadata": {
    "id": "b74qZpYQ4QqJ"
   },
   "outputs": [],
   "source": [
    "# parameters of RandomForest (max_depth,n_estimators)\n",
    "parameters=np.array([[2,1],[2,10],[2,100],[5,1],[5,10],[5,100],[15,1],[15,10],[15,100]])\n",
    "\n",
    "# init\n",
    "models=[]\n",
    "train_scores=[]\n",
    "test_scores=[]"
   ]
  },
  {
   "cell_type": "code",
   "execution_count": 194,
   "metadata": {
    "colab": {
     "base_uri": "https://localhost:8080/"
    },
    "id": "bTGYJKC44xfp",
    "outputId": "9b7a8c8b-03c5-498c-9dce-5e3a519f663b"
   },
   "outputs": [
    {
     "name": "stdout",
     "output_type": "stream",
     "text": [
      "max_depth=2 \t n_estimators=1 \t train_score=0.9929 \t test_score=0.9926\n",
      "max_depth=2 \t n_estimators=10 \t train_score=0.9912 \t test_score=0.9907\n",
      "max_depth=2 \t n_estimators=100 \t train_score=0.9400 \t test_score=0.9398\n",
      "max_depth=5 \t n_estimators=1 \t train_score=0.9929 \t test_score=0.9927\n",
      "max_depth=5 \t n_estimators=10 \t train_score=0.9994 \t test_score=0.9996\n",
      "max_depth=5 \t n_estimators=100 \t train_score=0.9998 \t test_score=0.9997\n",
      "max_depth=15 \t n_estimators=1 \t train_score=0.9990 \t test_score=0.9987\n",
      "max_depth=15 \t n_estimators=10 \t train_score=1.0000 \t test_score=0.9998\n",
      "max_depth=15 \t n_estimators=100 \t train_score=0.9999 \t test_score=0.9998\n"
     ]
    }
   ],
   "source": [
    "#Grid Search N_estimators , max_depth \n",
    "#train the model for each instance of the parameter \n",
    "\n",
    "for params in parameters:    \n",
    "    # train\n",
    "    forest = RandomForestClassifier(max_depth = params[0], n_estimators = params[1], random_state = 42)    \n",
    "    model = forest.fit(X_train, y_train)\n",
    "    # save the model and the scores\n",
    "    train_score = accuracy_score(y_train,model.predict(X_train))\n",
    "    test_score = accuracy_score(y_test,model.predict(X_test))\n",
    "    models.append(model)\n",
    "    train_scores.append(train_score)\n",
    "    test_scores.append(test_score)\n",
    "    # print scores\n",
    "    print(\"max_depth={} \\t n_estimators={} \\t train_score={:.4f} \\t test_score={:.4f}\".format(params[0],params[1],train_score,test_score))"
   ]
  },
  {
   "cell_type": "code",
   "execution_count": 195,
   "metadata": {
    "colab": {
     "base_uri": "https://localhost:8080/",
     "height": 444
    },
    "id": "KHLtNWzZ5iKu",
    "outputId": "c6c1b251-5fe8-4762-abc0-3d0635b37c17"
   },
   "outputs": [
    {
     "data": {
      "image/png": "[encoded data removed]",
      "text/plain": [
       "<Figure size 1080x1080 with 2 Axes>"
      ]
     },
     "metadata": {},
     "output_type": "display_data"
    }
   ],
   "source": [
    "max_depth = np.unique(parameters[:,0])\n",
    "n_estimators  = np.unique(parameters[:,1])\n",
    "train_scores_2d = np.around(np.array(train_scores).reshape(3,3),decimals=4)\n",
    "test_scores_2d =  np.around(np.array(test_scores).reshape(3,3),decimals=4)\n",
    "\n",
    "def plot_heap_map(X,x_params,y_params,title,ax):\n",
    "    #fig, ax = plt.subplots()\n",
    "    im = ax.imshow(X)\n",
    "    ax.set_xticks(np.arange(len(x_params)))\n",
    "    ax.set_yticks(np.arange(len(y_params)))\n",
    "    ax.set_xticklabels(x_params)\n",
    "    ax.set_yticklabels(y_params)\n",
    "    for i in range(len(x_params)):\n",
    "        for j in range(len(y_params)):\n",
    "            text = ax.text(j, i, X[i, j],\n",
    "                           ha=\"center\", va=\"center\", color=\"r\")\n",
    "    ax.set_title(title)\n",
    "fig, axes = plt.subplots(1, 2, figsize=(15, 15))\n",
    "plot_heap_map(train_scores_2d,n_estimators,max_depth,'train_scores',axes[0])\n",
    "plot_heap_map(test_scores_2d,n_estimators,max_depth,'test_scores',axes[1])\n",
    "plt.show()"
   ]
  },
  {
   "cell_type": "markdown",
   "metadata": {
    "id": "UBKlP7z-DLGI"
   },
   "source": [
    "### Will Choose N_estimators=100 and max_depth=2 as it was the fastest\n",
    "Even though it has least accuracy say **0.94** but it is decent so lets try to see if using Cross validation it improves "
   ]
  },
  {
   "cell_type": "code",
   "execution_count": 221,
   "metadata": {
    "colab": {
     "base_uri": "https://localhost:8080/"
    },
    "id": "am1gO7SSDKdV",
    "outputId": "c339dd0c-132d-4b2c-ce6d-245dfe6be0c1"
   },
   "outputs": [
    {
     "name": "stdout",
     "output_type": "stream",
     "text": [
      "Classifier: RandomForestClassifier(class_weight={0: 1, 1: 4}, criterion='entropy',\n",
      "                       max_depth=2, min_samples_split=25000, n_jobs=-1)\n",
      "Detailed classification report:\n",
      "\n",
      "The model is trained on the full development set.\n",
      "The scores are computed on the full evaluation set.\n",
      "\n",
      "              precision    recall  f1-score   support\n",
      "\n",
      "           0       0.99      1.00      1.00    157787\n",
      "           1       1.00      0.97      0.98     48415\n",
      "\n",
      "    accuracy                           0.99    206202\n",
      "   macro avg       1.00      0.98      0.99    206202\n",
      "weighted avg       0.99      0.99      0.99    206202\n",
      "\n"
     ]
    }
   ],
   "source": [
    "from sklearn.ensemble import RandomForestClassifier\n",
    "from sklearn.metrics import classification_report\n",
    "clf = RandomForestClassifier(n_estimators=100,criterion='entropy', max_depth=2,class_weight={0:1,1:4}, min_samples_split=25000,n_jobs=-1)\n",
    "\n",
    "clf.fit(X_train, y_train)\n",
    "print (\"Classifier:\", clf)\n",
    "print(\"Detailed classification report:\")\n",
    "print()\n",
    "print(\"The model is trained on the full development set.\")\n",
    "print(\"The scores are computed on the full evaluation set.\")\n",
    "print()\n",
    "y_true, y_pred = y_test, clf.predict(X_test)\n",
    "print(classification_report(y_true, y_pred))"
   ]
  },
  {
   "cell_type": "markdown",
   "metadata": {
    "id": "xRUKBO8UETmd"
   },
   "source": [
    "### It Worked !!!!"
   ]
  },
  {
   "cell_type": "code",
   "execution_count": 222,
   "metadata": {
    "colab": {
     "base_uri": "https://localhost:8080/"
    },
    "id": "uSS8RI6D59-7",
    "outputId": "abdcd066-1e76-4a84-9bc4-c83c432737a2"
   },
   "outputs": [
    {
     "name": "stdout",
     "output_type": "stream",
     "text": [
      "Cross-validation scores:[0.99981814 0.99978177 0.99972115 0.9990422  0.99972115 0.99970902\n",
      " 0.99983026 0.99973327 0.99220417 0.99939379]\n"
     ]
    }
   ],
   "source": [
    "# Applying 10-Fold Cross Validation\n",
    "import sklearn\n",
    "from sklearn.model_selection import cross_val_score\n",
    "\n",
    "scores = cross_val_score(clf, X_train, y_train, cv = 10, scoring='accuracy')\n",
    "\n",
    "print('Cross-validation scores:{}'.format(scores))"
   ]
  },
  {
   "cell_type": "code",
   "execution_count": 223,
   "metadata": {
    "colab": {
     "base_uri": "https://localhost:8080/"
    },
    "id": "f81qlOC_FhCF",
    "outputId": "4d512e67-0d8b-4034-c2b5-0aa173f1f580"
   },
   "outputs": [
    {
     "name": "stdout",
     "output_type": "stream",
     "text": [
      "Average cross-validation score: 0.9989\n"
     ]
    }
   ],
   "source": [
    "# compute Average cross-validation score\n",
    "\n",
    "print('Average cross-validation score: {:.4f}'.format(scores.mean()))"
   ]
  },
  {
   "cell_type": "markdown",
   "metadata": {
    "id": "KOFYQ88JFMop"
   },
   "source": [
    "### Interpretation\n",
    "\n",
    "\n",
    "- Using the mean cross-validation, we can conclude that we expect the model to be around 84.64 % accurate on average.\n",
    "\n",
    "- If we look at all the 10 scores produced by the 10-fold cross-validation, we can also conclude that there is a relatively low variance in the accuracy between folds, ranging from 99.70% accuracy to 99.98 % accuracy. So, we can conclude that the model is  independent of the particular folds used for training.\n",
    "\n",
    "- Our original model accuracy is 84.64, but the mean cross-validation accuracy is 99.89. So, the 10-fold cross-validation accuracy shows robustness of the model "
   ]
  },
  {
   "cell_type": "markdown",
   "metadata": {
    "id": "UcqRekMaEdAb"
   },
   "source": [
    "Case 1: Order Cancelled\n",
    "\n",
    "Less Error. There is very less true negative scenarios in both train and test. Hence the model is stable.\n",
    "False Negative and False positive rate is very low, model prediction is very accurate and reliable.\n",
    "\n",
    "Case 2: Order Not Cancelled\n",
    "Less Error. Since this is a majorly populated class, it is dominating the imbalance amongst classes.\n",
    "With hyper tuning we were able to accurately predict the order cancellation and not cancel."
   ]
  },
  {
   "cell_type": "code",
   "execution_count": null,
   "metadata": {},
   "outputs": [],
   "source": []
  }
 ],
 "metadata": {
  "colab": {
   "collapsed_sections": [],
   "name": "GRP_108_Order_Cancellation.ipynb",
   "provenance": []
  },
  "interpreter": {
   "hash": "ad2bdc8ecc057115af97d19610ffacc2b4e99fae6737bb82f5d7fb13d2f2c186"
  },
  "kernelspec": {
   "display_name": "Python 3 (ipykernel)",
   "language": "python",
   "name": "python3"
  },
  "language_info": {
   "codemirror_mode": {
    "name": "ipython",
    "version": 3
   },
   "file_extension": ".py",
   "mimetype": "text/x-python",
   "name": "python",
   "nbconvert_exporter": "python",
   "pygments_lexer": "ipython3",
   "version": "3.9.7"
  }
 },
 "nbformat": 4,
 "nbformat_minor": 1
}
